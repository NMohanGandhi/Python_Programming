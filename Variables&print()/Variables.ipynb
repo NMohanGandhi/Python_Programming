{
 "cells": [
  {
   "cell_type": "markdown",
   "id": "ba9545cb",
   "metadata": {},
   "source": [
    "# variables or identifiers are used to store data values like a containers"
   ]
  },
  {
   "cell_type": "markdown",
   "id": "28e7767c",
   "metadata": {},
   "source": [
    "## python has no command for declaring a variable"
   ]
  },
  {
   "cell_type": "code",
   "execution_count": 1,
   "id": "f3b5f66d",
   "metadata": {},
   "outputs": [
    {
     "name": "stdout",
     "output_type": "stream",
     "text": [
      "5\n",
      "mohan\n"
     ]
    }
   ],
   "source": [
    "x=5\n",
    "y=\"mohan\"\n",
    "print(x)\n",
    "print(y)"
   ]
  },
  {
   "cell_type": "code",
   "execution_count": 2,
   "id": "36f3ebb6",
   "metadata": {},
   "outputs": [
    {
     "name": "stdout",
     "output_type": "stream",
     "text": [
      "Sally\n"
     ]
    }
   ],
   "source": [
    "x = 4       # x is of type int\n",
    "x = \"Sally\" # x is now of type str\n",
    "print(x)"
   ]
  },
  {
   "cell_type": "code",
   "execution_count": 3,
   "id": "73bb1b39",
   "metadata": {},
   "outputs": [
    {
     "name": "stdout",
     "output_type": "stream",
     "text": [
      "4\n"
     ]
    }
   ],
   "source": [
    "x = \"sally\"      # x is of type str\n",
    "x = 4            # x is now of type int\n",
    "print(x)"
   ]
  },
  {
   "cell_type": "markdown",
   "id": "608c1932",
   "metadata": {},
   "source": [
    "#  casting"
   ]
  },
  {
   "cell_type": "markdown",
   "id": "9ebf297a",
   "metadata": {},
   "source": [
    "## If you want to specify the data type of a variable, this can be done with casting."
   ]
  },
  {
   "cell_type": "code",
   "execution_count": 5,
   "id": "5ac9bf25",
   "metadata": {},
   "outputs": [
    {
     "name": "stdout",
     "output_type": "stream",
     "text": [
      "3\n",
      "3\n",
      "3.0\n"
     ]
    }
   ],
   "source": [
    "x = str(3)    # x will be '3'\n",
    "y = int(3)    # y will be 3\n",
    "z = float(3)  # z will be 3.0\n",
    "print(x)\n",
    "print(y)\n",
    "print(z)"
   ]
  },
  {
   "cell_type": "markdown",
   "id": "320984fe",
   "metadata": {},
   "source": [
    "# Get the Type\n",
    "You can get the data type of a variable with the type() function."
   ]
  },
  {
   "cell_type": "code",
   "execution_count": 7,
   "id": "0432766d",
   "metadata": {},
   "outputs": [
    {
     "name": "stdout",
     "output_type": "stream",
     "text": [
      "<class 'int'>\n",
      "<class 'str'>\n"
     ]
    }
   ],
   "source": [
    "x = 5\n",
    "y = \"mani\"\n",
    "print(type(x))\n",
    "print(type(y))"
   ]
  },
  {
   "cell_type": "markdown",
   "id": "e37c950b",
   "metadata": {},
   "source": [
    "# Single or Double Quotes?\n",
    "String variables can be declared either by using single or double quotes:"
   ]
  },
  {
   "cell_type": "code",
   "execution_count": 8,
   "id": "4f9d149b",
   "metadata": {},
   "outputs": [
    {
     "name": "stdout",
     "output_type": "stream",
     "text": [
      "yadav\n",
      "yadav\n"
     ]
    }
   ],
   "source": [
    "x = \"yadav\"\n",
    "print(x)\n",
    "#double quotes are the same as single quotes:\n",
    "x = 'yadav'\n",
    "print(x)\n"
   ]
  },
  {
   "cell_type": "code",
   "execution_count": 9,
   "id": "eea9edc0",
   "metadata": {},
   "outputs": [
    {
     "name": "stdout",
     "output_type": "stream",
     "text": [
      "<class 'str'>\n",
      "<class 'str'>\n"
     ]
    }
   ],
   "source": [
    "a=\"mohan\"\n",
    "b='mohan'\n",
    "print(type(a))\n",
    "print(type(b))"
   ]
  },
  {
   "cell_type": "markdown",
   "id": "ba2cf2d7",
   "metadata": {},
   "source": [
    "# Case-Sensitive\n",
    "Variable names are case-sensitive."
   ]
  },
  {
   "cell_type": "code",
   "execution_count": 26,
   "id": "9ed041ab",
   "metadata": {},
   "outputs": [
    {
     "name": "stdout",
     "output_type": "stream",
     "text": [
      "mohan\n",
      "2163993756464\n",
      "yadav\n",
      "2163993769008\n"
     ]
    }
   ],
   "source": [
    "b=\"mohan\"\n",
    "B=\"yadav\"  # b will not overwrite B\n",
    "print(b)\n",
    "print(id(b))\n",
    "print(B)\n",
    "print(id(B))"
   ]
  },
  {
   "cell_type": "code",
   "execution_count": 11,
   "id": "8b440546",
   "metadata": {},
   "outputs": [
    {
     "name": "stdout",
     "output_type": "stream",
     "text": [
      "mohan\n",
      "5\n"
     ]
    }
   ],
   "source": [
    "b=\"mohan\"\n",
    "B=5         # b will not overwrite B\n",
    "print(b)\n",
    "print(B)"
   ]
  },
  {
   "cell_type": "markdown",
   "id": "af547ea3",
   "metadata": {},
   "source": [
    "# Variable Names\n",
    "A variable can have a short name (like x and y) or a more descriptive name (age, carname, total_volume). Rules for Python variables:"
   ]
  },
  {
   "cell_type": "markdown",
   "id": "e7d3dfd1",
   "metadata": {},
   "source": [
    "# A variable name must start with a letter or the underscore character"
   ]
  },
  {
   "cell_type": "markdown",
   "id": "d352828e",
   "metadata": {},
   "source": [
    "# A variable name cannot start with a number"
   ]
  },
  {
   "cell_type": "markdown",
   "id": "934fdf09",
   "metadata": {},
   "source": [
    "# A variable name can only contain alpha-numeric characters and underscores (A-z, 0-9, and _ )"
   ]
  },
  {
   "cell_type": "markdown",
   "id": "93e9ed0e",
   "metadata": {},
   "source": [
    "# Variable names are case-sensitive (age, Age and AGE are three different variables)"
   ]
  },
  {
   "cell_type": "markdown",
   "id": "7fd19412",
   "metadata": {},
   "source": [
    "### legal variables"
   ]
  },
  {
   "cell_type": "code",
   "execution_count": 3,
   "id": "c6b6bd36",
   "metadata": {},
   "outputs": [
    {
     "name": "stdout",
     "output_type": "stream",
     "text": [
      "mohan\n",
      "giri\n",
      "6\n",
      "yadav\n",
      "John\n",
      "John\n"
     ]
    }
   ],
   "source": [
    "myvar = \"mohan\"\n",
    "my_var = \"giri\"\n",
    "_my_var = \"6\"\n",
    "myVar = \"yadav\"\n",
    "MYVAR = \"John\"\n",
    "myvar2 = \"John\"\n",
    "\n",
    "\n",
    "print(myvar)\n",
    "print(my_var)\n",
    "print(_my_var)\n",
    "print(myVar)\n",
    "print(MYVAR)\n",
    "print(myvar2)\n"
   ]
  },
  {
   "cell_type": "code",
   "execution_count": 4,
   "id": "5959c38d",
   "metadata": {},
   "outputs": [
    {
     "ename": "SyntaxError",
     "evalue": "invalid decimal literal (3260989732.py, line 1)",
     "output_type": "error",
     "traceback": [
      "\u001b[1;36m  Input \u001b[1;32mIn [4]\u001b[1;36m\u001b[0m\n\u001b[1;33m    2mohan=\"no\"\u001b[0m\n\u001b[1;37m    ^\u001b[0m\n\u001b[1;31mSyntaxError\u001b[0m\u001b[1;31m:\u001b[0m invalid decimal literal\n"
     ]
    }
   ],
   "source": [
    "2mohan=\"no\"\n",
    "2mohan"
   ]
  },
  {
   "cell_type": "code",
   "execution_count": 5,
   "id": "0d155a45",
   "metadata": {},
   "outputs": [
    {
     "data": {
      "text/plain": [
       "'yes'"
      ]
     },
     "execution_count": 5,
     "metadata": {},
     "output_type": "execute_result"
    }
   ],
   "source": [
    "moha2n = \"yes\"\n",
    "moha2n"
   ]
  },
  {
   "cell_type": "markdown",
   "id": "d0aa8e84",
   "metadata": {},
   "source": [
    "###  Illegal variables"
   ]
  },
  {
   "cell_type": "code",
   "execution_count": 6,
   "id": "2c1f5005",
   "metadata": {},
   "outputs": [
    {
     "ename": "SyntaxError",
     "evalue": "invalid decimal literal (2185399839.py, line 1)",
     "output_type": "error",
     "traceback": [
      "\u001b[1;36m  Input \u001b[1;32mIn [6]\u001b[1;36m\u001b[0m\n\u001b[1;33m    2myvar = \"John\"\u001b[0m\n\u001b[1;37m    ^\u001b[0m\n\u001b[1;31mSyntaxError\u001b[0m\u001b[1;31m:\u001b[0m invalid decimal literal\n"
     ]
    }
   ],
   "source": [
    "2myvar = \"John\"\n",
    "my-var = \"John\"\n",
    "my var = \"John\""
   ]
  },
  {
   "cell_type": "markdown",
   "id": "00cd360a",
   "metadata": {},
   "source": [
    "# Multi Words Variable Names"
   ]
  },
  {
   "cell_type": "raw",
   "id": "384f839b",
   "metadata": {},
   "source": [
    "Variable names with more than one word can be difficult to read.\n",
    "\n",
    "There are several techniques you can use to make them more readable:"
   ]
  },
  {
   "cell_type": "markdown",
   "id": "5e8ec7ce",
   "metadata": {},
   "source": [
    "#  Camel Case\n",
    "Each word, except the first, starts with a capital letter:"
   ]
  },
  {
   "cell_type": "code",
   "execution_count": 18,
   "id": "13ad0355",
   "metadata": {},
   "outputs": [
    {
     "name": "stdout",
     "output_type": "stream",
     "text": [
      "gandhi maahan\n"
     ]
    }
   ],
   "source": [
    "myVariableName = \"gandhi maahan\"\n",
    "print(myVariableName)"
   ]
  },
  {
   "cell_type": "markdown",
   "id": "3be67535",
   "metadata": {},
   "source": [
    "# Pascal Case\n",
    "Each word starts with a capital letter:"
   ]
  },
  {
   "cell_type": "code",
   "execution_count": 21,
   "id": "babc12aa",
   "metadata": {},
   "outputs": [
    {
     "name": "stdout",
     "output_type": "stream",
     "text": [
      "ldijedoewd\n"
     ]
    }
   ],
   "source": [
    "MyVariableName = \"ldijedoewd\"\n",
    "print(MyVariableName)"
   ]
  },
  {
   "cell_type": "markdown",
   "id": "e9bffd40",
   "metadata": {},
   "source": [
    "### Snake Case\n",
    "Each word is separated by an underscore character:"
   ]
  },
  {
   "cell_type": "code",
   "execution_count": 22,
   "id": "22a954ea",
   "metadata": {},
   "outputs": [
    {
     "name": "stdout",
     "output_type": "stream",
     "text": [
      "38892829hblb\n"
     ]
    }
   ],
   "source": [
    "my_variable_name =\"38892829hblb\"\n",
    "print(my_variable_name)"
   ]
  },
  {
   "cell_type": "markdown",
   "id": "ed502204",
   "metadata": {},
   "source": [
    "# Many Values to Multiple Variables\n",
    "Python allows you to assign values to multiple variables in one line:"
   ]
  },
  {
   "cell_type": "code",
   "execution_count": 23,
   "id": "1f87db0a",
   "metadata": {},
   "outputs": [
    {
     "name": "stdout",
     "output_type": "stream",
     "text": [
      "Orange\n",
      "Banana\n",
      "Cherry\n"
     ]
    }
   ],
   "source": [
    "x, y, z = \"Orange\", \"Banana\", \"Cherry\"\n",
    "print(x)\n",
    "print(y)\n",
    "print(z)"
   ]
  },
  {
   "cell_type": "markdown",
   "id": "9ad5d1e7",
   "metadata": {},
   "source": [
    "# One Value to Multiple Variables\n",
    "And you can assign the same value to multiple variables in one line:"
   ]
  },
  {
   "cell_type": "code",
   "execution_count": 24,
   "id": "d816056f",
   "metadata": {},
   "outputs": [
    {
     "name": "stdout",
     "output_type": "stream",
     "text": [
      "Orange\n",
      "Orange\n",
      "Orange\n"
     ]
    }
   ],
   "source": [
    "x = y = z = \"Orange\"\n",
    "print(x)\n",
    "print(y)\n",
    "print(z)"
   ]
  },
  {
   "cell_type": "markdown",
   "id": "d72f25ad",
   "metadata": {},
   "source": [
    "# Unpack a Collection\n",
    "If you have a collection of values in a list, tuple etc. Python allows you to extract the values into variables. This is called unpacking."
   ]
  },
  {
   "cell_type": "code",
   "execution_count": 25,
   "id": "42e974a9",
   "metadata": {},
   "outputs": [
    {
     "name": "stdout",
     "output_type": "stream",
     "text": [
      "apple\n",
      "banana\n",
      "cherry\n"
     ]
    }
   ],
   "source": [
    "fruits = [\"apple\", \"banana\", \"cherry\"]\n",
    "x, y, z = fruits\n",
    "print(x)\n",
    "print(y)\n",
    "print(z)\n"
   ]
  },
  {
   "cell_type": "code",
   "execution_count": null,
   "id": "949d95dd",
   "metadata": {},
   "outputs": [],
   "source": []
  },
  {
   "cell_type": "code",
   "execution_count": null,
   "id": "2a5ba9d5",
   "metadata": {},
   "outputs": [],
   "source": []
  },
  {
   "cell_type": "code",
   "execution_count": null,
   "id": "e1eb7316",
   "metadata": {},
   "outputs": [],
   "source": []
  },
  {
   "cell_type": "code",
   "execution_count": null,
   "id": "fbf3d125",
   "metadata": {},
   "outputs": [],
   "source": []
  }
 ],
 "metadata": {
  "kernelspec": {
   "display_name": "Python 3 (ipykernel)",
   "language": "python",
   "name": "python3"
  },
  "language_info": {
   "codemirror_mode": {
    "name": "ipython",
    "version": 3
   },
   "file_extension": ".py",
   "mimetype": "text/x-python",
   "name": "python",
   "nbconvert_exporter": "python",
   "pygments_lexer": "ipython3",
   "version": "3.10.2"
  }
 },
 "nbformat": 4,
 "nbformat_minor": 5
}
