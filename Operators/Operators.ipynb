{
 "cells": [
  {
   "cell_type": "markdown",
   "id": "38ce9a0d",
   "metadata": {},
   "source": [
    "# operators"
   ]
  },
  {
   "cell_type": "markdown",
   "id": "2794dd7a",
   "metadata": {},
   "source": [
    "### operator is a symbol that performs certain operations"
   ]
  },
  {
   "cell_type": "raw",
   "id": "fe0a0ade",
   "metadata": {},
   "source": [
    "1.Arithmetic operators\n",
    "2.Assignment operators\n",
    "3.Relational or comparision operators\n",
    "4.Logical operators\n",
    "5.identity operators\n",
    "6.Membership operator\n",
    "7.Bitwise operator"
   ]
  },
  {
   "cell_type": "markdown",
   "id": "a598fd42",
   "metadata": {},
   "source": [
    "# Arithmetic operators"
   ]
  },
  {
   "cell_type": "markdown",
   "id": "3889a481",
   "metadata": {},
   "source": [
    "###### we can use +,* operator for strings also"
   ]
  },
  {
   "cell_type": "code",
   "execution_count": 2,
   "id": "7ece5917",
   "metadata": {},
   "outputs": [],
   "source": [
    "a=10\n",
    "b=20"
   ]
  },
  {
   "cell_type": "markdown",
   "id": "f21dc6fe",
   "metadata": {},
   "source": [
    "# Addition"
   ]
  },
  {
   "cell_type": "code",
   "execution_count": 3,
   "id": "84ade7e1",
   "metadata": {},
   "outputs": [
    {
     "data": {
      "text/plain": [
       "30"
      ]
     },
     "execution_count": 3,
     "metadata": {},
     "output_type": "execute_result"
    }
   ],
   "source": [
    "# Addition\n",
    "a+b"
   ]
  },
  {
   "cell_type": "code",
   "execution_count": null,
   "id": "7f99d922",
   "metadata": {},
   "outputs": [],
   "source": [
    "\"\"\"if you want to use \"+\" operator for string type then compulsory both arguments should be\n",
    "string type only otherwice we will get error \"\"\" "
   ]
  },
  {
   "cell_type": "code",
   "execution_count": 20,
   "id": "6b8e61a0",
   "metadata": {},
   "outputs": [
    {
     "data": {
      "text/plain": [
       "'mohanyadav'"
      ]
     },
     "execution_count": 20,
     "metadata": {},
     "output_type": "execute_result"
    }
   ],
   "source": [
    "a = \"mohan\"\n",
    "b=\"yadav\"\n",
    "a+b"
   ]
  },
  {
   "cell_type": "code",
   "execution_count": 31,
   "id": "772cf9ef",
   "metadata": {},
   "outputs": [
    {
     "data": {
      "text/plain": [
       "'mohan10'"
      ]
     },
     "execution_count": 31,
     "metadata": {},
     "output_type": "execute_result"
    }
   ],
   "source": [
    "a=\"mohan\"+\"10\"\n",
    "a"
   ]
  },
  {
   "cell_type": "code",
   "execution_count": 32,
   "id": "6599c400",
   "metadata": {},
   "outputs": [
    {
     "ename": "TypeError",
     "evalue": "can only concatenate str (not \"int\") to str",
     "output_type": "error",
     "traceback": [
      "\u001b[1;31m---------------------------------------------------------------------------\u001b[0m",
      "\u001b[1;31mTypeError\u001b[0m                                 Traceback (most recent call last)",
      "Input \u001b[1;32mIn [32]\u001b[0m, in \u001b[0;36m<cell line: 1>\u001b[1;34m()\u001b[0m\n\u001b[1;32m----> 1\u001b[0m b\u001b[38;5;241m=\u001b[39m\u001b[38;5;124;43m\"\u001b[39;49m\u001b[38;5;124;43mmohan\u001b[39;49m\u001b[38;5;124;43m\"\u001b[39;49m\u001b[38;5;241;43m+\u001b[39;49m\u001b[38;5;241;43m10\u001b[39;49m\n\u001b[0;32m      2\u001b[0m b\n",
      "\u001b[1;31mTypeError\u001b[0m: can only concatenate str (not \"int\") to str"
     ]
    }
   ],
   "source": [
    "b=\"mohan\"+10\n",
    "b"
   ]
  },
  {
   "cell_type": "markdown",
   "id": "48ad56b6",
   "metadata": {},
   "source": [
    "# Subtraction"
   ]
  },
  {
   "cell_type": "code",
   "execution_count": 4,
   "id": "1835d25d",
   "metadata": {},
   "outputs": [
    {
     "data": {
      "text/plain": [
       "-10"
      ]
     },
     "execution_count": 4,
     "metadata": {},
     "output_type": "execute_result"
    }
   ],
   "source": [
    "#subtraction\n",
    "a-b"
   ]
  },
  {
   "cell_type": "code",
   "execution_count": 2,
   "id": "3691df53",
   "metadata": {},
   "outputs": [
    {
     "data": {
      "text/plain": [
       "-1"
      ]
     },
     "execution_count": 2,
     "metadata": {},
     "output_type": "execute_result"
    }
   ],
   "source": [
    "5-6"
   ]
  },
  {
   "cell_type": "code",
   "execution_count": 3,
   "id": "7b07fd9b",
   "metadata": {},
   "outputs": [
    {
     "data": {
      "text/plain": [
       "2"
      ]
     },
     "execution_count": 3,
     "metadata": {},
     "output_type": "execute_result"
    }
   ],
   "source": [
    "5-3"
   ]
  },
  {
   "cell_type": "markdown",
   "id": "b17135c7",
   "metadata": {},
   "source": [
    "# Multiplication"
   ]
  },
  {
   "cell_type": "code",
   "execution_count": null,
   "id": "d57dc2e0",
   "metadata": {},
   "outputs": [],
   "source": [
    "\"\"\"if you want to use \"*\" operator for string type then compulsory one arguments should be\n",
    "int type and other arguments should be string type  \"\"\" "
   ]
  },
  {
   "cell_type": "code",
   "execution_count": 7,
   "id": "40c4de75",
   "metadata": {},
   "outputs": [
    {
     "data": {
      "text/plain": [
       "'mohan mohan mohan '"
      ]
     },
     "execution_count": 7,
     "metadata": {},
     "output_type": "execute_result"
    }
   ],
   "source": [
    "v=\"mohan \"\n",
    "v*3"
   ]
  },
  {
   "cell_type": "code",
   "execution_count": 8,
   "id": "c3e4354d",
   "metadata": {},
   "outputs": [
    {
     "data": {
      "text/plain": [
       "'mohan mohan mohan mohan '"
      ]
     },
     "execution_count": 8,
     "metadata": {},
     "output_type": "execute_result"
    }
   ],
   "source": [
    "v=\"mohan \"*4\n",
    "v\n"
   ]
  },
  {
   "cell_type": "code",
   "execution_count": null,
   "id": "4f9be411",
   "metadata": {},
   "outputs": [],
   "source": [
    "i=2"
   ]
  },
  {
   "cell_type": "code",
   "execution_count": 6,
   "id": "254eea84",
   "metadata": {},
   "outputs": [
    {
     "name": "stdout",
     "output_type": "stream",
     "text": [
      "200\n"
     ]
    }
   ],
   "source": [
    "#multiplication\n",
    "print(a*b)"
   ]
  },
  {
   "cell_type": "code",
   "execution_count": 27,
   "id": "cca094e0",
   "metadata": {},
   "outputs": [
    {
     "data": {
      "text/plain": [
       "'hero hero hero hero hero '"
      ]
     },
     "execution_count": 27,
     "metadata": {},
     "output_type": "execute_result"
    }
   ],
   "source": [
    "a = \"hero \"\n",
    "a*5"
   ]
  },
  {
   "cell_type": "markdown",
   "id": "4268c5fe",
   "metadata": {},
   "source": [
    "# Division"
   ]
  },
  {
   "cell_type": "code",
   "execution_count": 18,
   "id": "6d1e0f0d",
   "metadata": {},
   "outputs": [
    {
     "data": {
      "text/plain": [
       "0.5"
      ]
     },
     "execution_count": 18,
     "metadata": {},
     "output_type": "execute_result"
    }
   ],
   "source": [
    "# division\n",
    "a=10\n",
    "b=20\n",
    "a/b"
   ]
  },
  {
   "cell_type": "markdown",
   "id": "37f2de57",
   "metadata": {},
   "source": [
    "# Division"
   ]
  },
  {
   "cell_type": "markdown",
   "id": "7a0ff4a1",
   "metadata": {},
   "source": [
    "##### / operator always performs floating point arithmetic .Hence it will always returns Float value"
   ]
  },
  {
   "cell_type": "code",
   "execution_count": 1,
   "id": "2b255a43",
   "metadata": {},
   "outputs": [
    {
     "data": {
      "text/plain": [
       "2.5"
      ]
     },
     "execution_count": 1,
     "metadata": {},
     "output_type": "execute_result"
    }
   ],
   "source": [
    "a=5    # here a is Dividend\n",
    "b=2    # b is a Divisor\n",
    "a/b   # normal division cant returns the quotient as output\n",
    "#in c++ only returns integer value as output,in python returns float value\n"
   ]
  },
  {
   "cell_type": "code",
   "execution_count": 13,
   "id": "00dc3307",
   "metadata": {},
   "outputs": [
    {
     "data": {
      "text/plain": [
       "2.0"
      ]
     },
     "execution_count": 13,
     "metadata": {},
     "output_type": "execute_result"
    }
   ],
   "source": [
    "a=4\n",
    "b=2\n",
    "a/b"
   ]
  },
  {
   "cell_type": "code",
   "execution_count": 14,
   "id": "835c307c",
   "metadata": {},
   "outputs": [
    {
     "data": {
      "text/plain": [
       "0.1"
      ]
     },
     "execution_count": 14,
     "metadata": {},
     "output_type": "execute_result"
    }
   ],
   "source": [
    "a=2\n",
    "b=20\n",
    "a/b"
   ]
  },
  {
   "cell_type": "markdown",
   "id": "3ff4fa5b",
   "metadata": {},
   "source": [
    "# Floor division"
   ]
  },
  {
   "cell_type": "markdown",
   "id": "aace8163",
   "metadata": {},
   "source": [
    "###### //  floor division can performs both floating point and integral arithmetic.if arguments are int type then result is int type ...if atleast one arguments is float type then result is float type"
   ]
  },
  {
   "cell_type": "code",
   "execution_count": null,
   "id": "ab1194f6",
   "metadata": {},
   "outputs": [],
   "source": [
    "#floor means round numbers down to the nearest integer"
   ]
  },
  {
   "cell_type": "code",
   "execution_count": 8,
   "id": "76238e34",
   "metadata": {},
   "outputs": [
    {
     "data": {
      "text/plain": [
       "0"
      ]
     },
     "execution_count": 8,
     "metadata": {},
     "output_type": "execute_result"
    }
   ],
   "source": [
    "a=10\n",
    "b=20 # actually a/b is 0.5 in normal division but  floor division round the nearest integer as output\n",
    "a//b"
   ]
  },
  {
   "cell_type": "code",
   "execution_count": 6,
   "id": "db480432",
   "metadata": {},
   "outputs": [
    {
     "data": {
      "text/plain": [
       "2"
      ]
     },
     "execution_count": 6,
     "metadata": {},
     "output_type": "execute_result"
    }
   ],
   "source": [
    "a=5\n",
    "b=2  # here also same a/b = 2.5,round the nearest integer as 2\n",
    "a//b"
   ]
  },
  {
   "cell_type": "code",
   "execution_count": 10,
   "id": "582dc66d",
   "metadata": {},
   "outputs": [
    {
     "name": "stdout",
     "output_type": "stream",
     "text": [
      "0\n",
      "1\n",
      "5\n",
      "-6\n",
      "22\n",
      "10\n"
     ]
    }
   ],
   "source": [
    "import math\n",
    "print(math.floor(0.77))\n",
    "print(math.floor(1.4))\n",
    "print(math.floor(5.3))\n",
    "print(math.floor(-5.3))\n",
    "print(math.floor(22.6))\n",
    "print(math.floor(10.0))"
   ]
  },
  {
   "cell_type": "markdown",
   "id": "238f878e",
   "metadata": {},
   "source": [
    "# ciel()\n"
   ]
  },
  {
   "cell_type": "code",
   "execution_count": 11,
   "id": "7b67325a",
   "metadata": {},
   "outputs": [],
   "source": [
    "# This method round a number UP to the nearest number"
   ]
  },
  {
   "cell_type": "code",
   "execution_count": 15,
   "id": "6311f8f9",
   "metadata": {},
   "outputs": [
    {
     "name": "stdout",
     "output_type": "stream",
     "text": [
      "1\n",
      "2\n",
      "6\n",
      "-5\n",
      "23\n",
      "10\n"
     ]
    }
   ],
   "source": [
    "import math\n",
    "print(math.ceil(0.77))\n",
    "print(math.ceil(1.4))\n",
    "print(math.ceil(5.3))\n",
    "print(math.ceil(-5.3))\n",
    "print(math.ceil(22.6))\n",
    "print(math.ceil(10.0))"
   ]
  },
  {
   "cell_type": "markdown",
   "id": "e039beb9",
   "metadata": {},
   "source": [
    "# exponent"
   ]
  },
  {
   "cell_type": "code",
   "execution_count": 16,
   "id": "5c8c1c54",
   "metadata": {},
   "outputs": [
    {
     "data": {
      "text/plain": [
       "100000000000000000000"
      ]
     },
     "execution_count": 16,
     "metadata": {},
     "output_type": "execute_result"
    }
   ],
   "source": [
    "a**b"
   ]
  },
  {
   "cell_type": "code",
   "execution_count": 17,
   "id": "76fd1242",
   "metadata": {},
   "outputs": [
    {
     "data": {
      "text/plain": [
       "1"
      ]
     },
     "execution_count": 17,
     "metadata": {},
     "output_type": "execute_result"
    }
   ],
   "source": [
    "a=1\n",
    "b=2\n",
    "a**b"
   ]
  },
  {
   "cell_type": "code",
   "execution_count": 1,
   "id": "e339f841",
   "metadata": {},
   "outputs": [
    {
     "data": {
      "text/plain": [
       "4"
      ]
     },
     "execution_count": 1,
     "metadata": {},
     "output_type": "execute_result"
    }
   ],
   "source": []
  },
  {
   "cell_type": "code",
   "execution_count": 1,
   "id": "28a862b1",
   "metadata": {},
   "outputs": [
    {
     "name": "stdout",
     "output_type": "stream",
     "text": [
      "13\n",
      "5\n",
      "36\n",
      "2.25\n",
      "2\n",
      "1\n",
      "6561\n"
     ]
    }
   ],
   "source": [
    "# Examples of Arithmetic Operator\n",
    "a = 9\n",
    "b = 4\n",
    "  \n",
    "# Addition of numbers\n",
    "add = a + b\n",
    "  \n",
    "# Subtraction of numbers\n",
    "sub = a - b\n",
    "  \n",
    "# Multiplication of number\n",
    "mul = a * b\n",
    "  \n",
    "# Division(float) of number\n",
    "div1 = a / b\n",
    "  \n",
    "# Division(floor) of number\n",
    "div2 = a // b\n",
    "  \n",
    "# Modulo of both number\n",
    "mod = a % b\n",
    "  \n",
    "# Power\n",
    "p = a ** b\n",
    "  \n",
    "# print results\n",
    "print(add)\n",
    "print(sub)\n",
    "print(mul)\n",
    "print(div1)\n",
    "print(div2)\n",
    "print(mod)\n",
    "print(p)"
   ]
  },
  {
   "cell_type": "raw",
   "id": "3b9be596",
   "metadata": {},
   "source": []
  },
  {
   "cell_type": "markdown",
   "id": "af69bdab",
   "metadata": {},
   "source": [
    "# Assignment Operators"
   ]
  },
  {
   "cell_type": "markdown",
   "id": "f1072f60",
   "metadata": {},
   "source": [
    "###### Assignment operators are used to assign values to variables:"
   ]
  },
  {
   "cell_type": "raw",
   "id": "d969ef5b",
   "metadata": {},
   "source": [
    "# + ==>Addition\n",
    "- ==>Subtraction\n",
    "* ==>Multiplication\n",
    "/ ==>Division operator\n",
    "% ===>Modulo operator\n",
    "// ==>Floor Division operator\n",
    "** ==>Exponent operator or power operator"
   ]
  },
  {
   "cell_type": "code",
   "execution_count": 9,
   "id": "60818636",
   "metadata": {},
   "outputs": [
    {
     "name": "stdout",
     "output_type": "stream",
     "text": [
      "a+b= 12\n",
      "a-b= 8\n",
      "a*b= 20\n",
      "a/b= 5.0\n",
      "a//b= 5\n",
      "a%b= 0\n",
      "a**b= 100\n"
     ]
    }
   ],
   "source": [
    "a=10\n",
    "b=2\n",
    "print('a+b=',a+b)\n",
    "print('a-b=',a-b)\n",
    "print('a*b=',a*b)\n",
    "print('a/b=',a/b)\n",
    "print('a//b=',a//b)\n",
    "print('a%b=',a%b)\n",
    "print('a**b=',a**b) "
   ]
  },
  {
   "cell_type": "code",
   "execution_count": 10,
   "id": "770ac759",
   "metadata": {},
   "outputs": [
    {
     "ename": "SyntaxError",
     "evalue": "cannot assign to expression here. Maybe you meant '==' instead of '='? (2819644474.py, line 3)",
     "output_type": "error",
     "traceback": [
      "\u001b[1;36m  Input \u001b[1;32mIn [10]\u001b[1;36m\u001b[0m\n\u001b[1;33m    a+b= 12.5\u001b[0m\n\u001b[1;37m    ^\u001b[0m\n\u001b[1;31mSyntaxError\u001b[0m\u001b[1;31m:\u001b[0m cannot assign to expression here. Maybe you meant '==' instead of '='?\n"
     ]
    }
   ],
   "source": [
    "a = 10.5\n",
    "b=2\n",
    "a+b= 12.5\n",
    "a-b= 8.5\n",
    "a*b= 21.0\n",
    "a/b= 5.258\n",
    "a//b= 5.0\n",
    "a%b= 0.5\n",
    "a**b= 110.25 "
   ]
  },
  {
   "cell_type": "code",
   "execution_count": null,
   "id": "e642b9a8",
   "metadata": {},
   "outputs": [],
   "source": []
  },
  {
   "cell_type": "code",
   "execution_count": null,
   "id": "a65f9e86",
   "metadata": {},
   "outputs": [],
   "source": []
  }
 ],
 "metadata": {
  "kernelspec": {
   "display_name": "Python 3 (ipykernel)",
   "language": "python",
   "name": "python3"
  },
  "language_info": {
   "codemirror_mode": {
    "name": "ipython",
    "version": 3
   },
   "file_extension": ".py",
   "mimetype": "text/x-python",
   "name": "python",
   "nbconvert_exporter": "python",
   "pygments_lexer": "ipython3",
   "version": "3.10.2"
  }
 },
 "nbformat": 4,
 "nbformat_minor": 5
}
