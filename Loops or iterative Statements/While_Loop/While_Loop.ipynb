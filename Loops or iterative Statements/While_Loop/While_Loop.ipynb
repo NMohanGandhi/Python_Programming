{
 "cells": [
  {
   "cell_type": "markdown",
   "id": "97c97d74",
   "metadata": {},
   "source": [
    "# Python while loop is used to execute a block of code until the given condition is True."
   ]
  },
  {
   "cell_type": "markdown",
   "id": "a4a53a81",
   "metadata": {},
   "source": [
    "# Syntax"
   ]
  },
  {
   "cell_type": "raw",
   "id": "92abbf25",
   "metadata": {},
   "source": [
    "while condition:\n",
    "    # block of code\n",
    "    # to be executed\n",
    "    # until the condit"
   ]
  },
  {
   "cell_type": "markdown",
   "id": "bfd848b8",
   "metadata": {},
   "source": [
    "# Examples"
   ]
  },
  {
   "cell_type": "code",
   "execution_count": 1,
   "id": "0ba7a721",
   "metadata": {},
   "outputs": [
    {
     "name": "stdout",
     "output_type": "stream",
     "text": [
      "5\n",
      "4\n",
      "3\n",
      "2\n",
      "1\n"
     ]
    }
   ],
   "source": [
    "i = 5\n",
    "while i>0:       #  stop \n",
    "    print(i)\n",
    "    i=i-1"
   ]
  },
  {
   "cell_type": "code",
   "execution_count": 5,
   "id": "3ea3f50d",
   "metadata": {},
   "outputs": [
    {
     "name": "stdout",
     "output_type": "stream",
     "text": [
      "10\n",
      "11\n",
      "12\n",
      "13\n",
      "14\n",
      "15\n",
      "16\n",
      "17\n",
      "18\n",
      "19\n"
     ]
    }
   ],
   "source": [
    "i=10\n",
    "while i<20:\n",
    "    \n",
    "    print(i)\n",
    "    i+=1"
   ]
  },
  {
   "cell_type": "code",
   "execution_count": 2,
   "id": "0317ba33",
   "metadata": {},
   "outputs": [
    {
     "name": "stdout",
     "output_type": "stream",
     "text": [
      "Enter Number:5\n",
      "5 x 1 = 5\n",
      "5 x 2 = 10\n",
      "5 x 3 = 15\n",
      "5 x 4 = 20\n",
      "5 x 5 = 25\n",
      "5 x 6 = 30\n",
      "5 x 7 = 35\n",
      "5 x 8 = 40\n",
      "5 x 9 = 45\n",
      "5 x 10 = 50\n"
     ]
    }
   ],
   "source": [
    "# printing table for any number\n",
    "\n",
    "number = int(input(\"Enter Number:\"))\n",
    "\n",
    "i=1\n",
    "while i!=11:\n",
    "    print(number,\"x\",i,\"=\",i*number)\n",
    "    i+=1\n",
    "    "
   ]
  },
  {
   "cell_type": "raw",
   "id": "0d96b4f3",
   "metadata": {},
   "source": [
    "# infinite while loop\n",
    "while True:\n",
    "    print(\"This line will print infinite times\")"
   ]
  },
  {
   "cell_type": "code",
   "execution_count": 20,
   "id": "34ef2056",
   "metadata": {},
   "outputs": [
    {
     "name": "stdout",
     "output_type": "stream",
     "text": [
      "Enter an integer vaue:2\n",
      "Enter an integer vaue:4\n",
      "Enter an integer vaue:6\n",
      "Enter an integer vaue:8\n",
      "hey bye!!\n",
      "[2, 4, 6, 8]\n"
     ]
    }
   ],
   "source": [
    "nums = []\n",
    "while len(nums)<4:\n",
    "    user_input = int(input(\"Enter an integer vaue:\"))\n",
    "    if user_input%2==0:\n",
    "        nums.append(user_input)\n",
    "print(\"hey bye!!\")\n",
    "print(nums)"
   ]
  },
  {
   "cell_type": "code",
   "execution_count": 14,
   "id": "a38f4359",
   "metadata": {},
   "outputs": [
    {
     "name": "stdout",
     "output_type": "stream",
     "text": [
      "7\n",
      "8\n",
      "9\n"
     ]
    }
   ],
   "source": [
    "i=6\n",
    "while i<9:  # increasing i after then print\n",
    "    i=i+1\n",
    "    print(i)"
   ]
  },
  {
   "cell_type": "code",
   "execution_count": 15,
   "id": "af49fdb6",
   "metadata": {},
   "outputs": [
    {
     "name": "stdout",
     "output_type": "stream",
     "text": [
      "6\n",
      "7\n",
      "8\n",
      "9\n"
     ]
    }
   ],
   "source": [
    "i=6\n",
    "while i<=9:\n",
    "    \n",
    "    print(i) # print i after than increasing\n",
    "    i=i+1\n",
    "    "
   ]
  },
  {
   "cell_type": "code",
   "execution_count": null,
   "id": "45f2d19d",
   "metadata": {},
   "outputs": [],
   "source": []
  },
  {
   "cell_type": "code",
   "execution_count": 19,
   "id": "aa39f738",
   "metadata": {},
   "outputs": [
    {
     "name": "stdout",
     "output_type": "stream",
     "text": [
      "Enter an integer:4\n",
      "even number\n",
      "Enter an integer:6\n",
      "even number\n",
      "Enter an integer:8\n",
      "even number\n",
      "Enter an integer:3\n",
      "odd number\n"
     ]
    }
   ],
   "source": [
    "while True:\n",
    "    user_input = int(input(\"Enter an integer:\"))\n",
    "    if user_input%2!=0:\n",
    "        print(\"odd number\")\n",
    "        break\n",
    "    print(\"even number\")"
   ]
  },
  {
   "cell_type": "code",
   "execution_count": null,
   "id": "8df5536b",
   "metadata": {},
   "outputs": [],
   "source": []
  }
 ],
 "metadata": {
  "kernelspec": {
   "display_name": "Python 3 (ipykernel)",
   "language": "python",
   "name": "python3"
  },
  "language_info": {
   "codemirror_mode": {
    "name": "ipython",
    "version": 3
   },
   "file_extension": ".py",
   "mimetype": "text/x-python",
   "name": "python",
   "nbconvert_exporter": "python",
   "pygments_lexer": "ipython3",
   "version": "3.10.2"
  }
 },
 "nbformat": 4,
 "nbformat_minor": 5
}
