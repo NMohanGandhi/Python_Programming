{
 "cells": [
  {
   "cell_type": "markdown",
   "id": "95d3e7a6",
   "metadata": {},
   "source": [
    "# We can have an optional else block with while loop as well"
   ]
  },
  {
   "cell_type": "raw",
   "id": "8d15099d",
   "metadata": {},
   "source": [
    "The else part is executed if the condition in the while loop evaluates to False. The while loop can be terminated with a break statement.\n",
    "\n",
    "In such case, the else part is ignored. Hence, a while loop's else part runs if no break occurs and the\n",
    "condition is false."
   ]
  },
  {
   "cell_type": "code",
   "execution_count": null,
   "id": "4fb8b5e4",
   "metadata": {},
   "outputs": [],
   "source": []
  },
  {
   "cell_type": "code",
   "execution_count": 2,
   "id": "ef2316f2",
   "metadata": {},
   "outputs": [
    {
     "name": "stdout",
     "output_type": "stream",
     "text": [
      "Now we are in Inside loop\n",
      "Now we are in Inside loop\n",
      "Now we are in Inside loop\n",
      "Now we are in else block\n"
     ]
    }
   ],
   "source": [
    "cnt = 0\n",
    "while cnt<3:\n",
    "    print(\"Now we are in Inside loop\")\n",
    "    cnt=cnt+1\n",
    "else:\n",
    "    print(\"Now we are in else block\")\n"
   ]
  },
  {
   "cell_type": "code",
   "execution_count": 3,
   "id": "f81aa78b",
   "metadata": {},
   "outputs": [
    {
     "name": "stdout",
     "output_type": "stream",
     "text": [
      "At the top i is 0\n",
      "Numbers now:  [0]\n",
      "At the bottom i is 1\n",
      "The numbers: \n",
      "0\n",
      "At the top i is 1\n",
      "Numbers now:  [0, 1]\n",
      "At the bottom i is 2\n",
      "The numbers: \n",
      "0\n",
      "1\n",
      "At the top i is 2\n",
      "Numbers now:  [0, 1, 2]\n",
      "At the bottom i is 3\n",
      "The numbers: \n",
      "0\n",
      "1\n",
      "2\n",
      "At the top i is 3\n",
      "Numbers now:  [0, 1, 2, 3]\n",
      "At the bottom i is 4\n",
      "The numbers: \n",
      "0\n",
      "1\n",
      "2\n",
      "3\n",
      "At the top i is 4\n",
      "Numbers now:  [0, 1, 2, 3, 4]\n",
      "At the bottom i is 5\n",
      "The numbers: \n",
      "0\n",
      "1\n",
      "2\n",
      "3\n",
      "4\n",
      "At the top i is 5\n",
      "Numbers now:  [0, 1, 2, 3, 4, 5]\n",
      "At the bottom i is 6\n",
      "The numbers: \n",
      "0\n",
      "1\n",
      "2\n",
      "3\n",
      "4\n",
      "5\n"
     ]
    }
   ],
   "source": [
    "i = 0\n",
    "numbers = []\n",
    "while i < 6:\n",
    "    print (\"At the top i is %d\" % i)\n",
    "    numbers.append(i)\n",
    "    i = i + 1\n",
    "    print (\"Numbers now: \", numbers)\n",
    "    print (\"At the bottom i is %d\" % i)\n",
    "    print (\"The numbers: \")\n",
    "    for num in numbers:\n",
    "        print (num)"
   ]
  },
  {
   "cell_type": "code",
   "execution_count": null,
   "id": "b095ae0f",
   "metadata": {},
   "outputs": [],
   "source": []
  }
 ],
 "metadata": {
  "kernelspec": {
   "display_name": "Python 3 (ipykernel)",
   "language": "python",
   "name": "python3"
  },
  "language_info": {
   "codemirror_mode": {
    "name": "ipython",
    "version": 3
   },
   "file_extension": ".py",
   "mimetype": "text/x-python",
   "name": "python",
   "nbconvert_exporter": "python",
   "pygments_lexer": "ipython3",
   "version": "3.10.2"
  }
 },
 "nbformat": 4,
 "nbformat_minor": 5
}
