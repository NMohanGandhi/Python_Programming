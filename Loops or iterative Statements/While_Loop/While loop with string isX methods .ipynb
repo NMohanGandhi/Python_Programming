{
 "cells": [
  {
   "cell_type": "markdown",
   "id": "ae6e5a55",
   "metadata": {},
   "source": [
    "# While loop with string isX methods "
   ]
  },
  {
   "cell_type": "raw",
   "id": "d08045cf",
   "metadata": {},
   "source": [
    "Along with islower() and isupper(), there are several string methods that have names beginning with\n",
    "the word is. These methods return a Boolean value that describes the nature of the string. Here are some\n",
    "common isX"
   ]
  },
  {
   "cell_type": "raw",
   "id": "ba1c49ee",
   "metadata": {},
   "source": [
    "isalpha() returns True if the string consists only of letters and is not blank.¶\n",
    "\n",
    "isalnum() returns True if the string consists only of letters and numbers and is not blank.\n",
    "\n",
    "isdecimal() returns True if the string consists only of numeric characters and is not blank.\n",
    "\n",
    "isspace() returns True if the string consists only of spaces, tabs, and newlines and is not blank.\n",
    "\n",
    "istitle() returns True if the string consists only of words that begin with an uppercase letter followed by\n",
    "only lowercase letters.\n"
   ]
  },
  {
   "cell_type": "code",
   "execution_count": 1,
   "id": "30b5f02b",
   "metadata": {},
   "outputs": [
    {
     "name": "stdout",
     "output_type": "stream",
     "text": [
      "True\n"
     ]
    }
   ],
   "source": [
    "print(\"python\".isalpha())"
   ]
  },
  {
   "cell_type": "code",
   "execution_count": 8,
   "id": "84d9f2f0",
   "metadata": {},
   "outputs": [
    {
     "name": "stdout",
     "output_type": "stream",
     "text": [
      "False\n"
     ]
    }
   ],
   "source": [
    "print(\"12342\".isalpha())"
   ]
  },
  {
   "cell_type": "code",
   "execution_count": 25,
   "id": "df78a953",
   "metadata": {},
   "outputs": [
    {
     "name": "stdout",
     "output_type": "stream",
     "text": [
      "False\n"
     ]
    }
   ],
   "source": [
    "print(\"Python2\".isalpha())"
   ]
  },
  {
   "cell_type": "code",
   "execution_count": 4,
   "id": "25f7327d",
   "metadata": {},
   "outputs": [
    {
     "name": "stdout",
     "output_type": "stream",
     "text": [
      "True\n"
     ]
    }
   ],
   "source": [
    "print(\"python2\".isalnum())"
   ]
  },
  {
   "cell_type": "code",
   "execution_count": 26,
   "id": "4da1bff9",
   "metadata": {},
   "outputs": [
    {
     "name": "stdout",
     "output_type": "stream",
     "text": [
      "True\n"
     ]
    }
   ],
   "source": [
    "print(\"Python\".isalnum())"
   ]
  },
  {
   "cell_type": "code",
   "execution_count": 24,
   "id": "b7958d72",
   "metadata": {},
   "outputs": [
    {
     "name": "stdout",
     "output_type": "stream",
     "text": [
      "False\n"
     ]
    }
   ],
   "source": [
    "print(\"123.452\".isalnum())"
   ]
  },
  {
   "cell_type": "code",
   "execution_count": 23,
   "id": "99438f87",
   "metadata": {},
   "outputs": [
    {
     "name": "stdout",
     "output_type": "stream",
     "text": [
      "False\n"
     ]
    }
   ],
   "source": [
    "print(\"123.452\".isalnum())"
   ]
  },
  {
   "cell_type": "code",
   "execution_count": 9,
   "id": "0e897f06",
   "metadata": {},
   "outputs": [
    {
     "name": "stdout",
     "output_type": "stream",
     "text": [
      "True\n"
     ]
    }
   ],
   "source": [
    "print(\"12345\".isdecimal())"
   ]
  },
  {
   "cell_type": "code",
   "execution_count": 10,
   "id": "e1092a49",
   "metadata": {},
   "outputs": [
    {
     "name": "stdout",
     "output_type": "stream",
     "text": [
      "False\n"
     ]
    }
   ],
   "source": [
    "print(\"py12345\".isdecimal())"
   ]
  },
  {
   "cell_type": "code",
   "execution_count": 11,
   "id": "de6af30a",
   "metadata": {},
   "outputs": [
    {
     "name": "stdout",
     "output_type": "stream",
     "text": [
      "False\n"
     ]
    }
   ],
   "source": [
    "print(\"12345.67\".isdecimal())"
   ]
  },
  {
   "cell_type": "code",
   "execution_count": 17,
   "id": "a004b590",
   "metadata": {},
   "outputs": [
    {
     "name": "stdout",
     "output_type": "stream",
     "text": [
      "True\n"
     ]
    }
   ],
   "source": [
    "print(' '.isspace())"
   ]
  },
  {
   "cell_type": "code",
   "execution_count": 15,
   "id": "509865ab",
   "metadata": {},
   "outputs": [
    {
     "data": {
      "text/plain": [
       "True"
      ]
     },
     "execution_count": 15,
     "metadata": {},
     "output_type": "execute_result"
    }
   ],
   "source": [
    "' '.isspace()"
   ]
  },
  {
   "cell_type": "code",
   "execution_count": 18,
   "id": "c2300824",
   "metadata": {},
   "outputs": [
    {
     "name": "stdout",
     "output_type": "stream",
     "text": [
      "False\n"
     ]
    }
   ],
   "source": [
    "print( 'py 3'.isspace())"
   ]
  },
  {
   "cell_type": "code",
   "execution_count": 19,
   "id": "be766c85",
   "metadata": {},
   "outputs": [
    {
     "name": "stdout",
     "output_type": "stream",
     "text": [
      "True\n"
     ]
    }
   ],
   "source": [
    "print(\"Nallagangula Mohan Gandhi\".istitle())"
   ]
  },
  {
   "cell_type": "code",
   "execution_count": 20,
   "id": "d786e8db",
   "metadata": {},
   "outputs": [
    {
     "name": "stdout",
     "output_type": "stream",
     "text": [
      "False\n"
     ]
    }
   ],
   "source": [
    "print(\"my name is Mohhhan\".istitle())"
   ]
  },
  {
   "cell_type": "code",
   "execution_count": 21,
   "id": "c06e8b90",
   "metadata": {},
   "outputs": [
    {
     "name": "stdout",
     "output_type": "stream",
     "text": [
      "False\n"
     ]
    }
   ],
   "source": [
    "print(\"NAllagangula Mohan Gandhi\".istitle())"
   ]
  },
  {
   "cell_type": "code",
   "execution_count": 28,
   "id": "6f81c11f",
   "metadata": {},
   "outputs": [
    {
     "name": "stdout",
     "output_type": "stream",
     "text": [
      "True\n"
     ]
    }
   ],
   "source": [
    "print('This Is Python 1037'.istitle())"
   ]
  },
  {
   "cell_type": "code",
   "execution_count": 29,
   "id": "b9753bf6",
   "metadata": {},
   "outputs": [
    {
     "name": "stdout",
     "output_type": "stream",
     "text": [
      "Enter your age:\n",
      "m123\n",
      "Please enter a number for your age.\n",
      "Enter your age:\n",
      "12w\n",
      "Please enter a number for your age.\n",
      "Enter your age:\n",
      "21\n",
      "hey!!! isdecimal\n"
     ]
    }
   ],
   "source": [
    "while True:\n",
    "    print('Enter your age:')\n",
    "    age = input()\n",
    "    if age.isdecimal():\n",
    "        print(\"hey!!! isdecimal\")\n",
    "        break\n",
    "    print('Please enter a number for your age.')"
   ]
  },
  {
   "cell_type": "code",
   "execution_count": 32,
   "id": "63983e1e",
   "metadata": {},
   "outputs": [
    {
     "name": "stdout",
     "output_type": "stream",
     "text": [
      "Select a new password (letters and numbers only):\n",
      "Mohan123\n",
      "Hey!! Numbers and Alphabets both is there\n"
     ]
    }
   ],
   "source": [
    "while True:\n",
    "    print('Select a new password (letters and numbers only):')\n",
    "    password = input()\n",
    "    if password.isalnum():\n",
    "        print(\"Hey!! Numbers and Alphabets both is there\")\n",
    "        break\n",
    "    print('Passwords can only have letters and numbers.')\n",
    "    "
   ]
  },
  {
   "cell_type": "code",
   "execution_count": null,
   "id": "c5e45e28",
   "metadata": {},
   "outputs": [],
   "source": []
  },
  {
   "cell_type": "code",
   "execution_count": null,
   "id": "db4a9984",
   "metadata": {},
   "outputs": [],
   "source": []
  }
 ],
 "metadata": {
  "kernelspec": {
   "display_name": "Python 3 (ipykernel)",
   "language": "python",
   "name": "python3"
  },
  "language_info": {
   "codemirror_mode": {
    "name": "ipython",
    "version": 3
   },
   "file_extension": ".py",
   "mimetype": "text/x-python",
   "name": "python",
   "nbconvert_exporter": "python",
   "pygments_lexer": "ipython3",
   "version": "3.10.2"
  }
 },
 "nbformat": 4,
 "nbformat_minor": 5
}
