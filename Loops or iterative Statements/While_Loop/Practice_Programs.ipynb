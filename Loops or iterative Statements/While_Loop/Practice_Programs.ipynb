{
 "cells": [
  {
   "cell_type": "markdown",
   "id": "2531fb00",
   "metadata": {},
   "source": [
    "# Display first 5 numbers"
   ]
  },
  {
   "cell_type": "code",
   "execution_count": 2,
   "id": "1699c17f",
   "metadata": {},
   "outputs": [
    {
     "name": "stdout",
     "output_type": "stream",
     "text": [
      "1\n",
      "2\n",
      "3\n",
      "4\n",
      "5\n"
     ]
    }
   ],
   "source": [
    "i=1\n",
    "while i<6:\n",
    "    print(i)\n",
    "    i+=1\n",
    "    "
   ]
  },
  {
   "cell_type": "code",
   "execution_count": 3,
   "id": "52297dae",
   "metadata": {},
   "outputs": [
    {
     "name": "stdout",
     "output_type": "stream",
     "text": [
      "The count is: 1\n",
      "The count is: 2\n",
      "The count is: 3\n",
      "The count is: 4\n",
      "The count is: 5\n",
      "Thank You\n"
     ]
    }
   ],
   "source": [
    "num = 1\n",
    "while(num<=5):\n",
    "    print(\"The count is:\",num)\n",
    "    num+=1\n",
    "print(\"Thank You\")"
   ]
  },
  {
   "cell_type": "markdown",
   "id": "2a34bc5c",
   "metadata": {},
   "source": [
    "# Display squares of first 10 numbers"
   ]
  },
  {
   "cell_type": "code",
   "execution_count": 8,
   "id": "1f1a4d76",
   "metadata": {},
   "outputs": [
    {
     "name": "stdout",
     "output_type": "stream",
     "text": [
      "square of10 is 100\n",
      "square of10 is 100\n",
      "square of10 is 100\n",
      "square of10 is 100\n",
      "square of10 is 100\n",
      "square of10 is 100\n",
      "square of10 is 100\n",
      "square of10 is 100\n",
      "square of10 is 100\n",
      "square of10 is 100\n",
      "square of10 is 100\n"
     ]
    }
   ],
   "source": [
    "number = 10\n",
    "start=0\n",
    "while start<=10:\n",
    "    print(\"square of\"+str(number)+\" is \"+str(number**2))\n",
    "    start+=1"
   ]
  },
  {
   "cell_type": "markdown",
   "id": "5a73b489",
   "metadata": {},
   "source": [
    "# Display sum of all natural number of given number"
   ]
  },
  {
   "cell_type": "code",
   "execution_count": 11,
   "id": "26c68e3e",
   "metadata": {},
   "outputs": [
    {
     "name": "stdout",
     "output_type": "stream",
     "text": [
      "The sum is 15\n"
     ]
    }
   ],
   "source": [
    "number = 5\n",
    "sum=0\n",
    "i=0\n",
    "while i<=number:\n",
    "    sum=sum+i\n",
    "    i+=1\n",
    "print(\"The sum is\",sum)"
   ]
  },
  {
   "cell_type": "markdown",
   "id": "d10a7740",
   "metadata": {},
   "source": [
    "# Display all even number to before given number"
   ]
  },
  {
   "cell_type": "code",
   "execution_count": 3,
   "id": "b5427e27",
   "metadata": {},
   "outputs": [
    {
     "name": "stdout",
     "output_type": "stream",
     "text": [
      "This number = 2\n",
      "This number = 4\n",
      "This number = 6\n",
      "This number = 8\n",
      "Displayed all even number before  10\n"
     ]
    }
   ],
   "source": [
    "# Approach-1\n",
    "\n",
    "Target_Num = 10\n",
    "Var = 1\n",
    "while Var < Target_Num :\n",
    "    if Var % 2 == 0 :\n",
    "        print('This number = ' + str(Var))\n",
    "        Var += 1\n",
    "    else:\n",
    "        Var += 1\n",
    "        continue\n",
    "print(\"Displayed all even number before \",Var)"
   ]
  },
  {
   "cell_type": "code",
   "execution_count": 1,
   "id": "7b0cbe32",
   "metadata": {},
   "outputs": [
    {
     "name": "stdout",
     "output_type": "stream",
     "text": [
      "This number = 2\n",
      "This number = 4\n",
      "This number = 6\n",
      "This number = 8\n",
      "Displayed all even number before  10\n"
     ]
    }
   ],
   "source": [
    "# Approach-2\n",
    "Target_Num = 10\n",
    "Var = 1\n",
    "while Var < Target_Num :\n",
    "    if Var % 2 != 0 :\n",
    "        Var += 1\n",
    "        continue\n",
    "    print('This number = ' + str(Var))\n",
    "    Var += 1\n",
    "print(\"Displayed all even number before \",Var)"
   ]
  },
  {
   "cell_type": "code",
   "execution_count": 3,
   "id": "7f90e47e",
   "metadata": {},
   "outputs": [
    {
     "name": "stdout",
     "output_type": "stream",
     "text": [
      "[2, 4, 6, 8]\n",
      "Displayed all even number before  10\n"
     ]
    }
   ],
   "source": [
    "# Approach-3\n",
    "\n",
    "Target_Num = 10\n",
    "Var = 1\n",
    "li=[]\n",
    "while Var < Target_Num :\n",
    "    if Var % 2 == 0 :\n",
    "        li.append(Var)\n",
    "        #print('This number = ' + str(Var))\n",
    "        Var += 1\n",
    "    else:\n",
    "        Var += 1\n",
    "        continue\n",
    "print(li)\n",
    "print(\"Displayed all even number before \",Var)"
   ]
  },
  {
   "cell_type": "markdown",
   "id": "90dd16c7",
   "metadata": {},
   "source": [
    "# checking username and password"
   ]
  },
  {
   "cell_type": "code",
   "execution_count": 2,
   "id": "3e3ff6bb",
   "metadata": {},
   "outputs": [
    {
     "name": "stdout",
     "output_type": "stream",
     "text": [
      "Enter Name:Mohan\n",
      "Hello Mohan ,Please enter your password..\n",
      "Enter password:yadav\n",
      "You entered correct details\n",
      "Congratulations Mohan\n",
      "Access granted. Mohan\n"
     ]
    }
   ],
   "source": [
    "while True:\n",
    "    name = input(\"Enter Name:\")\n",
    "    if name !=\"Mohan\":\n",
    "        continue\n",
    "    print(\"Hello\",name,\",Please enter your password..\")\n",
    "    pwd = input(\"Enter password:\")\n",
    "    if pwd==\"yadav\":\n",
    "        print(\"You entered correct details\")\n",
    "        print(\"Congratulations\",name)\n",
    "        break\n",
    "print(\"Access granted.\",name)"
   ]
  },
  {
   "cell_type": "code",
   "execution_count": null,
   "id": "b6f236f9",
   "metadata": {},
   "outputs": [],
   "source": []
  },
  {
   "cell_type": "code",
   "execution_count": null,
   "id": "7ea86711",
   "metadata": {},
   "outputs": [],
   "source": []
  }
 ],
 "metadata": {
  "kernelspec": {
   "display_name": "Python 3 (ipykernel)",
   "language": "python",
   "name": "python3"
  },
  "language_info": {
   "codemirror_mode": {
    "name": "ipython",
    "version": 3
   },
   "file_extension": ".py",
   "mimetype": "text/x-python",
   "name": "python",
   "nbconvert_exporter": "python",
   "pygments_lexer": "ipython3",
   "version": "3.10.2"
  }
 },
 "nbformat": 4,
 "nbformat_minor": 5
}
