{
 "cells": [
  {
   "cell_type": "markdown",
   "id": "411917e0",
   "metadata": {},
   "source": [
    "# We can use break statement if we want to exit the while loop."
   ]
  },
  {
   "cell_type": "markdown",
   "id": "d665dcde",
   "metadata": {},
   "source": [
    "# Generally, we use break statements in while loop when we have some specific conditions to exit the while loop."
   ]
  },
  {
   "cell_type": "code",
   "execution_count": 1,
   "id": "dc54e423",
   "metadata": {},
   "outputs": [
    {
     "name": "stdout",
     "output_type": "stream",
     "text": [
      "Enter an integer:2\n",
      "even number\n",
      "Enter an integer:4\n",
      "even number\n",
      "Enter an integer:6\n",
      "even number\n",
      "Enter an integer:8\n",
      "even number\n",
      "Enter an integer:3\n",
      "odd number\n"
     ]
    }
   ],
   "source": [
    "while True:\n",
    "    user_input = int(input(\"Enter an integer:\"))\n",
    "    if user_input%2!=0:\n",
    "        print(\"odd number\")\n",
    "        break\n",
    "    print(\"even number\")"
   ]
  },
  {
   "cell_type": "code",
   "execution_count": 2,
   "id": "c4dd3233",
   "metadata": {},
   "outputs": [
    {
     "name": "stdout",
     "output_type": "stream",
     "text": [
      "0\n",
      "1\n",
      "2\n",
      "3\n",
      "4\n",
      "5\n"
     ]
    }
   ],
   "source": [
    "i=0\n",
    "while True:\n",
    "    print(i)\n",
    "    if i==5:\n",
    "        break\n",
    "    i=i+1\n",
    "    "
   ]
  },
  {
   "cell_type": "code",
   "execution_count": 3,
   "id": "a82dfa12",
   "metadata": {},
   "outputs": [
    {
     "name": "stdout",
     "output_type": "stream",
     "text": [
      "Enter Number:10\n",
      "10 x 1 = 10\n",
      "10 x 2 = 20\n",
      "10 x 3 = 30\n",
      "10 x 4 = 40\n",
      "10 x 5 = 50\n",
      "10 x 6 = 60\n",
      "10 x 7 = 70\n",
      "10 x 8 = 80\n",
      "10 x 9 = 90\n",
      "10 x 10 = 100\n"
     ]
    }
   ],
   "source": [
    "# printing table for any number\n",
    "\n",
    "number = int(input(\"Enter Number:\"))\n",
    "\n",
    "i=1\n",
    "while i!=11:\n",
    "    print(number,\"x\",i,\"=\",i*number)\n",
    "    i+=1\n",
    "    "
   ]
  },
  {
   "cell_type": "code",
   "execution_count": 6,
   "id": "bce801f2",
   "metadata": {},
   "outputs": [
    {
     "name": "stdout",
     "output_type": "stream",
     "text": [
      "enter an integer:10\n",
      "10 X 1 = 10\n",
      "10 X 2 = 20\n",
      "10 X 3 = 30\n",
      "10 X 4 = 40\n",
      "10 X 5 = 50\n",
      "10 X 6 = 60\n",
      "10 X 7 = 70\n",
      "10 X 8 = 80\n",
      "10 X 9 = 90\n",
      "10 X 10 = 100\n"
     ]
    }
   ],
   "source": [
    "# printing table\n",
    "\n",
    "i=1\n",
    "number = int(input(\"enter an integer:\"))\n",
    "while True:\n",
    "    if i==11:\n",
    "        break\n",
    "    else:\n",
    "        print(f\"{number} X {i} = {number*i}\")\n",
    "        i = i + 1\n",
    "    "
   ]
  },
  {
   "cell_type": "code",
   "execution_count": 2,
   "id": "97b58312",
   "metadata": {},
   "outputs": [
    {
     "name": "stdout",
     "output_type": "stream",
     "text": [
      "Please type your name:\n",
      "mohan\n",
      "incorrect\n",
      "Please type your name:\n",
      "Mohanyadav\n",
      "incorrect\n",
      "Please type your name:\n",
      "Mojdowjo\n",
      "incorrect\n",
      "Please type your name:\n",
      "Mohan yadav\n",
      "Its correct Thank you\n"
     ]
    }
   ],
   "source": [
    "while True:\n",
    "    print(\"Please type your name:\")\n",
    "    name = input()\n",
    "    if name==\"Mohan yadav\":\n",
    "        print(\"Its correct Thank you\")\n",
    "        break\n",
    "    print(\"incorrect\")\n",
    "   \n"
   ]
  },
  {
   "cell_type": "code",
   "execution_count": null,
   "id": "0e675958",
   "metadata": {},
   "outputs": [],
   "source": []
  },
  {
   "cell_type": "code",
   "execution_count": null,
   "id": "f27cc84e",
   "metadata": {},
   "outputs": [],
   "source": []
  }
 ],
 "metadata": {
  "kernelspec": {
   "display_name": "Python 3 (ipykernel)",
   "language": "python",
   "name": "python3"
  },
  "language_info": {
   "codemirror_mode": {
    "name": "ipython",
    "version": 3
   },
   "file_extension": ".py",
   "mimetype": "text/x-python",
   "name": "python",
   "nbconvert_exporter": "python",
   "pygments_lexer": "ipython3",
   "version": "3.10.2"
  }
 },
 "nbformat": 4,
 "nbformat_minor": 5
}
