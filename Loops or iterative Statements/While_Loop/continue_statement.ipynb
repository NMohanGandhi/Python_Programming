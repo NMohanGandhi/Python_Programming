{
 "cells": [
  {
   "cell_type": "markdown",
   "id": "b846b032",
   "metadata": {},
   "source": [
    "# Unlike the break statement, continue statement skips one step of the loop and continues with the next step."
   ]
  },
  {
   "cell_type": "code",
   "execution_count": 2,
   "id": "29331677",
   "metadata": {},
   "outputs": [
    {
     "name": "stdout",
     "output_type": "stream",
     "text": [
      "1\n",
      "2\n",
      "3\n",
      "4\n",
      "6\n"
     ]
    }
   ],
   "source": [
    "i=0\n",
    "while i<6:\n",
    "    i=i+1\n",
    "    if i==5:\n",
    "        continue\n",
    "    print(i)\n",
    "    \n",
    "    "
   ]
  },
  {
   "cell_type": "code",
   "execution_count": 3,
   "id": "ee6e167d",
   "metadata": {},
   "outputs": [],
   "source": [
    "# skipping every step\n",
    "i = 0\n",
    "while i<6:\n",
    "  i=i+1\n",
    "  continue\n",
    "  print(i)"
   ]
  },
  {
   "cell_type": "code",
   "execution_count": 4,
   "id": "1f8a1c4b",
   "metadata": {},
   "outputs": [],
   "source": [
    "# Program outputs nothing"
   ]
  },
  {
   "cell_type": "markdown",
   "id": "a365da86",
   "metadata": {},
   "source": [
    "# while… else…"
   ]
  },
  {
   "cell_type": "markdown",
   "id": "23e32d33",
   "metadata": {},
   "source": [
    "# In python, we can use else statement with while loop."
   ]
  },
  {
   "cell_type": "markdown",
   "id": "f458be0b",
   "metadata": {},
   "source": [
    "# In python, we can use else statement with while loop."
   ]
  },
  {
   "cell_type": "code",
   "execution_count": 6,
   "id": "6e53f891",
   "metadata": {},
   "outputs": [
    {
     "name": "stdout",
     "output_type": "stream",
     "text": [
      "1\n",
      "2\n",
      "3\n",
      "4\n",
      "5\n",
      "6\n",
      "exit 6\n"
     ]
    }
   ],
   "source": [
    "i = 0\n",
    "while i<6:\n",
    "  i=i+1\n",
    "  print(i)\n",
    "else:\n",
    "  print(\"exit\",i)"
   ]
  },
  {
   "cell_type": "code",
   "execution_count": 14,
   "id": "d1fd2b52",
   "metadata": {},
   "outputs": [
    {
     "name": "stdout",
     "output_type": "stream",
     "text": [
      "1\n",
      "2\n",
      "3\n",
      "4\n"
     ]
    }
   ],
   "source": [
    "i = 0\n",
    "while i<6:\n",
    "    i=i+1\n",
    "    print(i)\n",
    "    if i==4:\n",
    "        break\n",
    "else:\n",
    "    print(\"i\",i)"
   ]
  },
  {
   "cell_type": "code",
   "execution_count": 3,
   "id": "39f3c50c",
   "metadata": {},
   "outputs": [
    {
     "name": "stdout",
     "output_type": "stream",
     "text": [
      "mohan yadav1\n",
      "mohan yadav2\n",
      "mohan yadav3\n",
      "mohan yadav4\n",
      "mohan yadav5\n"
     ]
    }
   ],
   "source": [
    "i=1\n",
    "while i<=5:\n",
    "    print(\"mohan yadav\"+str(i))\n",
    "    i+=1"
   ]
  },
  {
   "cell_type": "code",
   "execution_count": null,
   "id": "4bb3aaf1",
   "metadata": {},
   "outputs": [],
   "source": []
  }
 ],
 "metadata": {
  "kernelspec": {
   "display_name": "Python 3 (ipykernel)",
   "language": "python",
   "name": "python3"
  },
  "language_info": {
   "codemirror_mode": {
    "name": "ipython",
    "version": 3
   },
   "file_extension": ".py",
   "mimetype": "text/x-python",
   "name": "python",
   "nbconvert_exporter": "python",
   "pygments_lexer": "ipython3",
   "version": "3.10.2"
  }
 },
 "nbformat": 4,
 "nbformat_minor": 5
}
