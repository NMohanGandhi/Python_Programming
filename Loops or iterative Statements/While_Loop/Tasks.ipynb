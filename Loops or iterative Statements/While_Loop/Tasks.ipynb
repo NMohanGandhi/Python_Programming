{
 "cells": [
  {
   "cell_type": "code",
   "execution_count": 1,
   "id": "8ebdc931",
   "metadata": {},
   "outputs": [
    {
     "name": "stdout",
     "output_type": "stream",
     "text": [
      "enter a name:(blank to quit)\n",
      "enetr your name:Mohan Gandhi\n",
      "I do not have birthday information for Mohan Gandhi\n",
      "What is their birthday?\n",
      "Dec 05\n",
      "Birthday database updated..\n",
      "enter a name:(blank to quit)\n",
      "enetr your name:Mohan Gandhi\n",
      "Dec 05is the birthday of Mohan Gandhi\n",
      "enter a name:(blank to quit)\n",
      "enetr your name:\n",
      "Thnak You\n",
      "{'Mohan yadav': 'Aug 02', 'Dhoni': 'nov 02', 'Nani': 'dec14', 'Mohan Gandhi': 'Dec 05'}\n"
     ]
    }
   ],
   "source": [
    "birthdays={\"Mohan yadav\":\"Aug 02\",\"Dhoni\":\"nov 02\",\"Nani\":\"dec14\"}\n",
    "while True:\n",
    "    print(\"enter a name:(blank to quit)\")\n",
    "    name = input(\"enetr your name:\")\n",
    "    if name== \"\":\n",
    "        print(\"Thnak You\")\n",
    "        break\n",
    "        \n",
    "    \n",
    "    \n",
    "    if name in birthdays:\n",
    "        print(birthdays[name]+\"is the birthday of \"+name)\n",
    "    else:\n",
    "        print(\"I do not have birthday information for \"+name)\n",
    "        print(\"What is their birthday?\")\n",
    "        bday=input()\n",
    "        birthdays[name]=bday\n",
    "        print(\"Birthday database updated..\")\n",
    "print(birthdays)\n",
    "    "
   ]
  },
  {
   "cell_type": "code",
   "execution_count": 1,
   "id": "7bf4e751",
   "metadata": {},
   "outputs": [
    {
     "name": "stdout",
     "output_type": "stream",
     "text": [
      "Who are you?\n",
      "Mohan\n",
      "Hello, Narayana. What is the password? (It is my mailid.)\n",
      "yadav\n",
      "Access granted.\n"
     ]
    }
   ],
   "source": [
    "while True:\n",
    "    print('Who are you?')\n",
    "    name = input()\n",
    "    if name != 'Mohan':\n",
    "        continue\n",
    "    print('Hello, Narayana. What is the password? (It is my mailid.)')\n",
    "    password = input()\n",
    "    if password == 'yadav':\n",
    "        break\n",
    "print('Access granted.')"
   ]
  },
  {
   "cell_type": "code",
   "execution_count": 2,
   "id": "47cc42d5",
   "metadata": {},
   "outputs": [
    {
     "name": "stdout",
     "output_type": "stream",
     "text": [
      "Enter Name:Mohan\n",
      "Hello Mohan ,Please enter your password..\n",
      "Enter password:yadav\n",
      "You entered correct details\n",
      "Congratulations Mohan\n",
      "Access granted. Mohan\n"
     ]
    }
   ],
   "source": [
    "while True:\n",
    "    name = input(\"Enter Name:\")\n",
    "    if name !=\"Mohan\":\n",
    "        continue\n",
    "    print(\"Hello\",name,\",Please enter your password..\")\n",
    "    pwd = input(\"Enter password:\")\n",
    "    if pwd==\"yadav\":\n",
    "        print(\"You entered correct details\")\n",
    "        print(\"Congratulations\",name)\n",
    "        break\n",
    "print(\"Access granted.\",name)"
   ]
  },
  {
   "cell_type": "code",
   "execution_count": null,
   "id": "837f572c",
   "metadata": {},
   "outputs": [],
   "source": []
  }
 ],
 "metadata": {
  "kernelspec": {
   "display_name": "Python 3 (ipykernel)",
   "language": "python",
   "name": "python3"
  },
  "language_info": {
   "codemirror_mode": {
    "name": "ipython",
    "version": 3
   },
   "file_extension": ".py",
   "mimetype": "text/x-python",
   "name": "python",
   "nbconvert_exporter": "python",
   "pygments_lexer": "ipython3",
   "version": "3.10.2"
  }
 },
 "nbformat": 4,
 "nbformat_minor": 5
}
