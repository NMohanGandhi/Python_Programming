{
 "cells": [
  {
   "cell_type": "code",
   "execution_count": 3,
   "id": "7d5611a7",
   "metadata": {},
   "outputs": [],
   "source": [
    "f = open(\"demofile.txt\",\"w\")\n",
    "f.writelines(\"Hello! Welcome to the demofile.txt\\n\"\"This file is for testing prpose.\\n\"\"Good Luck\")\n",
    "f.close()"
   ]
  },
  {
   "cell_type": "markdown",
   "id": "6204fe81",
   "metadata": {},
   "source": [
    "# read()"
   ]
  },
  {
   "cell_type": "code",
   "execution_count": 7,
   "id": "6b6d33a8",
   "metadata": {},
   "outputs": [
    {
     "name": "stdout",
     "output_type": "stream",
     "text": [
      "Hello! Welcome to the demofile.txt\n",
      "This file is for testing prpose.\n",
      "Good Luck\n"
     ]
    }
   ],
   "source": [
    "f = open(\"demofile.txt\",\"r\")\n",
    "print(f.read())\n",
    "f.close()"
   ]
  },
  {
   "cell_type": "markdown",
   "id": "581ce836",
   "metadata": {},
   "source": [
    "# read(n)"
   ]
  },
  {
   "cell_type": "code",
   "execution_count": 10,
   "id": "e160da3f",
   "metadata": {},
   "outputs": [
    {
     "name": "stdout",
     "output_type": "stream",
     "text": [
      "Hello! Wel\n"
     ]
    }
   ],
   "source": [
    "f = open(\"demofile.txt\",\"r\")\n",
    "print(f.read(10))                # read(n)\n",
    "f.close()"
   ]
  },
  {
   "cell_type": "markdown",
   "id": "df33e4af",
   "metadata": {},
   "source": [
    "# readline()"
   ]
  },
  {
   "cell_type": "code",
   "execution_count": 14,
   "id": "b2938b1e",
   "metadata": {},
   "outputs": [
    {
     "name": "stdout",
     "output_type": "stream",
     "text": [
      "Hello! Welcome to the demofile.txt\n",
      "\n",
      "This file is for testing prpose.\n",
      "\n",
      "Good Luck\n",
      "\n"
     ]
    }
   ],
   "source": [
    "f = open(\"demofile.txt\",\"r\")\n",
    "print(f.readline())\n",
    "print(f.readline())\n",
    "print(f.readline())\n",
    "print(f.readline())\n",
    "f.close()"
   ]
  },
  {
   "cell_type": "markdown",
   "id": "72b75572",
   "metadata": {},
   "source": [
    "# readlines()"
   ]
  },
  {
   "cell_type": "code",
   "execution_count": 13,
   "id": "07f4279c",
   "metadata": {},
   "outputs": [
    {
     "name": "stdout",
     "output_type": "stream",
     "text": [
      "['Hello! Welcome to the demofile.txt\\n', 'This file is for testing prpose.\\n', 'Good Luck']\n"
     ]
    }
   ],
   "source": [
    "f = open(\"demofile.txt\",\"r\")\n",
    "print(f.readlines())\n",
    "f.close()"
   ]
  },
  {
   "cell_type": "markdown",
   "id": "6b9b78a0",
   "metadata": {},
   "source": [
    "# loop through line"
   ]
  },
  {
   "cell_type": "code",
   "execution_count": 16,
   "id": "ddd3c805",
   "metadata": {},
   "outputs": [
    {
     "name": "stdout",
     "output_type": "stream",
     "text": [
      "Hello! Welcome to the demofile.txt\n",
      "\n",
      "This file is for testing prpose.\n",
      "\n",
      "Good Luck\n"
     ]
    }
   ],
   "source": [
    "# loop through line by line \n",
    "f = open(\"demofile.txt\",\"r\")\n",
    "for x in f:\n",
    "    print(x)"
   ]
  },
  {
   "cell_type": "markdown",
   "id": "d322b3e7",
   "metadata": {},
   "source": [
    "# append()"
   ]
  },
  {
   "cell_type": "code",
   "execution_count": 18,
   "id": "0514a741",
   "metadata": {},
   "outputs": [],
   "source": [
    "####### APPEND()\n",
    "f = open(\"demofile.txt\",\"a\")\n",
    "f.write(\"Now the fie has more content\\n\")\n",
    "f.close()\n"
   ]
  },
  {
   "cell_type": "code",
   "execution_count": 19,
   "id": "0a4b41d7",
   "metadata": {},
   "outputs": [
    {
     "name": "stdout",
     "output_type": "stream",
     "text": [
      "Hello! Welcome to the demofile.txt\n",
      "This file is for testing prpose.\n",
      "Good LuckNow the fie has more content\n",
      "Now the fie has more content\n",
      "\n"
     ]
    }
   ],
   "source": [
    "# ope and read file after appendig the data\n",
    "f = open(\"demofile.txt\",\"r\")\n",
    "print(f.read())"
   ]
  },
  {
   "cell_type": "markdown",
   "id": "b6c7402a",
   "metadata": {},
   "source": [
    "# write()"
   ]
  },
  {
   "cell_type": "code",
   "execution_count": null,
   "id": "b0178bd7",
   "metadata": {},
   "outputs": [],
   "source": [
    "f = open(\"demofile.txt\",\"w\")\n",
    "v=f.write(\"mohan\\n\"\"yadav\\n\"\"mca\")\n",
    "print(f)\n",
    "f.close()"
   ]
  }
 ],
 "metadata": {
  "kernelspec": {
   "display_name": "Python 3 (ipykernel)",
   "language": "python",
   "name": "python3"
  },
  "language_info": {
   "codemirror_mode": {
    "name": "ipython",
    "version": 3
   },
   "file_extension": ".py",
   "mimetype": "text/x-python",
   "name": "python",
   "nbconvert_exporter": "python",
   "pygments_lexer": "ipython3",
   "version": "3.11.2"
  }
 },
 "nbformat": 4,
 "nbformat_minor": 5
}
