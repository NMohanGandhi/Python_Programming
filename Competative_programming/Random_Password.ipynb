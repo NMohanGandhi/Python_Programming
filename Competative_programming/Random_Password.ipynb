{
 "cells": [
  {
   "cell_type": "code",
   "execution_count": 2,
   "id": "c8ff3ae5",
   "metadata": {},
   "outputs": [],
   "source": [
    "import random"
   ]
  },
  {
   "cell_type": "code",
   "execution_count": 4,
   "id": "fd7fd412",
   "metadata": {},
   "outputs": [],
   "source": [
    "lower = \"abcdefghijklmnopqurstuvwxyz\""
   ]
  },
  {
   "cell_type": "code",
   "execution_count": 6,
   "id": "ad155a7e",
   "metadata": {},
   "outputs": [],
   "source": [
    "upper = \"ABCDEFGHIJKLMNOPQURSTUVWXYZ\""
   ]
  },
  {
   "cell_type": "code",
   "execution_count": 7,
   "id": "9e3c1893",
   "metadata": {},
   "outputs": [],
   "source": [
    "numbers = \"0123456789\""
   ]
  },
  {
   "cell_type": "code",
   "execution_count": 8,
   "id": "22e20eae",
   "metadata": {},
   "outputs": [],
   "source": [
    "symbols = \"{}();:.&%$#@^\""
   ]
  },
  {
   "cell_type": "code",
   "execution_count": 9,
   "id": "e4c8ca13",
   "metadata": {},
   "outputs": [],
   "source": [
    "all = lower+upper+numbers+symbols"
   ]
  },
  {
   "cell_type": "code",
   "execution_count": 11,
   "id": "f96d8f48",
   "metadata": {},
   "outputs": [],
   "source": [
    "length = 10"
   ]
  },
  {
   "cell_type": "code",
   "execution_count": 12,
   "id": "ddaec1f4",
   "metadata": {},
   "outputs": [],
   "source": [
    "password = \"\".join(random.sample(all,length))"
   ]
  },
  {
   "cell_type": "code",
   "execution_count": 13,
   "id": "23d812d1",
   "metadata": {},
   "outputs": [
    {
     "name": "stdout",
     "output_type": "stream",
     "text": [
      "^1eX)bw:if\n"
     ]
    }
   ],
   "source": [
    "print(password)"
   ]
  }
 ],
 "metadata": {
  "kernelspec": {
   "display_name": "Python 3 (ipykernel)",
   "language": "python",
   "name": "python3"
  },
  "language_info": {
   "codemirror_mode": {
    "name": "ipython",
    "version": 3
   },
   "file_extension": ".py",
   "mimetype": "text/x-python",
   "name": "python",
   "nbconvert_exporter": "python",
   "pygments_lexer": "ipython3",
   "version": "3.11.2"
  }
 },
 "nbformat": 4,
 "nbformat_minor": 5
}
