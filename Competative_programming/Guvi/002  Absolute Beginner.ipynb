{
 "cells": [
  {
   "cell_type": "markdown",
   "id": "0cd28ca4",
   "metadata": {},
   "source": [
    "# 1.You are given with a number \"N\", find its cube."
   ]
  },
  {
   "cell_type": "raw",
   "id": "8371d435",
   "metadata": {},
   "source": [
    "\n",
    "\n",
    "Input Description:\n",
    "A positive integer is provided.\n",
    "\n",
    "Output Description:\n",
    "Find the cube of the number.\n",
    "\n",
    "Sample Input :\n",
    "2\n",
    "Sample Output :\n",
    "8"
   ]
  },
  {
   "cell_type": "code",
   "execution_count": 1,
   "id": "2d718b9b",
   "metadata": {},
   "outputs": [
    {
     "name": "stdout",
     "output_type": "stream",
     "text": [
      "2\n",
      "8\n"
     ]
    }
   ],
   "source": [
    "value = int(input())\n",
    "\n",
    "cube = value*value*value\n",
    "\n",
    "print(cube)"
   ]
  },
  {
   "cell_type": "markdown",
   "id": "2e3bd15d",
   "metadata": {},
   "source": [
    "# 2.The area of an equilateral triangle is ¼(√3a2) where \"a\" represents a side of the triangle. You are provided with the side \"a\". Find the area of the equilateral triangle."
   ]
  },
  {
   "cell_type": "raw",
   "id": "1a7ca573",
   "metadata": {},
   "source": [
    "Input Description:\n",
    "The side of an equilateral triangle is provided as the input.\n",
    "\n",
    "Output Description:\n",
    "Find the area of the equilateral triangle and print the answer up to 2 decimal places after rounding off.\n",
    "\n",
    "Sample Input :\n",
    "20\n",
    "Sample Output :\n",
    "173.21"
   ]
  },
  {
   "cell_type": "code",
   "execution_count": 2,
   "id": "e363e4b0",
   "metadata": {},
   "outputs": [
    {
     "name": "stdout",
     "output_type": "stream",
     "text": [
      "20\n",
      "173.21\n"
     ]
    }
   ],
   "source": [
    "import math\n",
    "\n",
    "n = int(input())\n",
    "\n",
    "area = (1/4)*(math.sqrt(3)*(n*n))\n",
    "\n",
    "print(round(area,2))"
   ]
  },
  {
   "cell_type": "markdown",
   "id": "f2a57845",
   "metadata": {},
   "source": [
    "# 3.Print the First 3 multiples of the given number \"N\". (N is a positive integer)\n",
    "\n",
    "Note: print the characters with a single space between them."
   ]
  },
  {
   "cell_type": "raw",
   "id": "a62e5239",
   "metadata": {},
   "source": [
    "input Description:\n",
    "A positive integer is provided to you as an input.\n",
    "\n",
    "Output Description:\n",
    "Print the First 3 multiples of the number with single spaces between them as an output.\n",
    "\n",
    "Sample Input :\n",
    "2\n",
    "Sample Output :\n",
    "2 4 6"
   ]
  },
  {
   "cell_type": "code",
   "execution_count": 3,
   "id": "0811f4e9",
   "metadata": {},
   "outputs": [
    {
     "name": "stdout",
     "output_type": "stream",
     "text": [
      "2\n",
      "2 4 6\n"
     ]
    }
   ],
   "source": [
    "n = int(input())\n",
    "\n",
    "c = \"\"\n",
    "\n",
    "for k in range(1,4):\n",
    "    \n",
    "  c = c+ str(n*k)+\" \"\n",
    "\n",
    "print(c.strip())\n"
   ]
  },
  {
   "cell_type": "markdown",
   "id": "5fbf3f52",
   "metadata": {},
   "source": [
    "# 4. You are provided with a number \"N\", Find the Nth term of the series: 1, 4, 9, 16, 25, 36, 49, 64, 81, .......\n",
    "\n",
    "(Print \"Error\" if N = negative value and 0 if N = 0)."
   ]
  },
  {
   "cell_type": "raw",
   "id": "c5b4681e",
   "metadata": {},
   "source": [
    "Input Description:\n",
    "An integer N is provided to you as the input.\n",
    "\n",
    "Output Description:\n",
    "Find the Nth term in the provided series.\n",
    "\n",
    "Sample Input :\n",
    "18\n",
    "Sample Output :\n",
    "324"
   ]
  },
  {
   "cell_type": "code",
   "execution_count": 4,
   "id": "ed1bf654",
   "metadata": {},
   "outputs": [
    {
     "name": "stdout",
     "output_type": "stream",
     "text": [
      "18\n",
      "324\n"
     ]
    }
   ],
   "source": [
    "num = int(input())\n",
    "\n",
    "print(num*num)"
   ]
  },
  {
   "cell_type": "markdown",
   "id": "b02ba44a",
   "metadata": {},
   "source": [
    "# You will be provided with a number. Print the number of days in the month corresponding to that number.\n",
    "\n",
    "Note: In case the input is February, print 28 days. If the Input is not in valid range print \"Error\"."
   ]
  },
  {
   "cell_type": "raw",
   "id": "f1a60990",
   "metadata": {},
   "source": [
    "Input Description:\n",
    "The input is in the form of a number.\n",
    "\n",
    "Output Description:\n",
    "Find the days in the month corresponding to the input number. Print Error if the input is not in a valid range.\n",
    "\n",
    "Sample Input :\n",
    "8\n",
    "Sample Output :\n",
    "31"
   ]
  },
  {
   "cell_type": "code",
   "execution_count": 5,
   "id": "a5b1b25a",
   "metadata": {},
   "outputs": [
    {
     "name": "stdout",
     "output_type": "stream",
     "text": [
      "8\n",
      "31\n"
     ]
    }
   ],
   "source": [
    "a = int(input())\n",
    "b = [1,3,5,7,8,10,12]\n",
    "c = [4,6,9,11]\n",
    "#d = 2\n",
    "if a in b:\n",
    "  print(31)\n",
    "elif a in c:\n",
    "  print(30)\n",
    "elif a ==2:\n",
    "  print(28)\n",
    "else:\n",
    "  print(\"Error\")\n"
   ]
  },
  {
   "cell_type": "markdown",
   "id": "34f7de6c",
   "metadata": {},
   "source": [
    "# 6.You are given Two Numbers, A and B. If C = A + B. Find C.\n",
    "\n",
    "Note: Round off the output to a single decimal place."
   ]
  },
  {
   "cell_type": "raw",
   "id": "6695bd62",
   "metadata": {},
   "source": [
    "Input Description:\n",
    "You are provided with two numbers A and B.\n",
    "\n",
    "Output Description:\n",
    "Find the sum of the two numbers (A + B)\n",
    "\n",
    "Sample Input :\n",
    "1\n",
    "1\n",
    "Sample Output :\n",
    "2"
   ]
  },
  {
   "cell_type": "code",
   "execution_count": 6,
   "id": "58bf7fbf",
   "metadata": {},
   "outputs": [
    {
     "name": "stdout",
     "output_type": "stream",
     "text": [
      "1\n",
      "1\n",
      "2\n"
     ]
    }
   ],
   "source": [
    "number1 = int(input())\n",
    "\n",
    "number2 = int(input())\n",
    "\n",
    "print(number1 + number2)"
   ]
  },
  {
   "cell_type": "markdown",
   "id": "dedf2d71",
   "metadata": {},
   "source": [
    "# 7.You are provided with a number, \"N\". Find its factorial."
   ]
  },
  {
   "cell_type": "raw",
   "id": "30b7350c",
   "metadata": {},
   "source": [
    "Input Description:\n",
    "A positive integer is provided as an input.\n",
    "\n",
    "Output Description:\n",
    "Print the factorial of the integer.\n",
    "\n",
    "Sample Input :\n",
    "2\n",
    "Sample Output :\n",
    "2"
   ]
  },
  {
   "cell_type": "code",
   "execution_count": 7,
   "id": "bb6f9410",
   "metadata": {},
   "outputs": [
    {
     "name": "stdout",
     "output_type": "stream",
     "text": [
      "2\n",
      "2\n"
     ]
    }
   ],
   "source": [
    "import math\n",
    "\n",
    "n = int(input())\n",
    "\n",
    "print(math.factorial(n))"
   ]
  },
  {
   "cell_type": "markdown",
   "id": "d43b9377",
   "metadata": {},
   "source": [
    "# 8.You are given A = Length of a rectangle & B = breadth of a rectangle. Find its area “C”.\n",
    "\n",
    "(A and B are natural numbers)"
   ]
  },
  {
   "cell_type": "raw",
   "id": "66b664cc",
   "metadata": {},
   "source": [
    "Input Description:\n",
    "The inputs are two natural numbers representing the length and the breadth of a rectangle.\n",
    "\n",
    "Output Description:\n",
    "Find the area of the rectangle formed by the provided input. Round off the answer to the first decimal place if required.\n",
    "\n",
    "Sample Input :\n",
    "2\n",
    "3\n",
    "Sample Output :\n",
    "6"
   ]
  },
  {
   "cell_type": "code",
   "execution_count": 8,
   "id": "0bfc6ca1",
   "metadata": {},
   "outputs": [
    {
     "name": "stdout",
     "output_type": "stream",
     "text": [
      "2\n",
      "3\n",
      "6\n"
     ]
    }
   ],
   "source": [
    "x = int(input())\n",
    "\n",
    "\n",
    "y = int(input())\n",
    "\n",
    "\n",
    "print(x*y)"
   ]
  },
  {
   "cell_type": "markdown",
   "id": "c3ae98c6",
   "metadata": {},
   "source": [
    "# 9.Let \"A\"  be a string. Remove all the whitespaces and find it's length."
   ]
  },
  {
   "cell_type": "raw",
   "id": "9619c986",
   "metadata": {},
   "source": [
    "Input Description:\n",
    "A string is provide as an input\n",
    "\n",
    "Output Description:\n",
    "Remove all the whitespaces and then print the length of the remaining string.\n",
    "\n",
    "Sample Input :\n",
    "Lorem Ipsum\n",
    "Sample Output :\n",
    "10"
   ]
  },
  {
   "cell_type": "code",
   "execution_count": 9,
   "id": "9c175d83",
   "metadata": {},
   "outputs": [
    {
     "name": "stdout",
     "output_type": "stream",
     "text": [
      "lorem ipsum\n",
      "10\n"
     ]
    }
   ],
   "source": [
    "N = input().split(\" \")\n",
    "\n",
    "b = \"\".join(N)\n",
    "\n",
    "print(len(b))\n"
   ]
  },
  {
   "cell_type": "markdown",
   "id": "0430191b",
   "metadata": {},
   "source": [
    "# 10. You are given a number A in Kilometers. Convert this into B: Meters and C: Centi-Metres."
   ]
  },
  {
   "cell_type": "raw",
   "id": "93167d63",
   "metadata": {},
   "source": [
    "Input Description:\n",
    "A number \"A\" representing some distance in kilometer is provided to you as the input.\n",
    "\n",
    "Output Description:\n",
    "Convert and print this value in meters and centimeters.\n",
    "\n",
    "Sample Input :\n",
    "2\n",
    "Sample Output :\n",
    "2000\n",
    "200000"
   ]
  },
  {
   "cell_type": "code",
   "execution_count": 10,
   "id": "1c5c2409",
   "metadata": {},
   "outputs": [
    {
     "name": "stdout",
     "output_type": "stream",
     "text": [
      "2\n",
      "2000\n",
      "200000\n"
     ]
    }
   ],
   "source": [
    "o = int(input()) #  1km = 1000m\n",
    "\n",
    "print(o*1000)   #1m = 100cm\n",
    "\n",
    "print(o*100000)  #1km = 1000*100"
   ]
  },
  {
   "cell_type": "markdown",
   "id": "903f155d",
   "metadata": {},
   "source": [
    "# 11.You are provided with a number check whether its odd or even. \n",
    "\n",
    "Print \"Odd\" or \"Even\" for the corresponding cases.\n",
    "\n",
    "Note: In case of a decimal, Round off to nearest integer and then find the output. Incase the input is zero, print \"Zero\"."
   ]
  },
  {
   "cell_type": "raw",
   "id": "50ed0509",
   "metadata": {},
   "source": [
    "Input Description:\n",
    "A number is provided as the input.\n",
    "\n",
    "Output Description:\n",
    "Find out whether the number is odd or even. Print \"Odd\" or \"Even\" for the corresponding cases. Note: In case of a decimal, Round off to nearest integer and then find the output. In case the input is zero, print \"Zero\".\n",
    "\n",
    "Sample Input :\n",
    "2\n",
    "Sample Output :\n",
    "Even\n"
   ]
  },
  {
   "cell_type": "code",
   "execution_count": 12,
   "id": "7bb7aef5",
   "metadata": {},
   "outputs": [
    {
     "name": "stdout",
     "output_type": "stream",
     "text": [
      "2\n",
      "Even\n"
     ]
    }
   ],
   "source": [
    "Number = int(input())\n",
    "\n",
    "if Number%2==0:\n",
    "    print(\"Even\")\n",
    "else:\n",
    "    print(\"Odd\")"
   ]
  },
  {
   "cell_type": "markdown",
   "id": "f3b71256",
   "metadata": {},
   "source": [
    "# 12.Using the method of looping, write a program to print the table of 9 till N in the format as follows:\n",
    "(N is input by the user)\n",
    "\n",
    "9 18 27...\n",
    "\n",
    "Print NULL if 0 is input"
   ]
  },
  {
   "cell_type": "raw",
   "id": "0ddc4116",
   "metadata": {},
   "source": [
    "Input Description:\n",
    "A positive integer is provided as an input.\n",
    "\n",
    "Output Description:\n",
    "Print the table of nine with single space between the elements till the number that is input.\n",
    "\n",
    "Sample Input :\n",
    "3\n",
    "Sample Output :\n",
    "9 18 27"
   ]
  },
  {
   "cell_type": "code",
   "execution_count": 13,
   "id": "df820a15",
   "metadata": {},
   "outputs": [
    {
     "name": "stdout",
     "output_type": "stream",
     "text": [
      "3\n",
      "9 18 27\n"
     ]
    }
   ],
   "source": [
    "x = int(input())\n",
    "\n",
    "li =[]\n",
    "\n",
    "for i in range(1,x+1):\n",
    "    \n",
    "    li.append(i*9)\n",
    "    \n",
    "print(*li)"
   ]
  },
  {
   "cell_type": "markdown",
   "id": "ffce6472",
   "metadata": {},
   "source": [
    "# 13. Write a code to get 2 integers A and N. Print the integer A, N times in separate line."
   ]
  },
  {
   "cell_type": "raw",
   "id": "6faa8d1f",
   "metadata": {},
   "source": [
    "Input Description:\n",
    "First line contains an integer A. Second line contains an Integer N.\n",
    "\n",
    "Output Description:\n",
    "Print the integer A, N times in a separate line.\n",
    "\n",
    "Sample Input :\n",
    "2 3\n",
    "Sample Output :\n",
    "2\n",
    "2\n",
    "2"
   ]
  },
  {
   "cell_type": "code",
   "execution_count": 16,
   "id": "1ae26171",
   "metadata": {},
   "outputs": [
    {
     "name": "stdout",
     "output_type": "stream",
     "text": [
      "2 3\n",
      "2\n",
      "2\n",
      "2\n"
     ]
    }
   ],
   "source": [
    "x,y = map(int,input().split(\" \"))\n",
    "\n",
    "for i in range (y):\n",
    "    \n",
    "    print(x)"
   ]
  },
  {
   "cell_type": "markdown",
   "id": "6c7fb604",
   "metadata": {},
   "source": [
    "# 14. Let \"A\" be a year, write a program to check whether this year is a leap year or not.\n",
    "\n",
    "Print \"Y\" if its a leap year and \"N\" if its a common year."
   ]
  },
  {
   "cell_type": "raw",
   "id": "699e9df4",
   "metadata": {},
   "source": [
    "Input Description:\n",
    "A Year is the input in the form of a positive integer.\n",
    "\n",
    "Output Description:\n",
    "Print \"Y\" if its a leap year and \"N\" if its a common year.\n",
    "\n",
    "Sample Input :\n",
    "2020\n",
    "Sample Output :\n",
    "Y"
   ]
  },
  {
   "cell_type": "code",
   "execution_count": 17,
   "id": "171ec529",
   "metadata": {},
   "outputs": [
    {
     "name": "stdout",
     "output_type": "stream",
     "text": [
      "2020\n",
      "Y\n"
     ]
    }
   ],
   "source": [
    "year = int(input())\n",
    "\n",
    "if (year%4 == 0 and year%100 != 0) or (year%400 == 0) :\n",
    "    print(\"Y\")\n",
    "else :\n",
    "    print (\"N\")"
   ]
  },
  {
   "cell_type": "markdown",
   "id": "552f260c",
   "metadata": {},
   "source": [
    "# 15. Write a code to get an integer N and print the even values from 1 till N in a separate line."
   ]
  },
  {
   "cell_type": "raw",
   "id": "c4acc405",
   "metadata": {},
   "source": [
    "Input Description:\n",
    "A single line contains an integer N.\n",
    "\n",
    "Output Description:\n",
    "Print the even values from 1 to N in a separate line.\n",
    "\n",
    "Sample Input :\n",
    "6\n",
    "Sample Output :\n",
    "2\n",
    "4\n",
    "6"
   ]
  },
  {
   "cell_type": "code",
   "execution_count": 18,
   "id": "e0053a87",
   "metadata": {},
   "outputs": [
    {
     "name": "stdout",
     "output_type": "stream",
     "text": [
      "6\n",
      "2\n",
      "4\n",
      "6\n"
     ]
    }
   ],
   "source": [
    "n = int(input())\n",
    "\n",
    "for i in range(2,n+1):\n",
    "    \n",
    "    if i%2 == 0:\n",
    "        \n",
    "        print(i)"
   ]
  },
  {
   "cell_type": "markdown",
   "id": "91f5974c",
   "metadata": {},
   "source": [
    "# 16. Write a code to get an integer N and print the values from N to 1."
   ]
  },
  {
   "cell_type": "raw",
   "id": "fb00f202",
   "metadata": {},
   "source": [
    "Input Description:\n",
    "A single line contains an integer N.\n",
    "\n",
    "Output Description:\n",
    "Print the values from N to 1 in a separate line.\n",
    "\n",
    "Sample Input :\n",
    "10\n",
    "Sample Output :\n",
    "10\n",
    "9\n",
    "8\n",
    "7\n",
    "6\n",
    "5\n",
    "4\n",
    "3\n",
    "2\n",
    "1\n"
   ]
  },
  {
   "cell_type": "code",
   "execution_count": 1,
   "id": "4a2a574f",
   "metadata": {},
   "outputs": [
    {
     "name": "stdout",
     "output_type": "stream",
     "text": [
      "10\n",
      "10\n",
      "9\n",
      "8\n",
      "7\n",
      "6\n",
      "5\n",
      "4\n",
      "3\n",
      "2\n",
      "1\n"
     ]
    }
   ],
   "source": [
    "number = int(input())\n",
    "\n",
    "for i in range (number,0,-1):\n",
    "    \n",
    "    print(i)\n",
    "    \n",
    "    "
   ]
  },
  {
   "cell_type": "markdown",
   "id": "c1c20d97",
   "metadata": {},
   "source": [
    "# 17.You are given with a number A i.e. the temperature in Celcius. Write a program to convert this into Fahrenheit. \n",
    "\n",
    "Note: In case of decimal values, round-off to two decimal places."
   ]
  },
  {
   "cell_type": "raw",
   "id": "1480d8bb",
   "metadata": {},
   "source": [
    "Input Description:\n",
    "A number is provided in Celcius as the input of the program.\n",
    "\n",
    "Output Description:\n",
    "The output shall be the temperature converted into Fahrenheit corresponding to the input value print up to two decimal places and round off if required.\n",
    "\n",
    "Sample Input :\n",
    "12\n",
    "Sample Output :\n",
    "53.60"
   ]
  },
  {
   "cell_type": "code",
   "execution_count": 2,
   "id": "01af8920",
   "metadata": {},
   "outputs": [
    {
     "name": "stdout",
     "output_type": "stream",
     "text": [
      "12\n",
      "53.6\n"
     ]
    }
   ],
   "source": [
    "x = float(input()) #use int or float\n",
    "\n",
    "f = x*(9/5)+32  # formula\n",
    "\n",
    "print(round(f,2)) # round is a functin ,we can use to #display no of decimal values we have "
   ]
  },
  {
   "cell_type": "markdown",
   "id": "0c2b95e9",
   "metadata": {},
   "source": [
    "# 18.Write a code to get 2 integers as input and find the HCF of the 2 integer without using recursion or Euclidean algorithm."
   ]
  },
  {
   "cell_type": "raw",
   "id": "ef0f020e",
   "metadata": {},
   "source": [
    "Input Description:\n",
    "A single line containing 2 integers separated by space.\n",
    "\n",
    "Output Description:\n",
    "Print the HCF of the integers.\n",
    "\n",
    "Sample Input :\n",
    "2 3\n",
    "Sample Output :\n",
    "1"
   ]
  },
  {
   "cell_type": "code",
   "execution_count": 3,
   "id": "53fcdc23",
   "metadata": {},
   "outputs": [
    {
     "name": "stdout",
     "output_type": "stream",
     "text": [
      "2 3\n",
      "1\n"
     ]
    }
   ],
   "source": [
    "def compute_hcf(x, y):\n",
    "\n",
    "# choose the smaller number\n",
    "    if x > y:\n",
    "        smaller = y\n",
    "    else:\n",
    "        smaller = x\n",
    "    for i in range(1, smaller+1):\n",
    "        if((x % i == 0) and (y % i == 0)):\n",
    "            hcf = i \n",
    "    return hcf\n",
    "\n",
    "num1,num2=list(map(int,input().split(\" \")))\n",
    "\n",
    "\n",
    "print( compute_hcf(num1, num2))"
   ]
  },
  {
   "cell_type": "markdown",
   "id": "79e9e747",
   "metadata": {},
   "source": [
    "# 19.Write a code to get the input and print it 5 times."
   ]
  },
  {
   "cell_type": "raw",
   "id": "c231a3e2",
   "metadata": {},
   "source": [
    "Input Description:\n",
    "A single line contains an integer N.\n",
    "\n",
    "Output Description:\n",
    "Output contains 5 lines with each line having the value N.\n",
    "\n",
    "Sample Input :\n",
    "4\n",
    "Sample Output :\n",
    "4\n",
    "4\n",
    "4\n",
    "4\n",
    "4"
   ]
  },
  {
   "cell_type": "code",
   "execution_count": 2,
   "id": "c8517e4f",
   "metadata": {},
   "outputs": [
    {
     "name": "stdout",
     "output_type": "stream",
     "text": [
      "4\n",
      "4\n",
      "4\n",
      "4\n",
      "4\n",
      "4\n"
     ]
    }
   ],
   "source": [
    "num = int(input())\n",
    "\n",
    "for i in range(5):\n",
    "  print(num)"
   ]
  },
  {
   "cell_type": "markdown",
   "id": "3e3aec2d",
   "metadata": {},
   "source": [
    "# 20. Write a program to get a string as input and reverse the string without using temporary variable."
   ]
  },
  {
   "cell_type": "raw",
   "id": "4585529b",
   "metadata": {},
   "source": [
    "Input Description:\n",
    "A single line containing a string.\n",
    "\n",
    "Output Description:\n",
    "Print the reversed string.\n",
    "\n",
    "Sample Input :\n",
    "GUVI\n",
    "Sample Output :\n",
    "IVUG"
   ]
  },
  {
   "cell_type": "code",
   "execution_count": 3,
   "id": "17eed90b",
   "metadata": {},
   "outputs": [
    {
     "name": "stdout",
     "output_type": "stream",
     "text": [
      "GUVI\n",
      "IVUG\n"
     ]
    }
   ],
   "source": [
    "str = input()\n",
    "\n",
    "b = reversed(str)\n",
    "\n",
    "print(\"\".join(b))"
   ]
  },
  {
   "cell_type": "markdown",
   "id": "02fc8307",
   "metadata": {},
   "source": [
    "# 21.Write a code get an integer number as input and print the sum of the digits."
   ]
  },
  {
   "cell_type": "raw",
   "id": "643d04f8",
   "metadata": {},
   "source": [
    "Input Description:\n",
    "A single line containing an integer.\n",
    "\n",
    "Output Description:\n",
    "Print the sum of the digits of the integer.\n",
    "\n",
    "Sample Input :\n",
    "124\n",
    "Sample Output :\n",
    "7"
   ]
  },
  {
   "cell_type": "code",
   "execution_count": 4,
   "id": "2f50c4a8",
   "metadata": {},
   "outputs": [
    {
     "name": "stdout",
     "output_type": "stream",
     "text": [
      "124\n",
      "7\n"
     ]
    }
   ],
   "source": [
    "integer = input()\n",
    "\n",
    "x = list(map(int,integer))\n",
    "\n",
    "sum = 0\n",
    "\n",
    "for i in range (len(x)):\n",
    "    \n",
    "    sum = sum+x[i]\n",
    "    \n",
    "print(sum)\n",
    "    "
   ]
  },
  {
   "cell_type": "markdown",
   "id": "41c75bac",
   "metadata": {},
   "source": [
    "# 22.You are provided with the radius of a circle \"A\". Find the length of its circumference.\n",
    "\n",
    "Note: In case the output is coming in decimal, roundoff to 2nd decimal place. In case the input is a negative number, print \"Error\"."
   ]
  },
  {
   "cell_type": "raw",
   "id": "d52ce765",
   "metadata": {},
   "source": [
    "Input Description:\n",
    "The Radius of a circle is provided as the input of the program.\n",
    "\n",
    "Output Description:\n",
    "Calculate and print the Circumference of the circle corresponding to the input radius up to two decimal places.\n",
    "\n",
    "Sample Input :\n",
    "2\n",
    "Sample Output :\n",
    "12.57"
   ]
  },
  {
   "cell_type": "code",
   "execution_count": 5,
   "id": "888918d4",
   "metadata": {},
   "outputs": [
    {
     "name": "stdout",
     "output_type": "stream",
     "text": [
      "2\n",
      "12.57\n"
     ]
    }
   ],
   "source": [
    "number = float(input())\n",
    "\n",
    "circle = 2*(22/7)*number\n",
    "\n",
    "print(round(circle,2))"
   ]
  },
  {
   "cell_type": "markdown",
   "id": "dd0e2990",
   "metadata": {},
   "source": [
    "#  23.Write a code to get an integer N and print the sum of  values from 1 to N."
   ]
  },
  {
   "cell_type": "raw",
   "id": "e622a4c1",
   "metadata": {},
   "source": [
    "Input Description:\n",
    "A single line contains an integer N.\n",
    "\n",
    "Output Description:\n",
    "Print the sum of values from 1 to N.\n",
    "\n",
    "Sample Input :\n",
    "10\n",
    "Sample Output :\n",
    "55"
   ]
  },
  {
   "cell_type": "code",
   "execution_count": 6,
   "id": "f103dffc",
   "metadata": {},
   "outputs": [
    {
     "name": "stdout",
     "output_type": "stream",
     "text": [
      "10\n",
      "55\n"
     ]
    }
   ],
   "source": [
    "num = int(input())\n",
    "\n",
    "sum = 0\n",
    "\n",
    "for i in range(1,num+1):\n",
    "    \n",
    "    sum+=i\n",
    "    #sum+=1  to ad how many iterations\n",
    "    \n",
    "    \n",
    "print(sum)"
   ]
  },
  {
   "cell_type": "markdown",
   "id": "d4d891ce",
   "metadata": {},
   "source": [
    "# 24.Write a code to get an integer N and print the digits of the integer."
   ]
  },
  {
   "cell_type": "raw",
   "id": "fda90fe8",
   "metadata": {},
   "source": [
    "Input Description:\n",
    "A single line contains an integer N.\n",
    "\n",
    "Output Description:\n",
    "Print the digits of the integer in a single line separated by space,\n",
    "\n",
    "Sample Input :\n",
    "348\n",
    "Sample Output :\n",
    "3 4 8"
   ]
  },
  {
   "cell_type": "code",
   "execution_count": 7,
   "id": "0b6b808f",
   "metadata": {},
   "outputs": [
    {
     "name": "stdout",
     "output_type": "stream",
     "text": [
      "346\n",
      "3 4 6\n"
     ]
    }
   ],
   "source": [
    "a = input()\n",
    "b = list(a)\n",
    "print(\" \".join(b))"
   ]
  },
  {
   "cell_type": "markdown",
   "id": "bb3a58fa",
   "metadata": {},
   "source": [
    "# 25. You are given with Principle amount($), Interest Rate(%) and Time (years) in that order. Find Simple Interest.\n",
    "\n",
    "Print the output up to two decimal places (Round-off if necessary).\n",
    "\n",
    "(S.I. = P*T*R/100)\n",
    "\n",
    "Input Description:\n",
    "Three values are given to you as the input. these values correspond to Principle amount, Interest Rate and Time in that particular order."
   ]
  },
  {
   "cell_type": "raw",
   "id": "d6d7a5d2",
   "metadata": {},
   "source": [
    "Output Description:\n",
    "Find the Simple interest and print it up to two decimal places. Round off if required.\n",
    "\n",
    "Sample Input :\n",
    "1000 2 5\n",
    "Sample Output :\n",
    "100.00"
   ]
  },
  {
   "cell_type": "code",
   "execution_count": 8,
   "id": "4916dc57",
   "metadata": {},
   "outputs": [
    {
     "name": "stdout",
     "output_type": "stream",
     "text": [
      "1000 2 5\n",
      "100.0\n"
     ]
    }
   ],
   "source": [
    "arr = list(map(float, input().split(\" \"))) \n",
    "s = arr[0]*arr[1]*arr[2]/100\n",
    "\n",
    "print(round(s,2)) "
   ]
  },
  {
   "cell_type": "markdown",
   "id": "9c916f46",
   "metadata": {},
   "source": [
    "#  26. Write a code get an integer number as input and print the odd and even digits of the number separately."
   ]
  },
  {
   "cell_type": "raw",
   "id": "6ef6fc73",
   "metadata": {},
   "source": [
    "Input Description:\n",
    "A single line containing an integer.\n",
    "\n",
    "Output Description:\n",
    "Print the even and odd integers of the integer in a separate line.\n",
    "\n",
    "Sample Input :\n",
    "1234\n",
    "Sample Output :\n",
    "2 4\n",
    "1 3"
   ]
  },
  {
   "cell_type": "code",
   "execution_count": 9,
   "id": "25e2dca3",
   "metadata": {},
   "outputs": [
    {
     "name": "stdout",
     "output_type": "stream",
     "text": [
      "1234\n",
      "2 4\n",
      "1 3\n"
     ]
    }
   ],
   "source": [
    "digits = list(map(int,input()))\n",
    "#print(digits)\n",
    "\n",
    "even =[]\n",
    "\n",
    "odd = []\n",
    "\n",
    "for i in range(len(digits)):\n",
    "  if digits[i]%2==0:\n",
    "    even.append(digits[i])\n",
    "    #print(even)\n",
    "  else:\n",
    "    odd.append(digits[i])\n",
    "    #print(odd)\n",
    "\n",
    "even.sort()\n",
    "odd.sort()\n",
    "print(*even)\n",
    "print(*odd)"
   ]
  },
  {
   "cell_type": "markdown",
   "id": "56564eb5",
   "metadata": {},
   "source": [
    "# 27. You are given three numbers A, B & C. Print the largest amongst these three numbers."
   ]
  },
  {
   "cell_type": "raw",
   "id": "9283a220",
   "metadata": {},
   "source": [
    "Input Description:\n",
    "Three numbers are provided to you.\n",
    "\n",
    "Output Description:\n",
    "Find and print the largest among the three\n",
    "\n",
    "Sample Input :\n",
    "1\n",
    "2\n",
    "3\n",
    "Sample Output :\n",
    "3"
   ]
  },
  {
   "cell_type": "code",
   "execution_count": 10,
   "id": "6bd66346",
   "metadata": {},
   "outputs": [
    {
     "name": "stdout",
     "output_type": "stream",
     "text": [
      "1\n",
      "2\n",
      "3\n",
      "3\n"
     ]
    }
   ],
   "source": [
    "x = int(input())\n",
    "\n",
    "y = int(input())\n",
    "\n",
    "c = int(input())\n",
    "\n",
    "print(max(x,y,c))"
   ]
  },
  {
   "cell_type": "markdown",
   "id": "7841a2e6",
   "metadata": {},
   "source": [
    "# 28. Write a code to get an integer N and print values from 1 till N in a separate line. "
   ]
  },
  {
   "cell_type": "raw",
   "id": "53f6c926",
   "metadata": {},
   "source": [
    "Output Description:\n",
    "Print the values from 1 to N in a separate line.\n",
    "\n",
    "Sample Input :\n",
    "5\n",
    "Sample Output :\n",
    "1\n",
    "2\n",
    "3\n",
    "4\n",
    "5\n"
   ]
  },
  {
   "cell_type": "code",
   "execution_count": 11,
   "id": "9883300b",
   "metadata": {},
   "outputs": [
    {
     "name": "stdout",
     "output_type": "stream",
     "text": [
      "5\n",
      "1\n",
      "2\n",
      "3\n",
      "4\n",
      "5\n"
     ]
    }
   ],
   "source": [
    "num = int(input())\n",
    "\n",
    "for i in range(1,num+1):\n",
    "    \n",
    "    print(i)"
   ]
  },
  {
   "cell_type": "code",
   "execution_count": null,
   "id": "104f2c1c",
   "metadata": {},
   "outputs": [],
   "source": []
  }
 ],
 "metadata": {
  "kernelspec": {
   "display_name": "Python 3 (ipykernel)",
   "language": "python",
   "name": "python3"
  },
  "language_info": {
   "codemirror_mode": {
    "name": "ipython",
    "version": 3
   },
   "file_extension": ".py",
   "mimetype": "text/x-python",
   "name": "python",
   "nbconvert_exporter": "python",
   "pygments_lexer": "ipython3",
   "version": "3.11.2"
  }
 },
 "nbformat": 4,
 "nbformat_minor": 5
}
