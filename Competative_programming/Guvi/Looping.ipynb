{
 "cells": [
  {
   "cell_type": "markdown",
   "id": "7f7b50e4",
   "metadata": {},
   "source": [
    "# 1. Write a code to get the input and print it 5 times.\n",
    "\n",
    "\n"
   ]
  },
  {
   "cell_type": "raw",
   "id": "6769843c",
   "metadata": {},
   "source": [
    "Input Description:\n",
    "\n",
    "A single line contains an integer N.\n",
    "\n",
    "Output Description:\n",
    "\n",
    "Output contains 5 lines with each line having the value N.\n",
    "\n",
    "Sample Input :\n",
    "4\n",
    "Sample Output :\n",
    "4\n",
    "4\n",
    "4\n",
    "4\n",
    "4"
   ]
  },
  {
   "cell_type": "code",
   "execution_count": 1,
   "id": "580a5a84",
   "metadata": {},
   "outputs": [
    {
     "name": "stdout",
     "output_type": "stream",
     "text": [
      "Enter your Number:4\n",
      "4\n",
      "4\n",
      "4\n",
      "4\n",
      "4\n"
     ]
    }
   ],
   "source": [
    "num=int(input(\"Enter your Number:\"))\n",
    "for i in range(5):\n",
    "    print(num)"
   ]
  },
  {
   "cell_type": "markdown",
   "id": "45978042",
   "metadata": {},
   "source": [
    "# 2.Write a code to get an integer N and print values from 1 till N in a separate line."
   ]
  },
  {
   "cell_type": "raw",
   "id": "dd6d1d07",
   "metadata": {},
   "source": [
    "Input Description:\n",
    "A single line contains an integer N.\n",
    "\n",
    "Output Description:\n",
    "Print the values from 1 to N in a separate line.\n",
    "\n",
    "Sample Input :\n",
    "5\n",
    "Sample Output :\n",
    "1\n",
    "2\n",
    "3\n",
    "4\n",
    "5"
   ]
  },
  {
   "cell_type": "code",
   "execution_count": 2,
   "id": "89fb247a",
   "metadata": {},
   "outputs": [
    {
     "name": "stdout",
     "output_type": "stream",
     "text": [
      "enter your number4\n",
      "1\n",
      "2\n",
      "3\n",
      "4\n"
     ]
    }
   ],
   "source": [
    "a = int(input(\"enter your number\"))\n",
    "for i in range(1,a+1):\n",
    "    print(i)"
   ]
  },
  {
   "cell_type": "markdown",
   "id": "9777343c",
   "metadata": {},
   "source": [
    "# 3.Write a code to get 2 integers as input and add the integers without any carry."
   ]
  },
  {
   "cell_type": "raw",
   "id": "8c339396",
   "metadata": {},
   "source": [
    "Input Description:\n",
    "A single line containing 2 integers.\n",
    "\n",
    "Output Description:\n",
    "Print sum of the 2 integers without carry\n",
    "\n",
    "Sample Input :\n",
    "44 66\n",
    "Sample Output :\n",
    "0"
   ]
  },
  {
   "cell_type": "code",
   "execution_count": 3,
   "id": "b5129ef2",
   "metadata": {},
   "outputs": [
    {
     "name": "stdout",
     "output_type": "stream",
     "text": [
      "44 66\n",
      "0\n"
     ]
    }
   ],
   "source": [
    "a, b = map(int, input().split())\n",
    "\n",
    "# Add integers without carry\n",
    "result = (a + b) % 10\n",
    "\n",
    "# Print result\n",
    "print(result)"
   ]
  },
  {
   "cell_type": "code",
   "execution_count": 4,
   "id": "ce45d43f",
   "metadata": {},
   "outputs": [
    {
     "name": "stdout",
     "output_type": "stream",
     "text": [
      "44 66\n",
      "44 66\n",
      "0\n"
     ]
    }
   ],
   "source": [
    "a,b=map(int,input().split())\n",
    "print(a,b)\n",
    "result=(a+b)%10\n",
    "print(result)"
   ]
  },
  {
   "cell_type": "code",
   "execution_count": 5,
   "id": "2f291373",
   "metadata": {},
   "outputs": [
    {
     "name": "stdout",
     "output_type": "stream",
     "text": [
      "44 66\n",
      "0\n"
     ]
    }
   ],
   "source": [
    "# Get input from user\n",
    "a, b = map(int, input().split())\n",
    "\n",
    "# Add integers without carry\n",
    "result = (a + b) % 10\n",
    "\n",
    "# Print result\n",
    "print(result)\n"
   ]
  },
  {
   "cell_type": "code",
   "execution_count": 6,
   "id": "3363f11e",
   "metadata": {},
   "outputs": [
    {
     "name": "stdout",
     "output_type": "stream",
     "text": [
      "44 66\n",
      "2\n"
     ]
    }
   ],
   "source": [
    "# Get input from user\n",
    "a, b = map(int, input().split())\n",
    "\n",
    "# Add integers without carry\n",
    "result = 0\n",
    "\n",
    "for i in str(a+b):\n",
    "    if i.isdigit():\n",
    "        result += int(i)\n",
    "\n",
    "# Print result\n",
    "print(result)\n"
   ]
  },
  {
   "cell_type": "code",
   "execution_count": 7,
   "id": "ea845455",
   "metadata": {},
   "outputs": [
    {
     "name": "stdout",
     "output_type": "stream",
     "text": [
      "44 66\n",
      "0\n",
      "<class 'int'>\n"
     ]
    }
   ],
   "source": [
    "# Get input from user\n",
    "a, b = map(int, input().split())\n",
    "\n",
    "a = [int(x) for x in str(a)]\n",
    "b = [int(x) for x in str(b)]\n",
    "\n",
    "result = []\n",
    "\n",
    "# Add integers without carry\n",
    "for i in range(max(len(a), len(b))):\n",
    "    if i < len(a):\n",
    "        digit_a = a[i]\n",
    "    else:\n",
    "        digit_a = 0\n",
    "    if i < len(b):\n",
    "        digit_b = b[i]\n",
    "    else:\n",
    "        digit_b = 0\n",
    "    result.append((digit_a + digit_b) % 10)\n",
    "\n",
    "result = int(''.join(map(str, result)))\n",
    "\n",
    "# Print result\n",
    "print(result)\n",
    "print(type(result))\n"
   ]
  },
  {
   "cell_type": "code",
   "execution_count": 8,
   "id": "933449b6",
   "metadata": {},
   "outputs": [
    {
     "name": "stdout",
     "output_type": "stream",
     "text": [
      "44 66\n",
      "10\n"
     ]
    }
   ],
   "source": [
    "# Get input from user\n",
    "a, b = map(int, input().split())\n",
    "\n",
    "# Add integers without carry\n",
    "result = (a % 10) + (b % 10)\n",
    "\n",
    "# Print result\n",
    "print(result)\n"
   ]
  },
  {
   "cell_type": "code",
   "execution_count": 11,
   "id": "92fba8ad",
   "metadata": {},
   "outputs": [
    {
     "name": "stdout",
     "output_type": "stream",
     "text": [
      "44 66\n",
      "4\n",
      "4\n"
     ]
    }
   ],
   "source": [
    "c,d = map(int,input().split())\n",
    "for i in str(a):\n",
    "    print(int(i))"
   ]
  },
  {
   "cell_type": "code",
   "execution_count": 16,
   "id": "a87e6a0d",
   "metadata": {},
   "outputs": [
    {
     "name": "stdout",
     "output_type": "stream",
     "text": [
      "10\n"
     ]
    }
   ],
   "source": [
    "a=[10,2]\n",
    "print(max((a)))"
   ]
  },
  {
   "cell_type": "code",
   "execution_count": null,
   "id": "36eb303d",
   "metadata": {},
   "outputs": [],
   "source": []
  },
  {
   "cell_type": "code",
   "execution_count": null,
   "id": "df2c90a1",
   "metadata": {},
   "outputs": [],
   "source": []
  }
 ],
 "metadata": {
  "kernelspec": {
   "display_name": "Python 3 (ipykernel)",
   "language": "python",
   "name": "python3"
  },
  "language_info": {
   "codemirror_mode": {
    "name": "ipython",
    "version": 3
   },
   "file_extension": ".py",
   "mimetype": "text/x-python",
   "name": "python",
   "nbconvert_exporter": "python",
   "pygments_lexer": "ipython3",
   "version": "3.10.2"
  }
 },
 "nbformat": 4,
 "nbformat_minor": 5
}
