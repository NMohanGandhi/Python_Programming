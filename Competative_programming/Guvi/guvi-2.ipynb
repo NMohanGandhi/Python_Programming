{
 "cells": [
  {
   "cell_type": "code",
   "execution_count": 1,
   "id": "abe0c79d",
   "metadata": {},
   "outputs": [
    {
     "name": "stdout",
     "output_type": "stream",
     "text": [
      "enter your number: 5\n",
      "enter your number: 7\n",
      "enter your number: 5\n",
      "7 is greater than a and c\n"
     ]
    }
   ],
   "source": [
    "a = int(input(\"enter your number: \"))\n",
    "b = int(input(\"enter your number: \"))\n",
    "c = int(input(\"enter your number: \"))\n",
    "if a>b and a>c:\n",
    "    print(a,\"is bigger than b and c\")\n",
    "elif b>a and b>c:\n",
    "    print(b,\"is greater than a and c\")\n",
    "else:\n",
    "    print(c,\"is bigger than a and b\")\n",
    "    "
   ]
  },
  {
   "cell_type": "markdown",
   "id": "1032c105",
   "metadata": {},
   "source": [
    "# Absolute Beginner"
   ]
  },
  {
   "cell_type": "code",
   "execution_count": 5,
   "id": "1922cc51",
   "metadata": {},
   "outputs": [
    {
     "name": "stdout",
     "output_type": "stream",
     "text": [
      "9\n",
      "729\n"
     ]
    }
   ],
   "source": [
    "# cube\n",
    "number = int(input())\n",
    "i = number*number*number\n",
    "print(i)"
   ]
  },
  {
   "cell_type": "code",
   "execution_count": 2,
   "id": "3589a0bd",
   "metadata": {},
   "outputs": [
    {
     "name": "stdout",
     "output_type": "stream",
     "text": [
      "20\n",
      "173.21\n"
     ]
    }
   ],
   "source": [
    "import math\n",
    "a = int(input())\n",
    "v = (1/4)*(math.sqrt(3)*a*a)\n",
    "print(round(v,2))"
   ]
  },
  {
   "cell_type": "code",
   "execution_count": 8,
   "id": "7b01f636",
   "metadata": {},
   "outputs": [
    {
     "name": "stdout",
     "output_type": "stream",
     "text": [
      "5\n",
      "5 * 1 = 5\n",
      "5 * 2 = 10\n",
      "5 * 3 = 15\n",
      "5 * 4 = 20\n",
      "5 * 5 = 25\n",
      "5 * 6 = 30\n",
      "5 * 7 = 35\n",
      "5 * 8 = 40\n",
      "5 * 9 = 45\n",
      "5 * 10 = 50\n"
     ]
    }
   ],
   "source": [
    "# multiples of given N nmmbers\n",
    "n = int(input())\n",
    "for i in range(1,11):\n",
    "    #print(i)\n",
    "    print(n,\"*\",i,\"=\",n*i)\n",
    "    "
   ]
  },
  {
   "cell_type": "code",
   "execution_count": 11,
   "id": "de347953",
   "metadata": {},
   "outputs": [
    {
     "name": "stdout",
     "output_type": "stream",
     "text": [
      "5\n",
      "5 10 15 20 25 30 35 40 45 50\n"
     ]
    }
   ],
   "source": [
    "n = int(input())\n",
    "li=[]\n",
    "for i in range(1,11):\n",
    "    #print(i)\n",
    "    v=n,\"*\",i,\"=\",(n*i)\n",
    "    li.append(str(n*i))\n",
    "print(\" \".join(li))"
   ]
  },
  {
   "cell_type": "code",
   "execution_count": 18,
   "id": "3bb9272c",
   "metadata": {},
   "outputs": [
    {
     "name": "stdout",
     "output_type": "stream",
     "text": [
      "5\n",
      "5 10 15 20 25 30 35 40 45 50\n"
     ]
    }
   ],
   "source": [
    "n = int(input())\n",
    "c=\"\"\n",
    "for i in range(1,11):\n",
    "    c=c+str(n*i)+\" \"   \n",
    "print(c.strip())"
   ]
  },
  {
   "cell_type": "code",
   "execution_count": 2,
   "id": "3d041375",
   "metadata": {},
   "outputs": [
    {
     "name": "stdout",
     "output_type": "stream",
     "text": [
      "enter your month: 8\n",
      "31\n"
     ]
    }
   ],
   "source": [
    "# Find the days in a month\n",
    "a = int(input(\"enter your month: \"))\n",
    "li=[1,3,5,7,8,10,12]\n",
    "li1=[4,6,9,11]\n",
    "if a in li:\n",
    "    print(\"31\")\n",
    "elif a in li1:\n",
    "    print(\"30\")\n",
    "else:\n",
    "    print(\"it is a leap year 28 days \")"
   ]
  },
  {
   "cell_type": "markdown",
   "id": "cef7c6c0",
   "metadata": {},
   "source": [
    "###### you are given two numbers A and B.if C=A+b find c"
   ]
  },
  {
   "cell_type": "code",
   "execution_count": 2,
   "id": "cc86f431",
   "metadata": {},
   "outputs": [
    {
     "name": "stdout",
     "output_type": "stream",
     "text": [
      "3\n",
      "5\n",
      "c = 5\n"
     ]
    }
   ],
   "source": [
    "a=int(input())\n",
    "b=int(input())\n",
    "c=a=b\n",
    "print(\"c\",\"=\",c)"
   ]
  },
  {
   "cell_type": "markdown",
   "id": "ec68fe4d",
   "metadata": {},
   "source": [
    "###### you are provided  with a number,\"N\".find its factorial"
   ]
  },
  {
   "cell_type": "code",
   "execution_count": 3,
   "id": "8c907e72",
   "metadata": {},
   "outputs": [],
   "source": [
    "# The factorial of a number is the product of all the integers from 1 to that number\n",
    "# ex : the factorial of 6 is 1*2*3*4*5*6=720"
   ]
  },
  {
   "cell_type": "code",
   "execution_count": 9,
   "id": "49f99246",
   "metadata": {},
   "outputs": [
    {
     "name": "stdout",
     "output_type": "stream",
     "text": [
      "2\n",
      "The factorial of  2 is 2\n"
     ]
    }
   ],
   "source": [
    "number = int(input())\n",
    "factorial=1\n",
    "if number<0:\n",
    "    print(\"sorry factorial does not exists for negative numbers\")\n",
    "elif number==0:\n",
    "    print(\" The factorial of 0 is 1\")\n",
    "else:\n",
    "    for i in range(1,number+1):\n",
    "        factorial=factorial*i\n",
    "    print(\"The factorial of \",number,\"is\",factorial)"
   ]
  },
  {
   "cell_type": "code",
   "execution_count": 10,
   "id": "c61da6bf",
   "metadata": {},
   "outputs": [
    {
     "name": "stdout",
     "output_type": "stream",
     "text": [
      "2\n",
      "2\n"
     ]
    }
   ],
   "source": [
    "import math\n",
    "a = int(input())\n",
    "print(math.factorial(a))"
   ]
  },
  {
   "cell_type": "markdown",
   "id": "bf7f310b",
   "metadata": {},
   "source": [
    "###### You are given A = Length of a rectangle & B = breadth of a rectangle. Find its area “C”.\n",
    "\n",
    "(A and B are natural numbers)"
   ]
  },
  {
   "cell_type": "code",
   "execution_count": 11,
   "id": "3a924539",
   "metadata": {},
   "outputs": [
    {
     "name": "stdout",
     "output_type": "stream",
     "text": [
      "8\n",
      "888\n",
      "7104\n"
     ]
    }
   ],
   "source": [
    "x = int(input())\n",
    "y = int(input())\n",
    "print(x*y)"
   ]
  },
  {
   "cell_type": "markdown",
   "id": "1f5fc0f3",
   "metadata": {},
   "source": [
    "###### Let \"A\"  be a string. Remove all the whitespaces and find it's length"
   ]
  },
  {
   "cell_type": "code",
   "execution_count": 13,
   "id": "72894fb2",
   "metadata": {},
   "outputs": [
    {
     "name": "stdout",
     "output_type": "stream",
     "text": [
      "Lorem Ipsum\n",
      "10\n"
     ]
    }
   ],
   "source": [
    "a = input().split(\" \")#Lorem Ipsum\n",
    "b = \"\".join(a)\n",
    "print(len(b))"
   ]
  },
  {
   "cell_type": "markdown",
   "id": "7f10a570",
   "metadata": {},
   "source": [
    "###### Convert and print this value in meters and centimeters."
   ]
  },
  {
   "cell_type": "code",
   "execution_count": 14,
   "id": "9b2045c2",
   "metadata": {},
   "outputs": [
    {
     "name": "stdout",
     "output_type": "stream",
     "text": [
      "2\n",
      "2000\n",
      "200000\n"
     ]
    }
   ],
   "source": [
    "o = int(input()) #  1km = 1000m\n",
    "\n",
    "print(o*1000)   #1m = 100cm\n",
    "\n",
    "print(o*100000)  #1km = 1000*100"
   ]
  },
  {
   "cell_type": "markdown",
   "id": "31a90a21",
   "metadata": {},
   "source": [
    "###### You are provided with a number check whether its odd or even. "
   ]
  },
  {
   "cell_type": "code",
   "execution_count": 16,
   "id": "cc2f4992",
   "metadata": {},
   "outputs": [
    {
     "name": "stdout",
     "output_type": "stream",
     "text": [
      "enter a number whether check: 639983\n",
      "Odd\n"
     ]
    }
   ],
   "source": [
    "num = int(input(\"enter a number whether check: \"))\n",
    "if num%2==0:\n",
    "    print(\"even\")\n",
    "else:\n",
    "    print(\"Odd\")"
   ]
  },
  {
   "cell_type": "markdown",
   "id": "26205cc0",
   "metadata": {},
   "source": [
    "###### Using the method of looping, write a program to print the table of 9 till N in the format as follows:\n",
    "(N is input by the user)"
   ]
  },
  {
   "cell_type": "code",
   "execution_count": 17,
   "id": "383787ec",
   "metadata": {},
   "outputs": [
    {
     "name": "stdout",
     "output_type": "stream",
     "text": [
      "3\n",
      "9 18 27\n"
     ]
    }
   ],
   "source": [
    "x = int(input())\n",
    "\n",
    "li =[]\n",
    "\n",
    "for i in range(1,x+1):\n",
    "    \n",
    "    li.append(i*9)\n",
    "    \n",
    "print(*li)"
   ]
  },
  {
   "cell_type": "markdown",
   "id": "68693dc4",
   "metadata": {},
   "source": [
    "###### Using the method of looping, write a program to print the table of 9 till N in the format as follows:\n",
    "(N is input by the user)"
   ]
  },
  {
   "cell_type": "code",
   "execution_count": 19,
   "id": "9a5f4d16",
   "metadata": {},
   "outputs": [
    {
     "name": "stdout",
     "output_type": "stream",
     "text": [
      "2 3\n",
      "2\n",
      "2\n",
      "2\n"
     ]
    }
   ],
   "source": [
    "x,y = map(int,input().split(\" \"))\n",
    "\n",
    "for i in range (y):\n",
    "    \n",
    "    print(x)   #"
   ]
  },
  {
   "cell_type": "markdown",
   "id": "b2baadb6",
   "metadata": {},
   "source": [
    "###### Let \"A\" be a year, write a program to check whether this year is a leap year or not."
   ]
  },
  {
   "cell_type": "code",
   "execution_count": 20,
   "id": "ba2874b6",
   "metadata": {},
   "outputs": [
    {
     "name": "stdout",
     "output_type": "stream",
     "text": [
      "2004\n",
      "Y\n"
     ]
    }
   ],
   "source": [
    "year = int(input())\n",
    "\n",
    "if (year%4 == 0 and year%100 != 0) or (year%400 == 0) :\n",
    "    print(\"Y\")\n",
    "else :\n",
    "    print (\"N\")"
   ]
  },
  {
   "cell_type": "code",
   "execution_count": 22,
   "id": "e4e20dd7",
   "metadata": {},
   "outputs": [
    {
     "name": "stdout",
     "output_type": "stream",
     "text": [
      "2020\n",
      "2020 is a leap year\n"
     ]
    }
   ],
   "source": [
    "# Python program to check if year is a leap year or not\n",
    "\n",
    "year = int(input())\n",
    "\n",
    "# To get year (integer input) from the user\n",
    "# year = int(input(\"Enter a year: \"))\n",
    "\n",
    "# divided by 100 means century year (ending with 00)\n",
    "# century year divided by 400 is leap year\n",
    "if (year % 400 == 0) and (year % 100 == 0):\n",
    "    print(\"{0} is a leap year\".format(year))\n",
    "\n",
    "# not divided by 100 means not a century year\n",
    "# year divided by 4 is a leap year\n",
    "elif (year % 4 ==0) and (year % 100 != 0):\n",
    "    print(\"{0} is a leap year\".format(year))\n",
    "\n",
    "# if not divided by both 400 (century year) and 4 (not century year)\n",
    "# year is not leap year\n",
    "else:\n",
    "    print(\"{0} is not a leap year\".format(year))"
   ]
  },
  {
   "cell_type": "markdown",
   "id": "ffb878bf",
   "metadata": {},
   "source": [
    "###### Write a code to get an integer N and print the even values from 1 till N in a separate line."
   ]
  },
  {
   "cell_type": "code",
   "execution_count": 23,
   "id": "d5f9d280",
   "metadata": {},
   "outputs": [
    {
     "name": "stdout",
     "output_type": "stream",
     "text": [
      "6\n",
      "2\n",
      "4\n",
      "6\n"
     ]
    }
   ],
   "source": [
    "n = int(input())\n",
    "\n",
    "for i in range(2,n+1):\n",
    "    \n",
    "    if i%2 == 0:\n",
    "        \n",
    "        print(i)"
   ]
  },
  {
   "cell_type": "markdown",
   "id": "71285ea9",
   "metadata": {},
   "source": [
    "###### Write a code to get an integer N and print the values from N to 1."
   ]
  },
  {
   "cell_type": "code",
   "execution_count": 27,
   "id": "58261774",
   "metadata": {},
   "outputs": [
    {
     "name": "stdout",
     "output_type": "stream",
     "text": [
      "10\n",
      "10\n",
      "9\n",
      "8\n",
      "7\n",
      "6\n",
      "5\n",
      "4\n",
      "3\n",
      "2\n",
      "1\n"
     ]
    }
   ],
   "source": [
    "number = int(input())\n",
    "\n",
    "for i in range (number,0,-1):\n",
    "    \n",
    "    print(i)"
   ]
  },
  {
   "cell_type": "code",
   "execution_count": 4,
   "id": "01bb23ff",
   "metadata": {},
   "outputs": [
    {
     "name": "stdout",
     "output_type": "stream",
     "text": [
      "True\n"
     ]
    }
   ],
   "source": [
    "a=10,20,30,40,50\n",
    "print(10 in a)\n"
   ]
  },
  {
   "cell_type": "code",
   "execution_count": null,
   "id": "6c033c9f",
   "metadata": {},
   "outputs": [],
   "source": []
  }
 ],
 "metadata": {
  "kernelspec": {
   "display_name": "Python 3 (ipykernel)",
   "language": "python",
   "name": "python3"
  },
  "language_info": {
   "codemirror_mode": {
    "name": "ipython",
    "version": 3
   },
   "file_extension": ".py",
   "mimetype": "text/x-python",
   "name": "python",
   "nbconvert_exporter": "python",
   "pygments_lexer": "ipython3",
   "version": "3.11.2"
  }
 },
 "nbformat": 4,
 "nbformat_minor": 5
}
