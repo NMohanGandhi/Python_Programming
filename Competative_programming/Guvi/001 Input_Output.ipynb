{
 "cells": [
  {
   "cell_type": "markdown",
   "id": "575d4cb6",
   "metadata": {},
   "source": [
    "# input_output"
   ]
  },
  {
   "cell_type": "markdown",
   "id": "e1008d6a",
   "metadata": {},
   "source": [
    "# 1. Write a code to get the input in the given format and print the output in the given format\n",
    "Input Description: To take an integer value\n",
    "\n",
    "Output Description: Print the integer value\n",
    "\n",
    "Sample Input : 2\n",
    "\n",
    "Sample Output : 2\n",
    "\n",
    "​\n"
   ]
  },
  {
   "cell_type": "code",
   "execution_count": 7,
   "id": "9df92efb",
   "metadata": {},
   "outputs": [
    {
     "name": "stdout",
     "output_type": "stream",
     "text": [
      "2\n",
      "output\n",
      "2\n"
     ]
    }
   ],
   "source": [
    "num = int(input())\n",
    "\n",
    "print(\"output\")\n",
    "\n",
    "print(num)"
   ]
  },
  {
   "cell_type": "markdown",
   "id": "63d39027",
   "metadata": {},
   "source": [
    "# 2.Write a code to get the input in the given format and print the output in the given format\n",
    "\n",
    "Input Description:\n",
    "A single line contains integers separated by space\n",
    "\n",
    "Output Description:\n",
    "Print the integer list of integers separated by space\n",
    "\n",
    "Sample Input :\n",
    "2 3 4 5 6 7 8\n",
    "\n",
    "Sample Output :\n",
    "2 3 4 5 6 7 8"
   ]
  },
  {
   "cell_type": "code",
   "execution_count": 1,
   "id": "7d614ccf",
   "metadata": {},
   "outputs": [
    {
     "name": "stdout",
     "output_type": "stream",
     "text": [
      "2 3 4 5 6 7 8\n",
      "output\n",
      "2 3 4 5 6 7 8\n"
     ]
    }
   ],
   "source": [
    "num1 = input()  # to take an input function\n",
    "print(\"output\")\n",
    "print(num1)"
   ]
  },
  {
   "cell_type": "markdown",
   "id": "9e69c5a4",
   "metadata": {},
   "source": [
    "# 3.Write a code to get the input in the given format and print the output in the given format.\n"
   ]
  },
  {
   "cell_type": "raw",
   "id": "b6625cf8",
   "metadata": {},
   "source": [
    "\n",
    "Input Description:\n",
    "First-line indicates two integers which are the size of array and 'K' value. Second-line indicates an integer contains elements of an array.\n",
    "\n",
    "Output Description:\n",
    "Print the taken input in the same format.\n",
    "\n",
    "Sample Input :\n",
    "5 3\n",
    "1 2 3 4 5\n",
    "\n",
    "Sample Output :\n",
    "5 3\n",
    "1 2 3 4 5\n"
   ]
  },
  {
   "cell_type": "code",
   "execution_count": 2,
   "id": "ba3af520",
   "metadata": {},
   "outputs": [
    {
     "name": "stdout",
     "output_type": "stream",
     "text": [
      "5 3\n",
      "1 2 3 4 5\n",
      "output\n",
      "5 3\n",
      "1 2 3 4 5\n"
     ]
    }
   ],
   "source": [
    "a = input()\n",
    "b = input()\n",
    "print(\"output\")\n",
    "print(a)\n",
    "print(b)"
   ]
  },
  {
   "cell_type": "markdown",
   "id": "83afbfd7",
   "metadata": {},
   "source": [
    "# 4.Write a code to get the input in the given format and print the output in the given format\n"
   ]
  },
  {
   "cell_type": "raw",
   "id": "13eaed82",
   "metadata": {},
   "source": [
    "\n",
    "Input Description:\n",
    "First-line indicates two integers separated by space. Second-line indicates two integers separated by space. Third-line indicates two integers separated by space.\n",
    "\n",
    "Output Description:\n",
    "Print the input in the same format.\n",
    "\n",
    "Sample Input :\n",
    "2 4\n",
    "2 4\n",
    "2 4\n",
    "\n",
    "Sample Output :\n",
    "2 4\n",
    "2 4\n",
    "2 4\n"
   ]
  },
  {
   "cell_type": "code",
   "execution_count": 6,
   "id": "0eedb004",
   "metadata": {},
   "outputs": [
    {
     "name": "stdout",
     "output_type": "stream",
     "text": [
      "input\n",
      "2 4\n",
      "2 4\n",
      "3 5\n",
      "output\n",
      "2 4\n",
      "2 4\n",
      "3 5\n"
     ]
    }
   ],
   "source": [
    "print(\"input\")\n",
    "num1 = input()\n",
    "\n",
    "num2 = input()\n",
    "\n",
    "num3 = input()\n",
    "\n",
    "print(\"output\")\n",
    "\n",
    "print(num1)\n",
    "\n",
    "print(num2)\n",
    "\n",
    "print(num3)"
   ]
  },
  {
   "cell_type": "markdown",
   "id": "c5b3c665",
   "metadata": {},
   "source": [
    "# 5.Write a code to get the input in the given format and print the output in the given format"
   ]
  },
  {
   "cell_type": "raw",
   "id": "9b08a2ef",
   "metadata": {},
   "source": [
    "Input Description:\n",
    "Three integers are given in line by line.\n",
    "\n",
    "Output Description:\n",
    "Print the integers in a single line separate by space.\n",
    "\n",
    "Sample Input :\n",
    "2\n",
    "4\n",
    "5\n",
    "Sample Output :\n",
    "2 4 5"
   ]
  },
  {
   "cell_type": "code",
   "execution_count": 3,
   "id": "5bbef1ff",
   "metadata": {},
   "outputs": [
    {
     "name": "stdout",
     "output_type": "stream",
     "text": [
      "2\n",
      "4\n",
      "5\n",
      "output\n",
      "2 4 5\n"
     ]
    }
   ],
   "source": [
    "a = int(input())\n",
    "\n",
    "b = int(input())\n",
    "\n",
    "c = int(input())\n",
    "\n",
    "print(\"output\")\n",
    "\n",
    "print(a,b,c)"
   ]
  },
  {
   "cell_type": "markdown",
   "id": "9ced298f",
   "metadata": {},
   "source": [
    "# 6.Write a code to get the input in the given format and print the output in the given format"
   ]
  },
  {
   "cell_type": "raw",
   "id": "50043527",
   "metadata": {},
   "source": [
    "Input Description:\n",
    "First-line indicates two integers separated by space. Second-line indicates three integers separated by space. Third-line indicates three integers separated by space\n",
    "\n",
    "Output Description:\n",
    "Print the input in the same format.\n",
    "\n",
    "Sample Input :\n",
    "2 5\n",
    "2 5 6\n",
    "2 4 5\n",
    "Sample Output :\n",
    "2 5\n",
    "2 5 6\n",
    "2 4 5\n"
   ]
  },
  {
   "cell_type": "code",
   "execution_count": 4,
   "id": "10b59b35",
   "metadata": {},
   "outputs": [
    {
     "name": "stdout",
     "output_type": "stream",
     "text": [
      "2 5\n",
      "2 5  6\n",
      "2 4  5\n",
      "output\n",
      "2 5\n",
      "2 5  6\n",
      "2 4  5\n"
     ]
    }
   ],
   "source": [
    "a = input()\n",
    "\n",
    "b = input()\n",
    "\n",
    "c = input()\n",
    "print(\"output\")\n",
    "print(a)\n",
    "\n",
    "print(b)\n",
    "\n",
    "print(c)"
   ]
  },
  {
   "cell_type": "markdown",
   "id": "99c85383",
   "metadata": {},
   "source": [
    "# 7.Write a code to get the input in the given format and print the output in the given format"
   ]
  },
  {
   "cell_type": "raw",
   "id": "ccfe1c09",
   "metadata": {},
   "source": [
    "Input Description:\n",
    "A single line contains a string.\n",
    "\n",
    "Output Description:\n",
    "Print the characters in a string separated by space.\n",
    "\n",
    "Sample Input :\n",
    "guvi\n",
    "Sample Output :\n",
    "g u v i"
   ]
  },
  {
   "cell_type": "code",
   "execution_count": 6,
   "id": "b5ab41dd",
   "metadata": {},
   "outputs": [
    {
     "name": "stdout",
     "output_type": "stream",
     "text": [
      "mohan\n",
      "output:\n",
      "m o h a n\n"
     ]
    }
   ],
   "source": [
    "str = input()\n",
    "\n",
    "print(\"output:\")\n",
    "print(\" \".join(str))"
   ]
  },
  {
   "cell_type": "markdown",
   "id": "4deae80b",
   "metadata": {},
   "source": [
    "# 8. Write a code to get the input in the given format and print the output in the given format."
   ]
  },
  {
   "cell_type": "raw",
   "id": "db774748",
   "metadata": {},
   "source": [
    "Input Description:\n",
    "A single line contains three float values separated by space.\n",
    "\n",
    "Output Description:\n",
    "Print the float value separated by line.\n",
    "\n",
    "Sample Input :\n",
    "2.3 4.5 7.8\n",
    "Sample Output :\n",
    "2.3\n",
    "4.5\n",
    "7.8\n"
   ]
  },
  {
   "cell_type": "code",
   "execution_count": 8,
   "id": "3f8512ef",
   "metadata": {},
   "outputs": [
    {
     "name": "stdout",
     "output_type": "stream",
     "text": [
      "2.3 4.5 7.8\n",
      "Output\n",
      "2.3\n",
      "4.5\n",
      "7.8\n"
     ]
    }
   ],
   "source": [
    "flo = input().split(\" \")  #  2.3 4.5 7.8\n",
    "\n",
    "#print(flo) ['2.3', '4.5', '7.8']\n",
    "print(\"Output\")\n",
    "\n",
    "for t in flo:\n",
    "\n",
    "  print(t)\n"
   ]
  },
  {
   "cell_type": "markdown",
   "id": "29645faf",
   "metadata": {},
   "source": [
    "# 9.Write a code to get the input in the given format and print the output in the given format."
   ]
  },
  {
   "cell_type": "raw",
   "id": "f10e3a95",
   "metadata": {},
   "source": [
    "Input Description:\n",
    "A single line contains a string.\n",
    "\n",
    "Output Description:\n",
    "Print the characters in a string separated by line.\n",
    "\n",
    "Sample Input :\n",
    "guvigeek\n",
    "Sample Output :\n",
    "g\n",
    "u\n",
    "v\n",
    "i\n",
    "g\n",
    "e\n",
    "e\n",
    "k"
   ]
  },
  {
   "cell_type": "code",
   "execution_count": 9,
   "id": "0eb094e6",
   "metadata": {},
   "outputs": [
    {
     "name": "stdout",
     "output_type": "stream",
     "text": [
      "guvigeek\n",
      "g\n",
      "u\n",
      "v\n",
      "i\n",
      "g\n",
      "e\n",
      "e\n",
      "k\n"
     ]
    }
   ],
   "source": [
    "str1  = input()\n",
    "\n",
    "\n",
    "for i in str1 :\n",
    "\n",
    "  print(i)"
   ]
  },
  {
   "cell_type": "markdown",
   "id": "34dacdaa",
   "metadata": {},
   "source": [
    "# 10.Write a code to get the input in the given format and print the output in the given format."
   ]
  },
  {
   "cell_type": "raw",
   "id": "89143c8a",
   "metadata": {},
   "source": [
    "Input Description:\n",
    "A single line contains a string.\n",
    "\n",
    "Output Description:\n",
    "Print the characters in a string separated by comma.\n",
    "\n",
    "Sample Input :\n",
    "guvi\n",
    "Sample Output :\n",
    "g,u,v,i"
   ]
  },
  {
   "cell_type": "code",
   "execution_count": 11,
   "id": "a1d1329f",
   "metadata": {},
   "outputs": [
    {
     "name": "stdout",
     "output_type": "stream",
     "text": [
      "guvi\n",
      "g,u,v,i\n"
     ]
    }
   ],
   "source": [
    "str3 = input()\n",
    "\n",
    "print(\",\".join(str3))\n"
   ]
  },
  {
   "cell_type": "code",
   "execution_count": null,
   "id": "a4292045",
   "metadata": {},
   "outputs": [],
   "source": []
  },
  {
   "cell_type": "code",
   "execution_count": null,
   "id": "a6e8593b",
   "metadata": {},
   "outputs": [],
   "source": []
  },
  {
   "cell_type": "code",
   "execution_count": null,
   "id": "2dbcb712",
   "metadata": {},
   "outputs": [],
   "source": []
  }
 ],
 "metadata": {
  "kernelspec": {
   "display_name": "Python 3 (ipykernel)",
   "language": "python",
   "name": "python3"
  },
  "language_info": {
   "codemirror_mode": {
    "name": "ipython",
    "version": 3
   },
   "file_extension": ".py",
   "mimetype": "text/x-python",
   "name": "python",
   "nbconvert_exporter": "python",
   "pygments_lexer": "ipython3",
   "version": "3.11.2"
  }
 },
 "nbformat": 4,
 "nbformat_minor": 5
}
