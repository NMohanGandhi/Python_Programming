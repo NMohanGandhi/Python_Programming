{
 "cells": [
  {
   "cell_type": "code",
   "execution_count": 2,
   "id": "d2a3fd0c",
   "metadata": {},
   "outputs": [
    {
     "name": "stdout",
     "output_type": "stream",
     "text": [
      "1234567890\n"
     ]
    },
    {
     "data": {
      "text/plain": [
       "['1', '2', '3', '4', '5', '6', '7', '8', '9', '0']"
      ]
     },
     "execution_count": 2,
     "metadata": {},
     "output_type": "execute_result"
    }
   ],
   "source": [
    "li = list(input())"
   ]
  },
  {
   "cell_type": "code",
   "execution_count": 6,
   "id": "f5551ed7",
   "metadata": {},
   "outputs": [],
   "source": [
    "li2 = list(map(int,li))"
   ]
  },
  {
   "cell_type": "code",
   "execution_count": 7,
   "id": "71433544",
   "metadata": {},
   "outputs": [
    {
     "name": "stdout",
     "output_type": "stream",
     "text": [
      "[1, 2, 3, 4, 5, 6, 7, 8, 9, 0]\n"
     ]
    }
   ],
   "source": [
    "print(li2)"
   ]
  },
  {
   "cell_type": "code",
   "execution_count": 8,
   "id": "beca443d",
   "metadata": {},
   "outputs": [
    {
     "name": "stdout",
     "output_type": "stream",
     "text": [
      "<class 'list'>\n"
     ]
    }
   ],
   "source": [
    "print(type(li2))"
   ]
  },
  {
   "cell_type": "code",
   "execution_count": 9,
   "id": "ed1437d1",
   "metadata": {},
   "outputs": [
    {
     "name": "stdout",
     "output_type": "stream",
     "text": [
      "<class 'int'>\n"
     ]
    }
   ],
   "source": [
    "print(type(li2[0]))"
   ]
  },
  {
   "cell_type": "code",
   "execution_count": 18,
   "id": "f313ea69",
   "metadata": {},
   "outputs": [
    {
     "name": "stdout",
     "output_type": "stream",
     "text": [
      "1234567890\n"
     ]
    }
   ],
   "source": [
    "a=list(input().split(\"5\"))"
   ]
  },
  {
   "cell_type": "code",
   "execution_count": 19,
   "id": "c4b6c603",
   "metadata": {},
   "outputs": [
    {
     "data": {
      "text/plain": [
       "['1234', '67890']"
      ]
     },
     "execution_count": 19,
     "metadata": {},
     "output_type": "execute_result"
    }
   ],
   "source": [
    "a"
   ]
  },
  {
   "cell_type": "code",
   "execution_count": 32,
   "id": "883cd1ea",
   "metadata": {},
   "outputs": [
    {
     "name": "stdout",
     "output_type": "stream",
     "text": [
      "1122345667789\n"
     ]
    }
   ],
   "source": [
    "List = list(map(int,input()))"
   ]
  },
  {
   "cell_type": "code",
   "execution_count": 36,
   "id": "eb0fe178",
   "metadata": {},
   "outputs": [
    {
     "data": {
      "text/plain": [
       "[1, 1, 2, 2, 3, 4, 5, 6, 6, 7, 7, 8, 9]"
      ]
     },
     "execution_count": 36,
     "metadata": {},
     "output_type": "execute_result"
    }
   ],
   "source": [
    "List\n"
   ]
  },
  {
   "cell_type": "code",
   "execution_count": 39,
   "id": "f3ccf460",
   "metadata": {},
   "outputs": [
    {
     "name": "stdout",
     "output_type": "stream",
     "text": [
      "[1, 2, 3, 4, 5, 6, 7, 8, 9]\n",
      "[1, 2, 6, 7]\n"
     ]
    }
   ],
   "source": [
    "li =[]\n",
    "dupli=[]\n",
    "for i in List:\n",
    "    #print(i)\n",
    "    if i not in li:\n",
    "        li.append(i)\n",
    "    else:\n",
    "        dupli.append(i)\n",
    "print(li)\n",
    "print(dupli)"
   ]
  },
  {
   "cell_type": "code",
   "execution_count": 41,
   "id": "011a082f",
   "metadata": {},
   "outputs": [],
   "source": [
    "v=set(List)"
   ]
  },
  {
   "cell_type": "code",
   "execution_count": 42,
   "id": "5ff6597e",
   "metadata": {},
   "outputs": [
    {
     "data": {
      "text/plain": [
       "{1, 2, 3, 4, 5, 6, 7, 8, 9}"
      ]
     },
     "execution_count": 42,
     "metadata": {},
     "output_type": "execute_result"
    }
   ],
   "source": [
    "v"
   ]
  },
  {
   "cell_type": "code",
   "execution_count": 11,
   "id": "2f894f1d",
   "metadata": {},
   "outputs": [
    {
     "name": "stdout",
     "output_type": "stream",
     "text": [
      "remove_dupli : 1 2 3 4 5 6 7 8 95\n",
      "dupli : 1 2 3 5\n",
      "1\n"
     ]
    }
   ],
   "source": [
    "li=[1,1,2,2,3,3,4,5,6,7,8,95,5]\n",
    "li1=[]\n",
    "duplicates=[]\n",
    "for i in li:\n",
    "    #print(i)\n",
    "    if i  not in li1:\n",
    "        li1.append(i)\n",
    "    else:\n",
    "        duplicates.append(i)\n",
    "print(\"remove_dupli :\",*li1)\n",
    "print(\"dupli :\",*duplicates)\n",
    "print(duplicates.count(1))\n"
   ]
  },
  {
   "cell_type": "code",
   "execution_count": 12,
   "id": "cd01364c",
   "metadata": {},
   "outputs": [
    {
     "name": "stdout",
     "output_type": "stream",
     "text": [
      "{1, 2, 3, 4, 5, 6, 7, 8, 95}\n"
     ]
    }
   ],
   "source": [
    "li=[1,1,2,2,3,3,4,5,6,7,8,95,5]\n",
    "s=set(li)\n",
    "print(s)"
   ]
  },
  {
   "cell_type": "code",
   "execution_count": 47,
   "id": "0e54ec15",
   "metadata": {},
   "outputs": [
    {
     "name": "stdout",
     "output_type": "stream",
     "text": [
      "Enter your Number :6119532\n",
      "not\n"
     ]
    }
   ],
   "source": [
    "a = int(input(\"Enter your Number :\"))\n",
    "# check whether number is prime or not\n",
    "count=0\n",
    "for i in range(1,a+1):\n",
    "    if a%i==0:\n",
    "        count+=1\n",
    "            \n",
    "if count==2:\n",
    "    print(\"prime\")\n",
    "else:\n",
    "    print(\"not\")"
   ]
  },
  {
   "cell_type": "code",
   "execution_count": 44,
   "id": "538efe40",
   "metadata": {},
   "outputs": [
    {
     "name": "stdout",
     "output_type": "stream",
     "text": [
      "enter your number :611953\n",
      "prime\n"
     ]
    }
   ],
   "source": [
    "num= int(input(\"enter your number :\"))\n",
    "for i in range(2,num):\n",
    "    #print(i)\n",
    "    if num%i==0:\n",
    "        print(\"yes its divisible by zero\")\n",
    "        \n",
    "else:\n",
    "    print(\"prime\")"
   ]
  },
  {
   "cell_type": "code",
   "execution_count": null,
   "id": "85deff94",
   "metadata": {},
   "outputs": [],
   "source": []
  },
  {
   "cell_type": "code",
   "execution_count": 4,
   "id": "759439fe",
   "metadata": {},
   "outputs": [
    {
     "name": "stdout",
     "output_type": "stream",
     "text": [
      "1\n",
      "10\n",
      "1 2 3 5 7 "
     ]
    }
   ],
   "source": [
    "start = int(input())\n",
    "end=int(input())\n",
    "for i in range(start,end+1):\n",
    "    flag=0\n",
    "    for j in range(2,i):\n",
    "        if(i%j==0):\n",
    "            flag=1\n",
    "            \n",
    "            break\n",
    "    if(flag==0):\n",
    "        print(i,end=\" \")"
   ]
  },
  {
   "cell_type": "code",
   "execution_count": 5,
   "id": "bbc86d52",
   "metadata": {},
   "outputs": [
    {
     "name": "stdout",
     "output_type": "stream",
     "text": [
      "1\n",
      "10\n",
      "1 2 2\n",
      "3 2\n",
      "2\n",
      "3\n",
      "4\n",
      "5 2\n",
      "2\n",
      "3\n",
      "4\n",
      "5\n",
      "6\n",
      "7 2\n",
      "2\n",
      "3\n",
      "2\n"
     ]
    }
   ],
   "source": [
    "start = int(input())\n",
    "end=int(input())\n",
    "for i in range(start,end+1):\n",
    "    #flag=0\n",
    "    for j in range(2,i):\n",
    "        print(j)\n",
    "        if(i%j==0):\n",
    "            #flag=1\n",
    "            break\n",
    "    else:\n",
    "        \n",
    "        print(i,end=\" \")"
   ]
  },
  {
   "cell_type": "code",
   "execution_count": null,
   "id": "1daedbfa",
   "metadata": {},
   "outputs": [],
   "source": []
  },
  {
   "cell_type": "code",
   "execution_count": 8,
   "id": "5b9ede22",
   "metadata": {},
   "outputs": [
    {
     "name": "stdout",
     "output_type": "stream",
     "text": [
      "2\n",
      "10\n",
      "2\n",
      "2\n",
      "3\n",
      "2\n",
      "3\n",
      "4\n",
      "2\n",
      "3\n",
      "4\n",
      "5\n",
      "2\n",
      "3\n",
      "4\n",
      "5\n",
      "6\n",
      "2\n",
      "3\n",
      "4\n",
      "5\n",
      "6\n",
      "7\n",
      "2\n",
      "3\n",
      "4\n",
      "5\n",
      "6\n",
      "7\n",
      "8\n",
      "2\n",
      "3\n",
      "4\n",
      "5\n",
      "6\n",
      "7\n",
      "8\n",
      "9\n"
     ]
    }
   ],
   "source": [
    "start = int(input())\n",
    "end=int(input())\n",
    "for i in range(start,end+1):\n",
    "    #print(i)\n",
    "   \n",
    "    for j in range(2,i):\n",
    "        print(j)\n",
    "       "
   ]
  },
  {
   "cell_type": "code",
   "execution_count": null,
   "id": "51aa5253",
   "metadata": {},
   "outputs": [],
   "source": []
  }
 ],
 "metadata": {
  "kernelspec": {
   "display_name": "Python 3 (ipykernel)",
   "language": "python",
   "name": "python3"
  },
  "language_info": {
   "codemirror_mode": {
    "name": "ipython",
    "version": 3
   },
   "file_extension": ".py",
   "mimetype": "text/x-python",
   "name": "python",
   "nbconvert_exporter": "python",
   "pygments_lexer": "ipython3",
   "version": "3.11.2"
  }
 },
 "nbformat": 4,
 "nbformat_minor": 5
}
