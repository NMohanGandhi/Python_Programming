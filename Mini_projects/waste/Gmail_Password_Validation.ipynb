{
 "cells": [
  {
   "cell_type": "markdown",
   "id": "f330d433",
   "metadata": {},
   "source": [
    "# Gmail and  Password Validation"
   ]
  },
  {
   "cell_type": "code",
   "execution_count": 1,
   "id": "52b9af3d",
   "metadata": {},
   "outputs": [],
   "source": [
    "file  = open(\"registration.txt\",\"w\")"
   ]
  },
  {
   "cell_type": "markdown",
   "id": "ce0f24f3",
   "metadata": {},
   "source": [
    "# Registration"
   ]
  },
  {
   "cell_type": "code",
   "execution_count": 2,
   "id": "bb0909f1",
   "metadata": {},
   "outputs": [],
   "source": [
    "#mail = input(\"enter your gmail\")\n",
    "#passwd = input(\"enter your password\")\n",
    "#global flag\n",
    "\n",
    "def Registration():\n",
    "    global flag\n",
    "    #flag  = True\n",
    "    #mail = input(\"enter your gmail\")\n",
    "    #passwd = input(\"enter your password\")\n",
    "   \n",
    "    if username1() and password():\n",
    "        data  = {}\n",
    "        #file = open(\"registration.txt\",\"a\")\n",
    "        #print(mail)\n",
    "\n",
    "        #data[mail] = passwd\n",
    "        with open('registration.txt', 'a+') as f:\n",
    "            f.seek(0)\n",
    "              # file pointer at end, move to beginning\n",
    "            #f.write(mail)\n",
    "            #f.write(\"\\n\")\n",
    "            #f.write(passwd)\n",
    "            #f.write(\"\\n\")\n",
    "            val = mail\n",
    "            lines = f.readlines()\n",
    "            \n",
    "            for line in lines:\n",
    "                print(line)\n",
    "                \n",
    "                flag  = False\n",
    "                \n",
    "                if val not in line:\n",
    "                    flag  = True\n",
    "    \n",
    "                else:\n",
    "                    print(\"not successfully registered\") \n",
    "                    print(\"This mail already exits\")\n",
    "                    break\n",
    "                    \n",
    "            if flag == True:\n",
    "                data[mail]=passwd\n",
    "                file.write(str(data) + \"\\n\")\n",
    "                        \n",
    "                print(\"you have successfully registered...\")\n",
    "                print(\"If you want to login to your account\")\n",
    "        \n",
    "                print(\"Enter Yes else Enter No \")\n",
    "                 \n",
    "                inp = input(\"Enter your choice :\")\n",
    "                        \n",
    "                        \n",
    "                if inp == \"Yes\":\n",
    "                    login()\n",
    "                else:\n",
    "                    print(\"Thanks for choosing us, now you can login whenever neeeded, bye......\")\n",
    "        '''\n",
    "        with open('registration.txt', 'a+') as f:\n",
    "            for line1 in f.readlines():\n",
    "                \n",
    "                print(line1)\n",
    "                line1  =  eval(line1)\n",
    "                print(type(line1))\n",
    "                print(type(line1))\n",
    "        '''\n",
    "                #if mail not in line1:\n",
    "                    \n",
    "            \n",
    "        \n",
    "        \n",
    "           \n",
    "            #print(\"This mail  alredy register..please try to register another mail  \")\n",
    "           \n",
    "                              "
   ]
  },
  {
   "cell_type": "code",
   "execution_count": 3,
   "id": "193e70b6",
   "metadata": {},
   "outputs": [
    {
     "data": {
      "text/plain": [
       "'mail = input(\"enter your gmail\")\\npasswd = input(\"enter your password\")\\ndef Registration():\\n    #mail = input(\"enter your gmail\")\\n    \\n    \\n    #passwd = input(\"enter your password\")\\n    \\n    if username1() and password():\\n        \\n        data  = {}\\n        file = open(\"registration.txt\",\"a+\")\\n        \\n        if mail not in file:\\n            data[mail] = passwd\\n            file.write(str(data) + \"\\n\")\\n            file.close()\\n            print(\"you have successfully registered...\")\\n        \\n            print(\"If you want to login to your account\")\\n        \\n            print(\"Enter Yes else Enter No \")\\n        \\n            inp = input(\"Enter your choice :\")\\n        \\n            if inp == \"Yes\":\\n                login()\\n            \\n            else:\\n                print(\"Thanks for choosing us, now you can login whenever neeeded, bye......\")\\n        else:\\n            print(\"This mail  alredy register..please try to register another mail  \")\\n    \\n'"
      ]
     },
     "execution_count": 3,
     "metadata": {},
     "output_type": "execute_result"
    }
   ],
   "source": [
    "\"\"\"mail = input(\"enter your gmail\")\n",
    "passwd = input(\"enter your password\")\n",
    "def Registration():\n",
    "    #mail = input(\"enter your gmail\")\n",
    "    \n",
    "    \n",
    "    #passwd = input(\"enter your password\")\n",
    "    \n",
    "    if username1() and password():\n",
    "        \n",
    "        data  = {}\n",
    "        file = open(\"registration.txt\",\"a+\")\n",
    "        \n",
    "        if mail not in file:\n",
    "            data[mail] = passwd\n",
    "            file.write(str(data) + \"\\n\")\n",
    "            file.close()\n",
    "            print(\"you have successfully registered...\")\n",
    "        \n",
    "            print(\"If you want to login to your account\")\n",
    "        \n",
    "            print(\"Enter Yes else Enter No \")\n",
    "        \n",
    "            inp = input(\"Enter your choice :\")\n",
    "        \n",
    "            if inp == \"Yes\":\n",
    "                login()\n",
    "            \n",
    "            else:\n",
    "                print(\"Thanks for choosing us, now you can login whenever neeeded, bye......\")\n",
    "        else:\n",
    "            print(\"This mail  alredy register..please try to register another mail  \")\n",
    "    \n",
    "\"\"\"     \n",
    "        \n",
    "            \n",
    "        \n",
    "        \n",
    "       "
   ]
  },
  {
   "cell_type": "markdown",
   "id": "fc93d812",
   "metadata": {},
   "source": [
    "# Password Validation"
   ]
  },
  {
   "cell_type": "code",
   "execution_count": 4,
   "id": "a1d2cd58",
   "metadata": {},
   "outputs": [],
   "source": [
    "#a = 0\n",
    "spec =  \"!#$%&'()*+,-./:;<=>?@[\\]^_`{|}~\"\n",
    "spec = list(spec)\n",
    "#print(spec)\n",
    "def password():\n",
    "    global passwd\n",
    "    passwd = input(\"enter your password :\")\n",
    "    k,c,d,j = 0,0,0,0\n",
    "    for b in passwd:\n",
    "        if b.isupper():\n",
    "            k = k+1\n",
    "        if b.islower():\n",
    "            c = c+1\n",
    "        if b.isdigit():\n",
    "            d = d+1\n",
    "        if (k and c and d)>0:\n",
    "            break\n",
    "    for s in spec:\n",
    "        if s in passwd:\n",
    "            j = j+1\n",
    "    if (5<len(passwd)<=15) and ((k and c and d and j) > 0):\n",
    "        print(\"Valid password\")\n",
    "        return True\n",
    "        \n",
    "    else:\n",
    "        print(\"Invalid password\")\n",
    "        return False\n",
    "#passwd = input(\"enter your password\")"
   ]
  },
  {
   "cell_type": "code",
   "execution_count": 5,
   "id": "04a578ff",
   "metadata": {},
   "outputs": [],
   "source": [
    "#password()"
   ]
  },
  {
   "cell_type": "markdown",
   "id": "7136c7ae",
   "metadata": {},
   "source": [
    "#  Username Validation"
   ]
  },
  {
   "cell_type": "code",
   "execution_count": 6,
   "id": "b06b1929",
   "metadata": {},
   "outputs": [],
   "source": [
    "def username1():\n",
    "    global mail\n",
    "    mail  = input(\"enter your username :\")\n",
    "    while 5<len(mail)<40:\n",
    "        #print(\"Valid username length , go for the other validation\")\n",
    "        if mail[0].isalpha():\n",
    "                print(\"valid sofar\")\n",
    "                \n",
    "                if (mail.index(\".\") - mail.index(\"@\"))>=2:\n",
    "                    print(\"valid username\")\n",
    "                    return True\n",
    "                    break\n",
    "                else:\n",
    "                    print(\"invalid username\")\n",
    "                    return False\n",
    "                    break\n",
    "                    \n",
    "        \n",
    "            # or call another validation function here\n",
    "        else:\n",
    "            print(\"Invalid username\")\n",
    "            \n",
    "            mail  = input(\"enter your username again :\")\n",
    "            return False\n",
    "            break\n",
    "            \n",
    "#mail=input(\"enter your mail\")\n"
   ]
  },
  {
   "cell_type": "markdown",
   "id": "852c8e0c",
   "metadata": {},
   "source": [
    "# Login"
   ]
  },
  {
   "cell_type": "code",
   "execution_count": 7,
   "id": "7d8429cb",
   "metadata": {},
   "outputs": [],
   "source": [
    "def login():\n",
    "    global check\n",
    "    check = False\n",
    "    #mail = input(\"enter your gmail\")\n",
    "    if username1() and password():\n",
    "        #passwd = input(\"enter your password\")\n",
    "        print(\"username and password validated\")\n",
    "        for line in open(\"registration.txt\",\"r\").readlines():\n",
    "            \n",
    "            check = True\n",
    "            #print(type(line))\n",
    "            data  =  eval(line)\n",
    "            #print(data)\n",
    "            #print(type(data))\n",
    "            #data = line\n",
    "            data  = list(data.items())\n",
    "            #print(data[0][0])\n",
    "            if mail==data[0][0] and passwd==data[0][1]:\n",
    "                print(\"login successfully\")\n",
    "                break\n",
    "            else:\n",
    "                check = False\n",
    "        \n",
    "        if check == False:\n",
    "            print(\"your credentials doest match, if you are a new user kindly register\")\n",
    "            print(\"--------------------==========--------------------\")\n",
    "            print(\"if yes........... enter Yes else enter No\")\n",
    "            failed_cred = input(\"enter your choice 'Yes/No' :\")\n",
    "            \n",
    "            if failed_cred == \"Yes\":\n",
    "                print(\"Create your account now \")\n",
    "                Registration()\n",
    "            else:\n",
    "                print(\"Your login credentials are incorrect\")\n",
    "    \n",
    "        "
   ]
  },
  {
   "cell_type": "markdown",
   "id": "a724cdd7",
   "metadata": {},
   "source": [
    "# Access the operations"
   ]
  },
  {
   "cell_type": "code",
   "execution_count": 8,
   "id": "ea8ee852",
   "metadata": {
    "scrolled": true
   },
   "outputs": [
    {
     "name": "stdout",
     "output_type": "stream",
     "text": [
      "Welcome to Muthyalamma committee \n",
      "choose 1 for Login , 2 for Registration\n",
      "Enter your choice (1 or 2) :1\n",
      "You have choosed to login\n",
      "enter your username :mohan@gmail.com\n",
      "valid sofar\n",
      "valid username\n",
      "enter your password :12345nN#\n",
      "Valid password\n",
      "username and password validated\n",
      "your credentials doest match, if you are a new user kindly register\n",
      "--------------------==========--------------------\n",
      "if yes........... enter Yes else enter No\n",
      "enter your choice 'Yes/No' :Yes\n",
      "Create your account now \n",
      "enter your username :mohan@gmail.com\n",
      "valid sofar\n",
      "valid username\n",
      "enter your password :12345nN#\n",
      "Valid password\n"
     ]
    },
    {
     "ename": "NameError",
     "evalue": "name 'flag' is not defined",
     "output_type": "error",
     "traceback": [
      "\u001b[1;31m---------------------------------------------------------------------------\u001b[0m",
      "\u001b[1;31mNameError\u001b[0m                                 Traceback (most recent call last)",
      "Cell \u001b[1;32mIn[8], line 9\u001b[0m\n\u001b[0;32m      7\u001b[0m \u001b[38;5;28;01mif\u001b[39;00m userVal   \u001b[38;5;241m==\u001b[39m \u001b[38;5;241m1\u001b[39m:\n\u001b[0;32m      8\u001b[0m     \u001b[38;5;28mprint\u001b[39m(\u001b[38;5;124m\"\u001b[39m\u001b[38;5;124mYou have choosed to login\u001b[39m\u001b[38;5;124m\"\u001b[39m)\n\u001b[1;32m----> 9\u001b[0m     \u001b[43mlogin\u001b[49m\u001b[43m(\u001b[49m\u001b[43m)\u001b[49m\n\u001b[0;32m     12\u001b[0m \u001b[38;5;28;01melif\u001b[39;00m userVal   \u001b[38;5;241m==\u001b[39m \u001b[38;5;241m2\u001b[39m:\n\u001b[0;32m     13\u001b[0m     \u001b[38;5;28mprint\u001b[39m(\u001b[38;5;124m\"\u001b[39m\u001b[38;5;124mYou have choosed to Register\u001b[39m\u001b[38;5;124m\"\u001b[39m)\n",
      "Cell \u001b[1;32mIn[7], line 32\u001b[0m, in \u001b[0;36mlogin\u001b[1;34m()\u001b[0m\n\u001b[0;32m     30\u001b[0m \u001b[38;5;28;01mif\u001b[39;00m failed_cred \u001b[38;5;241m==\u001b[39m \u001b[38;5;124m\"\u001b[39m\u001b[38;5;124mYes\u001b[39m\u001b[38;5;124m\"\u001b[39m:\n\u001b[0;32m     31\u001b[0m     \u001b[38;5;28mprint\u001b[39m(\u001b[38;5;124m\"\u001b[39m\u001b[38;5;124mCreate your account now \u001b[39m\u001b[38;5;124m\"\u001b[39m)\n\u001b[1;32m---> 32\u001b[0m     \u001b[43mRegistration\u001b[49m\u001b[43m(\u001b[49m\u001b[43m)\u001b[49m\n\u001b[0;32m     33\u001b[0m \u001b[38;5;28;01melse\u001b[39;00m:\n\u001b[0;32m     34\u001b[0m     \u001b[38;5;28mprint\u001b[39m(\u001b[38;5;124m\"\u001b[39m\u001b[38;5;124mYour login credentials are incorrect\u001b[39m\u001b[38;5;124m\"\u001b[39m)\n",
      "Cell \u001b[1;32mIn[2], line 40\u001b[0m, in \u001b[0;36mRegistration\u001b[1;34m()\u001b[0m\n\u001b[0;32m     37\u001b[0m         \u001b[38;5;28mprint\u001b[39m(\u001b[38;5;124m\"\u001b[39m\u001b[38;5;124mThis mail already exits\u001b[39m\u001b[38;5;124m\"\u001b[39m)\n\u001b[0;32m     38\u001b[0m         \u001b[38;5;28;01mbreak\u001b[39;00m\n\u001b[1;32m---> 40\u001b[0m \u001b[38;5;28;01mif\u001b[39;00m \u001b[43mflag\u001b[49m \u001b[38;5;241m==\u001b[39m \u001b[38;5;28;01mTrue\u001b[39;00m:\n\u001b[0;32m     41\u001b[0m     data[mail]\u001b[38;5;241m=\u001b[39mpasswd\n\u001b[0;32m     42\u001b[0m     file\u001b[38;5;241m.\u001b[39mwrite(\u001b[38;5;28mstr\u001b[39m(data) \u001b[38;5;241m+\u001b[39m \u001b[38;5;124m\"\u001b[39m\u001b[38;5;130;01m\\n\u001b[39;00m\u001b[38;5;124m\"\u001b[39m)\n",
      "\u001b[1;31mNameError\u001b[0m: name 'flag' is not defined"
     ]
    }
   ],
   "source": [
    "print(\"Welcome to Muthyalamma committee \")\n",
    "\n",
    "print(\"choose 1 for Login , 2 for Registration\")\n",
    "\n",
    "userVal = int(input(\"Enter your choice (1 or 2) :\"))\n",
    "\n",
    "if userVal   == 1:\n",
    "    print(\"You have choosed to login\")\n",
    "    login()\n",
    "    \n",
    "\n",
    "elif userVal   == 2:\n",
    "    print(\"You have choosed to Register\")\n",
    "    Registration()\n",
    "    \n",
    "else:\n",
    "    print(\"Invalid input, kindly enter your choice as either 1 or 2\")"
   ]
  }
 ],
 "metadata": {
  "kernelspec": {
   "display_name": "Python 3 (ipykernel)",
   "language": "python",
   "name": "python3"
  },
  "language_info": {
   "codemirror_mode": {
    "name": "ipython",
    "version": 3
   },
   "file_extension": ".py",
   "mimetype": "text/x-python",
   "name": "python",
   "nbconvert_exporter": "python",
   "pygments_lexer": "ipython3",
   "version": "3.11.2"
  }
 },
 "nbformat": 4,
 "nbformat_minor": 5
}
