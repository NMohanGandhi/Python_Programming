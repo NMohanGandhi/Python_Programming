{
 "cells": [
  {
   "cell_type": "code",
   "execution_count": 2,
   "id": "a6fe926f",
   "metadata": {},
   "outputs": [
    {
     "name": "stdout",
     "output_type": "stream",
     "text": [
      "enter your username :moojih\n",
      "Valid username length , go for the other validation\n"
     ]
    }
   ],
   "source": [
    "def userName():\n",
    "    \n",
    "    userInput  = eval(input(\"enter your username :\"))\n",
    "    \n",
    "    while True:\n",
    "        \n",
    "        if 5<len(userInput)<40:\n",
    "            \n",
    "            print(\"Valid username length , go for the other validation\")\n",
    "            break\n",
    "            # or call another validation function here\n",
    "        \n",
    "        else:\n",
    "            print(\"Invalid username length, kindly provide the length between 5 and 40\")\n",
    "            \n",
    "            userInput  = eval(input(\"enter your username again :\"))\n",
    "\n",
    "userName()\n"
   ]
  },
  {
   "cell_type": "code",
   "execution_count": 22,
   "id": "8ba5fb78",
   "metadata": {},
   "outputs": [
    {
     "name": "stdout",
     "output_type": "stream",
     "text": [
      "mohanyadav8374@gmail.com\n"
     ]
    }
   ],
   "source": [
    "data = input()"
   ]
  },
  {
   "cell_type": "code",
   "execution_count": 29,
   "id": "0454614b",
   "metadata": {},
   "outputs": [
    {
     "name": "stdout",
     "output_type": "stream",
     "text": [
      "yes\n"
     ]
    }
   ],
   "source": [
    "#print(i)\n",
    "if data[11].isdigit():\n",
    "    print(\"yes\")\n",
    "else:\n",
    "    print(\"no\")\n",
    "\n",
    "    \n",
    "        \n",
    "    "
   ]
  },
  {
   "cell_type": "code",
   "execution_count": 30,
   "id": "bc1ce221",
   "metadata": {},
   "outputs": [],
   "source": [
    "y = data.index(\"@\")"
   ]
  },
  {
   "cell_type": "code",
   "execution_count": 31,
   "id": "8ab6b859",
   "metadata": {},
   "outputs": [
    {
     "data": {
      "text/plain": [
       "14"
      ]
     },
     "execution_count": 31,
     "metadata": {},
     "output_type": "execute_result"
    }
   ],
   "source": [
    "y"
   ]
  },
  {
   "cell_type": "code",
   "execution_count": 37,
   "id": "2fa675f1",
   "metadata": {},
   "outputs": [
    {
     "name": "stdout",
     "output_type": "stream",
     "text": [
      "valid username\n"
     ]
    }
   ],
   "source": [
    "if (data.index(\".\") - data.index(\"@\")) >=2:\n",
    "    print(\"valid username\")\n",
    "else:\n",
    "    print(\"invalid username\")"
   ]
  },
  {
   "cell_type": "code",
   "execution_count": 33,
   "id": "8c0d74b9",
   "metadata": {},
   "outputs": [
    {
     "name": "stdout",
     "output_type": "stream",
     "text": [
      "valid\n"
     ]
    }
   ],
   "source": [
    "if ((\"@\" in data[y:]) and (data[y+4] != \".\")):\n",
    "    print(\"valid\")\n",
    "else:\n",
    "    print(\"not\")"
   ]
  },
  {
   "cell_type": "code",
   "execution_count": null,
   "id": "a9df5740",
   "metadata": {},
   "outputs": [],
   "source": []
  }
 ],
 "metadata": {
  "kernelspec": {
   "display_name": "Python 3 (ipykernel)",
   "language": "python",
   "name": "python3"
  },
  "language_info": {
   "codemirror_mode": {
    "name": "ipython",
    "version": 3
   },
   "file_extension": ".py",
   "mimetype": "text/x-python",
   "name": "python",
   "nbconvert_exporter": "python",
   "pygments_lexer": "ipython3",
   "version": "3.11.2"
  }
 },
 "nbformat": 4,
 "nbformat_minor": 5
}
