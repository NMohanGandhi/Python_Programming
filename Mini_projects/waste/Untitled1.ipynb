{
 "cells": [
  {
   "cell_type": "code",
   "execution_count": 1,
   "id": "c285d140",
   "metadata": {},
   "outputs": [
    {
     "name": "stdout",
     "output_type": "stream",
     "text": [
      "please provide valid mailpwd: eufhurhfhfrfgeruuerf\n",
      "please provide valid mailid: hfoerhfuefuhefheofhe\n"
     ]
    }
   ],
   "source": [
    "def username(n):\n",
    "     \n",
    "     for h in m:\n",
    "          if h == \"@\":\n",
    "               r = m.index(h)\n",
    "               for l in range(r,len(m)):\n",
    "                    if m[l] == \".\":\n",
    "                         print(\"Valid emailid\")\n",
    "                         password(m)\n",
    "                         break\n",
    "                    else:\n",
    "                         global a\n",
    "                         a = a+1\n",
    "                         if a == (len(m)-r):\n",
    "                              print(\"Invalid emailid\")\n",
    "m = input(\"please provide valid mailpwd: \")\n",
    "n = input(\"please provide valid mailid: \")\n",
    "username(n)\n",
    "     "
   ]
  },
  {
   "cell_type": "code",
   "execution_count": null,
   "id": "62553b06",
   "metadata": {},
   "outputs": [],
   "source": [
    "#def len():\n",
    "    m = input(\"enter your mailid\")\n",
    "    if len(m)>=14:\n",
    "        print(\"length is okk\")\n",
    "    else:\n",
    "        print(\"change your length\")\n",
    "m = input(\"enter your mailid\")\n",
    "len()\n"
   ]
  }
 ],
 "metadata": {
  "kernelspec": {
   "display_name": "Python 3 (ipykernel)",
   "language": "python",
   "name": "python3"
  },
  "language_info": {
   "codemirror_mode": {
    "name": "ipython",
    "version": 3
   },
   "file_extension": ".py",
   "mimetype": "text/x-python",
   "name": "python",
   "nbconvert_exporter": "python",
   "pygments_lexer": "ipython3",
   "version": "3.11.2"
  }
 },
 "nbformat": 4,
 "nbformat_minor": 5
}
