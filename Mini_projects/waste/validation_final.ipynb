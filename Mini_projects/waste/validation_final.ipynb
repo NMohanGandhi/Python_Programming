{
 "cells": [
  {
   "cell_type": "markdown",
   "id": "f330d433",
   "metadata": {},
   "source": [
    "# Password Validation"
   ]
  },
  {
   "cell_type": "code",
   "execution_count": 1,
   "id": "748af6c1",
   "metadata": {},
   "outputs": [],
   "source": [
    "file  =  open(\"registration.txt\",\"w\")"
   ]
  },
  {
   "cell_type": "code",
   "execution_count": 2,
   "id": "786de174",
   "metadata": {},
   "outputs": [],
   "source": [
    "#a = 0\n",
    "spec =  \"!#$%&'()*+,-./:;<=>?@[\\]^_`{|}~\"\n",
    "spec = list(spec)\n",
    "#print(spec)\n",
    "def password():\n",
    "    #passwd = input(\"enter your password\")\n",
    "    k,c,d,j = 0,0,0,0\n",
    "    for b in passwd:\n",
    "        if b.isupper():\n",
    "            k = k+1\n",
    "        if b.islower():\n",
    "            c = c+1\n",
    "        if b.isdigit():\n",
    "            d = d+1\n",
    "        if (k and c and d)>0:\n",
    "            break\n",
    "    for s in spec:\n",
    "        if s in passwd:\n",
    "            j = j+1\n",
    "    if (5<len(passwd)<15) and ((k and c and d and j) > 0):\n",
    "        print(\"Valid password\")\n",
    "        \n",
    "    else:\n",
    "        print(\"Invalid password\")\n",
    "#passwd = input(\"enter your password\")"
   ]
  },
  {
   "cell_type": "code",
   "execution_count": 3,
   "id": "e0078b51",
   "metadata": {},
   "outputs": [],
   "source": [
    "#password()"
   ]
  },
  {
   "cell_type": "code",
   "execution_count": 4,
   "id": "243570fa",
   "metadata": {},
   "outputs": [],
   "source": [
    "def username1():\n",
    "    #mail  = input(\"enter your username :\")\n",
    "    while 5<len(mail)<40:\n",
    "        #print(\"Valid username length , go for the other validation\")\n",
    "        if mail[0].isalpha():\n",
    "                print(\"valid sofar\")\n",
    "                \n",
    "                if (mail.index(\".\") - mail.index(\"@\"))>=2:\n",
    "                    print(\"valid username\")\n",
    "                    break\n",
    "                else:\n",
    "                    print(\"invalid username\")\n",
    "                    break\n",
    "                    \n",
    "        \n",
    "            # or call another validation function here\n",
    "        else:\n",
    "            print(\"Invalid username\")\n",
    "            \n",
    "            mail  = input(\"enter your username again :\")\n",
    "            break\n",
    "            \n",
    "#mail=input(\"enter your mail\")\n"
   ]
  },
  {
   "cell_type": "code",
   "execution_count": 5,
   "id": "3e84f6e5",
   "metadata": {},
   "outputs": [],
   "source": [
    "#username1()\n",
    "if user login\n",
    "\n",
    "else regristra"
   ]
  },
  {
   "cell_type": "code",
   "execution_count": null,
   "id": "59c06820",
   "metadata": {},
   "outputs": [],
   "source": [
    "def login():\n",
    "    #mail = input(\"enter your gmail\")\n",
    "    username1()\n",
    "    #passwd = input(\"enter your password\")\n",
    "    password()\n",
    "    \n",
    "    \n",
    "    \n",
    "    for line in open(\"registration.txt\",\"r\").readlines():\n",
    "        flag = True\n",
    "        #print(type(line))\n",
    "        data  =  eval(line)\n",
    "        print(data)\n",
    "        #print(type(data))\n",
    "        #data = line\n",
    "        data  = list(data.items())\n",
    "        print(data[0][0])\n",
    "        if mail==data[0][0] and passwd==data[0][1]:\n",
    "            print(\"login successfully\")\n",
    "            break\n",
    "        else:\n",
    "            flag = False\n",
    "    \n",
    "    if flag == False:\n",
    "        print(\"your credentials doest match, if you are a new user kindly register\")\n",
    "        print(\"--------------------==========--------------------\")\n",
    "        \n",
    "        print(\"if yes........... enter Yes else enter No\")\n",
    "        \n",
    "        failed_cred = input(\"enter your choice 'Yes/No' :\")\n",
    "        \n",
    "        if failed_cred == \"Yes\":\n",
    "            \n",
    "            print(\"Create your account now \")\n",
    "            Registration()\n",
    "            \n",
    "        else:\n",
    "            print(\"Your login credentials are incorrect\") \n",
    "#mail = input(\"enter your gmail\")\n",
    "#passwd = input(\"enter your password\")\n",
    "def Registration():\n",
    "    #mail = input(\"enter your gmail\")\n",
    "    username1()\n",
    "    \n",
    "    #passwd = input(\"enter your password\")\n",
    "    password()\n",
    "    \n",
    "\n",
    "    \n",
    "    \n",
    "    data  = {}\n",
    "    file = open(\"registration.txt\",\"a\")\n",
    "    data[mail] = passwd\n",
    "    file.write((data) + \"\\n\")\n",
    "   \n",
    "    file.close()\n",
    "        \n",
    "\n",
    "            \n",
    "        "
   ]
  },
  {
   "cell_type": "code",
   "execution_count": null,
   "id": "83969d5f",
   "metadata": {},
   "outputs": [],
   "source": [
    "login()"
   ]
  },
  {
   "cell_type": "code",
   "execution_count": null,
   "id": "6c9c54e6",
   "metadata": {},
   "outputs": [],
   "source": [
    "Registration()"
   ]
  },
  {
   "cell_type": "code",
   "execution_count": null,
   "id": "4f190c81",
   "metadata": {},
   "outputs": [],
   "source": []
  },
  {
   "cell_type": "code",
   "execution_count": null,
   "id": "f0aa9db4",
   "metadata": {},
   "outputs": [],
   "source": []
  },
  {
   "cell_type": "code",
   "execution_count": null,
   "id": "37003e83",
   "metadata": {},
   "outputs": [],
   "source": []
  },
  {
   "cell_type": "code",
   "execution_count": null,
   "id": "16c9b2e7",
   "metadata": {},
   "outputs": [],
   "source": []
  },
  {
   "cell_type": "code",
   "execution_count": null,
   "id": "61a97f23",
   "metadata": {},
   "outputs": [],
   "source": [
    "#a = 0\n",
    "spec =  \"!#$%&'()*+,-./:;<=>?@[\\]^_`{|}~\"\n",
    "spec = list(spec)\n",
    "#print(spec)\n",
    "def password(n):\n",
    "    k,c,d,j = 0,0,0,0\n",
    "    for b in n:\n",
    "        if b.isupper():\n",
    "            k = k+1\n",
    "        if b.islower():\n",
    "            c = c+1\n",
    "        if b.isdigit():\n",
    "            d = d+1\n",
    "        if (k and c and d)>0:\n",
    "            break\n",
    "    for s in spec:\n",
    "        if s in n:\n",
    "            j = j+1\n",
    "    if (5<len(n)<15) and ((k and c and d and j) > 0):\n",
    "        print(\"Valid password\")\n",
    "        \n",
    "    else:\n",
    "        print(\"Invalid password\")\n",
    "n = input(\"enter your password\")\n",
    "\n",
    "    \n",
    "    "
   ]
  },
  {
   "cell_type": "code",
   "execution_count": null,
   "id": "89d79643",
   "metadata": {},
   "outputs": [],
   "source": [
    "password(n)"
   ]
  },
  {
   "cell_type": "markdown",
   "id": "ca00d758",
   "metadata": {},
   "source": [
    "# username validation"
   ]
  },
  {
   "cell_type": "code",
   "execution_count": null,
   "id": "dd55b6aa",
   "metadata": {},
   "outputs": [],
   "source": [
    "def username1():\n",
    "    gmail  = input(\"enter your username :\")\n",
    "    while 5<len(gmail)<40:\n",
    "        #print(\"Valid username length , go for the other validation\")\n",
    "        if gmail[0].isalpha():\n",
    "                print(\"valid sofar\")\n",
    "                \n",
    "                if (gmail.index(\".\") - gmail.index(\"@\"))>=2:\n",
    "                    print(\"valid username\")\n",
    "                    break\n",
    "                else:\n",
    "                    print(\"invalid username\")\n",
    "                    break\n",
    "                    \n",
    "        \n",
    "            # or call another validation function here\n",
    "        else:\n",
    "            print(\"Invalid username\")\n",
    "            gmail  = input(\"enter your username again :\")\n",
    "            break\n",
    "        \n",
    "\n",
    "                "
   ]
  },
  {
   "cell_type": "code",
   "execution_count": null,
   "id": "fe2c235a",
   "metadata": {},
   "outputs": [],
   "source": [
    "def Registration():\n",
    "    \n",
    "    mail = input(\"enter your gmail\")\n",
    "    passwd = input(\"enter your password\")\n",
    "    data  = {}\n",
    "    file = open(\"registration.txt\",\"a\")\n",
    "    data[mail] = passwd\n",
    "    file.write((data) + \"\\n\")\n",
    "   \n",
    "    file.close()\n",
    "        \n",
    "        \n",
    "    \n",
    "    \n",
    "    "
   ]
  },
  {
   "cell_type": "code",
   "execution_count": null,
   "id": "c399cbc6",
   "metadata": {},
   "outputs": [],
   "source": [
    "Registration()"
   ]
  },
  {
   "cell_type": "code",
   "execution_count": null,
   "id": "4b6f4ea7",
   "metadata": {},
   "outputs": [],
   "source": [
    "def login():\n",
    "    mail = input(\"enter your gmail\")\n",
    "    passwd = input(\"enter your password\")\n",
    "    for line in open(\"registration.txt\",\"r\").readlines():\n",
    "        flag = True\n",
    "        #print(type(line))\n",
    "        data  =  eval(line)\n",
    "        print(data)\n",
    "        #print(type(data))\n",
    "        #data = line\n",
    "        data  = list(data.items())\n",
    "        print(data[0][0])\n",
    "        if mail==data[0][0] and passwd==data[0][1]:\n",
    "            print(\"login successfully\")\n",
    "            break\n",
    "        else:\n",
    "            flag = False\n",
    "    \n",
    "    if flag == False:\n",
    "        print(\"your credentials doest match, if you are a new user kindly register\")\n",
    "        print(\"--------------------==========--------------------\")\n",
    "        \n",
    "        print(\"if yes........... enter Yes else enter No\")\n",
    "        \n",
    "        failed_cred = input(\"enter your choice 'Yes/No' :\")\n",
    "        \n",
    "        if failed_cred == \"Yes\":\n",
    "            \n",
    "            print(\"Create your account now \")\n",
    "            Registration()\n",
    "            \n",
    "        else:\n",
    "            print(\"Your login credentials are incorrect\") \n",
    "            \n",
    "        "
   ]
  },
  {
   "cell_type": "code",
   "execution_count": null,
   "id": "1d4ad387",
   "metadata": {
    "scrolled": true
   },
   "outputs": [],
   "source": [
    "login()"
   ]
  },
  {
   "cell_type": "code",
   "execution_count": null,
   "id": "969ccce9",
   "metadata": {},
   "outputs": [],
   "source": [
    "username1()"
   ]
  },
  {
   "cell_type": "code",
   "execution_count": null,
   "id": "a7a33f85",
   "metadata": {},
   "outputs": [],
   "source": []
  },
  {
   "cell_type": "code",
   "execution_count": null,
   "id": "5173ae6c",
   "metadata": {},
   "outputs": [],
   "source": []
  },
  {
   "cell_type": "code",
   "execution_count": null,
   "id": "1394f7ae",
   "metadata": {},
   "outputs": [],
   "source": []
  },
  {
   "cell_type": "code",
   "execution_count": null,
   "id": "aa6c3129",
   "metadata": {},
   "outputs": [],
   "source": []
  }
 ],
 "metadata": {
  "kernelspec": {
   "display_name": "Python 3 (ipykernel)",
   "language": "python",
   "name": "python3"
  },
  "language_info": {
   "codemirror_mode": {
    "name": "ipython",
    "version": 3
   },
   "file_extension": ".py",
   "mimetype": "text/x-python",
   "name": "python",
   "nbconvert_exporter": "python",
   "pygments_lexer": "ipython3",
   "version": "3.11.2"
  }
 },
 "nbformat": 4,
 "nbformat_minor": 5
}
