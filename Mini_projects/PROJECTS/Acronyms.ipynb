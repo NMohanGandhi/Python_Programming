{
 "cells": [
  {
   "cell_type": "code",
   "execution_count": 1,
   "id": "d14d9e4f",
   "metadata": {},
   "outputs": [
    {
     "name": "stdout",
     "output_type": "stream",
     "text": [
      "Enter a Phrase: python virtual machine\n",
      " PVM\n"
     ]
    }
   ],
   "source": [
    "user_input = input(\"Enter a Phrase: \")\n",
    "text = user_input.split()\n",
    "a=\" \"\n",
    "for i in text:\n",
    "    a = a+(i[0]).upper()\n",
    "print(a)"
   ]
  },
  {
   "cell_type": "code",
   "execution_count": 13,
   "id": "0f6a5ea7",
   "metadata": {},
   "outputs": [
    {
     "name": "stdout",
     "output_type": "stream",
     "text": [
      "Enter a Phrase: national aeronatis space admin\n"
     ]
    }
   ],
   "source": [
    "userr_input = input(\"Enter a Phrase: \")"
   ]
  },
  {
   "cell_type": "code",
   "execution_count": 15,
   "id": "613eefa3",
   "metadata": {},
   "outputs": [
    {
     "data": {
      "text/plain": [
       "['national', 'aeronatis', 'space', 'admin']"
      ]
     },
     "execution_count": 15,
     "metadata": {},
     "output_type": "execute_result"
    }
   ],
   "source": [
    "texts = userr_input.split()\n",
    "texts"
   ]
  },
  {
   "cell_type": "code",
   "execution_count": 16,
   "id": "9cf2bba3",
   "metadata": {},
   "outputs": [],
   "source": [
    "b=\" \""
   ]
  },
  {
   "cell_type": "code",
   "execution_count": 19,
   "id": "ccae63bd",
   "metadata": {},
   "outputs": [
    {
     "name": "stdout",
     "output_type": "stream",
     "text": [
      "national\n",
      " NASAN\n",
      "aeronatis\n",
      " NASANA\n",
      "space\n",
      " NASANAS\n",
      "admin\n",
      " NASANASA\n"
     ]
    }
   ],
   "source": [
    "for i in texts:\n",
    "    print(i)\n",
    "    b=b+(i[0]).upper()\n",
    "    print(b)"
   ]
  },
  {
   "cell_type": "code",
   "execution_count": 20,
   "id": "ab344e7f",
   "metadata": {},
   "outputs": [
    {
     "name": "stdout",
     "output_type": "stream",
     "text": [
      " NASANASA\n"
     ]
    }
   ],
   "source": [
    "print(b)"
   ]
  },
  {
   "cell_type": "code",
   "execution_count": null,
   "id": "6d66aa2a",
   "metadata": {},
   "outputs": [],
   "source": []
  }
 ],
 "metadata": {
  "kernelspec": {
   "display_name": "Python 3 (ipykernel)",
   "language": "python",
   "name": "python3"
  },
  "language_info": {
   "codemirror_mode": {
    "name": "ipython",
    "version": 3
   },
   "file_extension": ".py",
   "mimetype": "text/x-python",
   "name": "python",
   "nbconvert_exporter": "python",
   "pygments_lexer": "ipython3",
   "version": "3.10.2"
  }
 },
 "nbformat": 4,
 "nbformat_minor": 5
}
