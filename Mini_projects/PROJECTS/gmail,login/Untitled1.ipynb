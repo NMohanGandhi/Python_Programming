{
 "cells": [
  {
   "cell_type": "code",
   "execution_count": 3,
   "id": "84e1e1fe",
   "metadata": {},
   "outputs": [
    {
     "name": "stdout",
     "output_type": "stream",
     "text": [
      "enter your gmail :mohanyadav@gmail.com\n",
      "Enter your password :12345nN#\n",
      "{'mohanyadav@gmail.com': '12345nN#'}\n",
      "12345nN# old\n",
      "{'mohanyadav@gmail.com': '9qdB5@$^T4Wkj%se'} NEW\n",
      "<class 'dict'>\n"
     ]
    }
   ],
   "source": [
    "gmail = input(\"enter your gmail :\")\n",
    "password = input(\"Enter your password :\")\n",
    "dic={}\n",
    "dic[gmail]=password\n",
    "data  = list(dic.items())\n",
    "print(dic)\n",
    "print(data[0][1],\"old\")\n",
    "\n",
    "import random\n",
    "Upper = \"ABCDEFGHIJKLMNOPQRSTUVWXYZ\"\n",
    "Lower = \"abcdefghijklmnopqrstuvwxyz\"\n",
    "Numbers = \"0123456789\"\n",
    "special_char =  \"!@#$%^&*\"\n",
    "length = 16\n",
    "all = Upper+Lower+Numbers+special_char \n",
    "random_password = \"\".join(random.sample(all,length))\n",
    "dic[gmail]=random_password\n",
    "print(dic,\"NEW\")\n",
    "print(type(dic))\n",
    " \n",
    "   \n",
    "    \n",
    "   "
   ]
  },
  {
   "cell_type": "code",
   "execution_count": null,
   "id": "39f235bf",
   "metadata": {},
   "outputs": [],
   "source": []
  },
  {
   "cell_type": "code",
   "execution_count": null,
   "id": "a62fcff6",
   "metadata": {},
   "outputs": [],
   "source": []
  },
  {
   "cell_type": "code",
   "execution_count": null,
   "id": "7d6c02b6",
   "metadata": {},
   "outputs": [],
   "source": []
  },
  {
   "cell_type": "code",
   "execution_count": null,
   "id": "7c3fcfc6",
   "metadata": {},
   "outputs": [],
   "source": []
  },
  {
   "cell_type": "code",
   "execution_count": null,
   "id": "a70f6e80",
   "metadata": {},
   "outputs": [],
   "source": []
  },
  {
   "cell_type": "code",
   "execution_count": null,
   "id": "9c6eae01",
   "metadata": {},
   "outputs": [],
   "source": []
  },
  {
   "cell_type": "code",
   "execution_count": null,
   "id": "a8b92ed7",
   "metadata": {},
   "outputs": [],
   "source": []
  },
  {
   "cell_type": "code",
   "execution_count": null,
   "id": "ba8f4ed8",
   "metadata": {},
   "outputs": [],
   "source": []
  },
  {
   "cell_type": "code",
   "execution_count": null,
   "id": "49cafd60",
   "metadata": {},
   "outputs": [],
   "source": []
  },
  {
   "cell_type": "code",
   "execution_count": null,
   "id": "022d638d",
   "metadata": {},
   "outputs": [],
   "source": []
  },
  {
   "cell_type": "code",
   "execution_count": null,
   "id": "b2bf3e19",
   "metadata": {},
   "outputs": [],
   "source": []
  }
 ],
 "metadata": {
  "kernelspec": {
   "display_name": "Python 3 (ipykernel)",
   "language": "python",
   "name": "python3"
  },
  "language_info": {
   "codemirror_mode": {
    "name": "ipython",
    "version": 3
   },
   "file_extension": ".py",
   "mimetype": "text/x-python",
   "name": "python",
   "nbconvert_exporter": "python",
   "pygments_lexer": "ipython3",
   "version": "3.11.2"
  }
 },
 "nbformat": 4,
 "nbformat_minor": 5
}
