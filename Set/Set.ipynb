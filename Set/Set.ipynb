{
 "cells": [
  {
   "cell_type": "markdown",
   "id": "1710fecd",
   "metadata": {},
   "source": [
    "<html>\n",
    "    <body> <h1>Set Datatype </h1></body>\n",
    "    <hr><hr>\n",
    "</html>"
   ]
  },
  {
   "cell_type": "markdown",
   "id": "9173e034",
   "metadata": {},
   "source": [
    "<h2>we can create set object by using \"set()\" function</h2>"
   ]
  },
  {
   "cell_type": "markdown",
   "id": "a56a625d",
   "metadata": {},
   "source": [
    " <h2>A Set is a group of unique values as a single entity "
   ]
  },
  {
   "cell_type": "markdown",
   "id": "618d1216",
   "metadata": {},
   "source": [
    "## set represents by a curly \"braces() \"and with comma seperation"
   ]
  },
  {
   "cell_type": "markdown",
   "id": "65c00dae",
   "metadata": {},
   "source": [
    "# dupliates are not allowed \n"
   ]
  },
  {
   "cell_type": "markdown",
   "id": "898cfbeb",
   "metadata": {},
   "source": [
    "# indexing and slicing are not allow "
   ]
  },
  {
   "cell_type": "markdown",
   "id": "b40e9544",
   "metadata": {},
   "source": [
    "# insertion order is not preserved,but we can sort the elements "
   ]
  },
  {
   "cell_type": "markdown",
   "id": "ee1f6d82",
   "metadata": {},
   "source": [
    "# hetrogeneous elements are allow </h2><hr><hr>\n"
   ]
  },
  {
   "cell_type": "markdown",
   "id": "4a86a85a",
   "metadata": {},
   "source": [
    "## set objects are mutable ,once we create set object we can perform any changes in that object based on our requrirement "
   ]
  },
  {
   "cell_type": "code",
   "execution_count": null,
   "id": "09db43d1",
   "metadata": {},
   "outputs": [],
   "source": [
    "a = set()\n",
    "print(a)    ## 124"
   ]
  },
  {
   "cell_type": "code",
   "execution_count": null,
   "id": "6dd01f86",
   "metadata": {},
   "outputs": [],
   "source": [
    "print(type(a))"
   ]
  },
  {
   "cell_type": "code",
   "execution_count": null,
   "id": "28987d00",
   "metadata": {},
   "outputs": [],
   "source": [
    "a = {10,40,50,1,2,89,1}\n",
    "\n",
    "print(sort(a))\n",
    "\n"
   ]
  },
  {
   "cell_type": "code",
   "execution_count": null,
   "id": "fef893ce",
   "metadata": {},
   "outputs": [],
   "source": [
    "b={43,2,67,1,8,9,0}\n",
    "v=sorted(b)\n",
    "j = set(v)\n",
    "print(v)\n",
    "print(j)"
   ]
  },
  {
   "cell_type": "code",
   "execution_count": null,
   "id": "6153ed87",
   "metadata": {},
   "outputs": [],
   "source": [
    "i={90,99,1,27,8,90}\n",
    "print(i)"
   ]
  },
  {
   "cell_type": "code",
   "execution_count": null,
   "id": "4b86eae2",
   "metadata": {},
   "outputs": [],
   "source": [
    "s = {5,2,7,1,8,99,80}\n",
    "print(s)"
   ]
  },
  {
   "cell_type": "code",
   "execution_count": null,
   "id": "d5a826ed",
   "metadata": {},
   "outputs": [],
   "source": [
    "s ={1,2,3,6,7,4}\n",
    "print(s)"
   ]
  },
  {
   "cell_type": "code",
   "execution_count": null,
   "id": "8e3c30e8",
   "metadata": {},
   "outputs": [],
   "source": []
  }
 ],
 "metadata": {
  "kernelspec": {
   "display_name": "Python 3 (ipykernel)",
   "language": "python",
   "name": "python3"
  },
  "language_info": {
   "codemirror_mode": {
    "name": "ipython",
    "version": 3
   },
   "file_extension": ".py",
   "mimetype": "text/x-python",
   "name": "python",
   "nbconvert_exporter": "python",
   "pygments_lexer": "ipython3",
   "version": "3.11.2"
  }
 },
 "nbformat": 4,
 "nbformat_minor": 5
}
