{
 "cells": [
  {
   "cell_type": "markdown",
   "id": "81c896b5",
   "metadata": {},
   "source": [
    "# List\n",
    "Lists are used to store multiple items in a single variable.\n",
    "\n",
    "Lists are one of 4 built-in data types in Python used to store collections of data, the other 3 are Tuple, Set, and Dictionary, all with different qualities and usage.\n",
    "\n",
    "Lists are created using square brackets:"
   ]
  },
  {
   "cell_type": "raw",
   "id": "8b90eafd",
   "metadata": {},
   "source": [
    "If we want to represent a group of individual objects as a single entity where insertion\n",
    "\n",
    "order preserved and duplicates are allowed, then we should go for List.\n",
    "\n",
    "insertion order preserved.\n",
    "\n",
    "duplicate objects are allowed\n",
    "\n",
    "heterogeneous objects are allowed.\n",
    "\n",
    "List is dynamic because based on our requirement we can increase the size and  decrease the size\n",
    " \n",
    "In List the elements will be placed within square brackets and with comma seperator.\n",
    "\n",
    "We can differentiate duplicate elements by using index and we can preserve insertionorder by using index. Hence index will play very important role.\n",
    "\n",
    "Python supports both positive and negative indexes. +ve index means from left to right ,where as negative index means right to left\n",
    "\n",
    "List objects are mutable.i.e we can change the content"
   ]
  },
  {
   "cell_type": "markdown",
   "id": "5395ce5d",
   "metadata": {},
   "source": [
    "# Creation of list object"
   ]
  },
  {
   "cell_type": "code",
   "execution_count": 6,
   "id": "21b12821",
   "metadata": {},
   "outputs": [
    {
     "name": "stdout",
     "output_type": "stream",
     "text": [
      "<class 'list'>\n",
      "<class 'type'>\n"
     ]
    }
   ],
   "source": [
    "list0 = []\n",
    "print(list)\n",
    "print(type(list))"
   ]
  },
  {
   "cell_type": "code",
   "execution_count": 7,
   "id": "4a76fdb7",
   "metadata": {},
   "outputs": [
    {
     "name": "stdout",
     "output_type": "stream",
     "text": [
      "['1', 1, 'one', 1.0]\n",
      "<class 'list'>\n"
     ]
    }
   ],
   "source": [
    "list1 = [\"1\",1,\"one\",1.0]   # list are  heterogeneous,to store different elements\n",
    "print(list1)\n",
    "print(type(list1))"
   ]
  },
  {
   "cell_type": "code",
   "execution_count": 8,
   "id": "9550ced1",
   "metadata": {},
   "outputs": [
    {
     "name": "stdout",
     "output_type": "stream",
     "text": [
      "<class 'str'>\n",
      "<class 'int'>\n"
     ]
    },
    {
     "ename": "TypeError",
     "evalue": "list indices must be integers or slices, not str",
     "output_type": "error",
     "traceback": [
      "\u001b[1;31m---------------------------------------------------------------------------\u001b[0m",
      "\u001b[1;31mTypeError\u001b[0m                                 Traceback (most recent call last)",
      "Input \u001b[1;32mIn [8]\u001b[0m, in \u001b[0;36m<cell line: 3>\u001b[1;34m()\u001b[0m\n\u001b[0;32m      1\u001b[0m \u001b[38;5;28mprint\u001b[39m(\u001b[38;5;28mtype\u001b[39m(list1[\u001b[38;5;241m0\u001b[39m]))\n\u001b[0;32m      2\u001b[0m \u001b[38;5;28mprint\u001b[39m(\u001b[38;5;28mtype\u001b[39m(list1[\u001b[38;5;241m1\u001b[39m]))\n\u001b[1;32m----> 3\u001b[0m \u001b[38;5;28mprint\u001b[39m(\u001b[38;5;28mtype\u001b[39m(\u001b[43mlist1\u001b[49m\u001b[43m[\u001b[49m\u001b[38;5;124;43m\"\u001b[39;49m\u001b[38;5;124;43mone\u001b[39;49m\u001b[38;5;124;43m\"\u001b[39;49m\u001b[43m]\u001b[49m))\n\u001b[0;32m      4\u001b[0m \u001b[38;5;28mprint\u001b[39m(\u001b[38;5;28mtype\u001b[39m(list1[\u001b[38;5;241m2\u001b[39m]))\n\u001b[0;32m      5\u001b[0m \u001b[38;5;28mprint\u001b[39m(\u001b[38;5;28mtype\u001b[39m(list1[\u001b[38;5;241m3\u001b[39m]))\n",
      "\u001b[1;31mTypeError\u001b[0m: list indices must be integers or slices, not str"
     ]
    }
   ],
   "source": [
    "print(type(list1[0]))\n",
    "print(type(list1[1]))\n",
    "print(type(list1[\"one\"]))\n",
    "print(type(list1[2]))\n",
    "print(type(list1[3]))\n"
   ]
  },
  {
   "cell_type": "markdown",
   "id": "986fdcd0",
   "metadata": {},
   "source": [
    "# With Dynamic input eval()"
   ]
  },
  {
   "cell_type": "code",
   "execution_count": 9,
   "id": "20e8b6bc",
   "metadata": {},
   "outputs": [
    {
     "name": "stdout",
     "output_type": "stream",
     "text": [
      "enter your list of Elements[1,2,3,4,\"mohan\"]\n"
     ]
    }
   ],
   "source": [
    "list2 = eval(input(\"enter your list of Elements\"))"
   ]
  },
  {
   "cell_type": "code",
   "execution_count": 10,
   "id": "a7bdaacb",
   "metadata": {},
   "outputs": [
    {
     "name": "stdout",
     "output_type": "stream",
     "text": [
      "<class 'list'>\n"
     ]
    }
   ],
   "source": [
    "print(type(list2))"
   ]
  },
  {
   "cell_type": "markdown",
   "id": "dab52f93",
   "metadata": {},
   "source": [
    "# With list() function"
   ]
  },
  {
   "cell_type": "code",
   "execution_count": 11,
   "id": "39b309c7",
   "metadata": {},
   "outputs": [
    {
     "name": "stdout",
     "output_type": "stream",
     "text": [
      "[]\n"
     ]
    }
   ],
   "source": [
    "lst = list()\n",
    "print(lst)"
   ]
  },
  {
   "cell_type": "code",
   "execution_count": 13,
   "id": "68c9cca3",
   "metadata": {},
   "outputs": [
    {
     "name": "stdout",
     "output_type": "stream",
     "text": [
      "[0, 2, 4, 6, 8]\n",
      "<class 'list'>\n"
     ]
    }
   ],
   "source": [
    "li = list(range(0,10,2))   # [satrt:stop:step value]\n",
    "print(li)\n",
    "print(type(li))"
   ]
  },
  {
   "cell_type": "code",
   "execution_count": 15,
   "id": "9e3bcd25",
   "metadata": {},
   "outputs": [
    {
     "name": "stdout",
     "output_type": "stream",
     "text": [
      "['M', 'O', 'h', 'a', 'n']\n",
      "<class 'list'>\n"
     ]
    }
   ],
   "source": [
    "a = \"MOhan\"\n",
    "b = list(a)\n",
    "print(b)\n",
    "print(type(b))"
   ]
  },
  {
   "cell_type": "markdown",
   "id": "473ed4d5",
   "metadata": {},
   "source": [
    "# With split() Function"
   ]
  },
  {
   "cell_type": "code",
   "execution_count": 16,
   "id": "cfe0cc16",
   "metadata": {},
   "outputs": [
    {
     "name": "stdout",
     "output_type": "stream",
     "text": [
      "['I', 'am', 'learning', 'Python', 'very', 'very', 'Easily!!!']\n",
      "<class 'list'>\n"
     ]
    }
   ],
   "source": [
    "s = \"I am learning Python very very Easily!!! \"\n",
    "i = s.split()\n",
    "print(i)\n",
    "print(type(i))"
   ]
  },
  {
   "cell_type": "code",
   "execution_count": 18,
   "id": "d2c755c4",
   "metadata": {},
   "outputs": [
    {
     "name": "stdout",
     "output_type": "stream",
     "text": [
      "True\n"
     ]
    }
   ],
   "source": [
    "print(\"i\" in s)"
   ]
  },
  {
   "cell_type": "code",
   "execution_count": 19,
   "id": "74b6ea17",
   "metadata": {},
   "outputs": [
    {
     "name": "stdout",
     "output_type": "stream",
     "text": [
      "21\n"
     ]
    }
   ],
   "source": [
    "print(s.index(\"very\"))"
   ]
  },
  {
   "cell_type": "code",
   "execution_count": 27,
   "id": "ab39e407",
   "metadata": {},
   "outputs": [
    {
     "name": "stdout",
     "output_type": "stream",
     "text": [
      "0\n"
     ]
    }
   ],
   "source": [
    "print(s.count(\"z\"))"
   ]
  },
  {
   "cell_type": "code",
   "execution_count": null,
   "id": "aa41d2a0",
   "metadata": {},
   "outputs": [],
   "source": []
  }
 ],
 "metadata": {
  "kernelspec": {
   "display_name": "Python 3 (ipykernel)",
   "language": "python",
   "name": "python3"
  },
  "language_info": {
   "codemirror_mode": {
    "name": "ipython",
    "version": 3
   },
   "file_extension": ".py",
   "mimetype": "text/x-python",
   "name": "python",
   "nbconvert_exporter": "python",
   "pygments_lexer": "ipython3",
   "version": "3.10.2"
  }
 },
 "nbformat": 4,
 "nbformat_minor": 5
}
