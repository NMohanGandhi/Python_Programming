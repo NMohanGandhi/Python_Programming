{
 "cells": [
  {
   "cell_type": "markdown",
   "id": "fa575bf1",
   "metadata": {},
   "source": [
    "# Strings are Sequence of Characters enclosed within Single Quotes(' '),Double Quotes(\" \") or Triple Quotes(''' ''') are Consider as a string"
   ]
  },
  {
   "cell_type": "code",
   "execution_count": 7,
   "id": "a4a9b300",
   "metadata": {},
   "outputs": [],
   "source": [
    "a = 'Hello world'  # sigle quotes characters"
   ]
  },
  {
   "cell_type": "code",
   "execution_count": 8,
   "id": "d629f251",
   "metadata": {},
   "outputs": [
    {
     "data": {
      "text/plain": [
       "str"
      ]
     },
     "execution_count": 8,
     "metadata": {},
     "output_type": "execute_result"
    }
   ],
   "source": [
    "type(a)"
   ]
  },
  {
   "cell_type": "code",
   "execution_count": 9,
   "id": "b266aa86",
   "metadata": {},
   "outputs": [],
   "source": [
    "b = \"This is Sparta\"  # word or sentences"
   ]
  },
  {
   "cell_type": "code",
   "execution_count": 10,
   "id": "e8af3e90",
   "metadata": {},
   "outputs": [
    {
     "data": {
      "text/plain": [
       "'This is Sparta'"
      ]
     },
     "execution_count": 10,
     "metadata": {},
     "output_type": "execute_result"
    }
   ],
   "source": [
    "b"
   ]
  },
  {
   "cell_type": "code",
   "execution_count": 11,
   "id": "5ed05d63",
   "metadata": {},
   "outputs": [
    {
     "data": {
      "text/plain": [
       "str"
      ]
     },
     "execution_count": 11,
     "metadata": {},
     "output_type": "execute_result"
    }
   ],
   "source": [
    "type(b)"
   ]
  },
  {
   "cell_type": "code",
   "execution_count": 6,
   "id": "0e2856fb",
   "metadata": {},
   "outputs": [],
   "source": [
    "c = '''\n",
    "i\n",
    "am\n",
    "going\n",
    "to\n",
    "France\n",
    "Tomorrow\n",
    "'''"
   ]
  },
  {
   "cell_type": "code",
   "execution_count": 12,
   "id": "0d2a61ab",
   "metadata": {},
   "outputs": [
    {
     "data": {
      "text/plain": [
       "'\\ni\\nam\\ngoing\\nto\\nFrance\\nTomorrow\\n'"
      ]
     },
     "execution_count": 12,
     "metadata": {},
     "output_type": "execute_result"
    }
   ],
   "source": [
    "c # multine comments or Strings"
   ]
  },
  {
   "cell_type": "code",
   "execution_count": 13,
   "id": "1635f577",
   "metadata": {},
   "outputs": [
    {
     "data": {
      "text/plain": [
       "str"
      ]
     },
     "execution_count": 13,
     "metadata": {},
     "output_type": "execute_result"
    }
   ],
   "source": [
    "type(c)"
   ]
  },
  {
   "cell_type": "code",
   "execution_count": 14,
   "id": "d14ed413",
   "metadata": {},
   "outputs": [],
   "source": [
    "my_string = \"Joey loves Pizza\""
   ]
  },
  {
   "cell_type": "code",
   "execution_count": 15,
   "id": "246a37fc",
   "metadata": {},
   "outputs": [
    {
     "data": {
      "text/plain": [
       "16"
      ]
     },
     "execution_count": 15,
     "metadata": {},
     "output_type": "execute_result"
    }
   ],
   "source": [
    "len(my_string)"
   ]
  },
  {
   "cell_type": "code",
   "execution_count": 16,
   "id": "1899fff4",
   "metadata": {},
   "outputs": [
    {
     "data": {
      "text/plain": [
       "'Joey loves Pizza'"
      ]
     },
     "execution_count": 16,
     "metadata": {},
     "output_type": "execute_result"
    }
   ],
   "source": [
    "my_string"
   ]
  },
  {
   "cell_type": "code",
   "execution_count": 17,
   "id": "0419e875",
   "metadata": {},
   "outputs": [
    {
     "data": {
      "text/plain": [
       "'J'"
      ]
     },
     "execution_count": 17,
     "metadata": {},
     "output_type": "execute_result"
    }
   ],
   "source": [
    "my_string[0]"
   ]
  },
  {
   "cell_type": "code",
   "execution_count": 18,
   "id": "bc1e9123",
   "metadata": {},
   "outputs": [
    {
     "data": {
      "text/plain": [
       "'a'"
      ]
     },
     "execution_count": 18,
     "metadata": {},
     "output_type": "execute_result"
    }
   ],
   "source": [
    "my_string[-1]"
   ]
  },
  {
   "cell_type": "code",
   "execution_count": 19,
   "id": "898c810c",
   "metadata": {},
   "outputs": [
    {
     "data": {
      "text/plain": [
       "'Joey love'"
      ]
     },
     "execution_count": 19,
     "metadata": {},
     "output_type": "execute_result"
    }
   ],
   "source": [
    "my_string[0:9] # starts 0 and (end-1)=  0,5-1=4\n",
    "# it will goes 0 to 4 only"
   ]
  },
  {
   "cell_type": "raw",
   "id": "920703e4",
   "metadata": {},
   "source": [
    "   0 1 2 3 4 5 6 7 8 9 10 11 12 13 14 15\n",
    "   j o e y   l o v e s     p  i  z  z  a"
   ]
  },
  {
   "cell_type": "code",
   "execution_count": 20,
   "id": "c15c5f60",
   "metadata": {},
   "outputs": [],
   "source": [
    "# finding the length of string\n",
    "word = \"My Name is Mohan Yadav\""
   ]
  },
  {
   "cell_type": "code",
   "execution_count": 21,
   "id": "de89c3ee",
   "metadata": {},
   "outputs": [
    {
     "data": {
      "text/plain": [
       "str"
      ]
     },
     "execution_count": 21,
     "metadata": {},
     "output_type": "execute_result"
    }
   ],
   "source": [
    "type(word)"
   ]
  },
  {
   "cell_type": "code",
   "execution_count": 22,
   "id": "0173d75b",
   "metadata": {},
   "outputs": [
    {
     "data": {
      "text/plain": [
       "22"
      ]
     },
     "execution_count": 22,
     "metadata": {},
     "output_type": "execute_result"
    }
   ],
   "source": [
    "len(word) # length starts with 1\n",
    "# index starts withs 0"
   ]
  },
  {
   "cell_type": "code",
   "execution_count": 23,
   "id": "54ec4125",
   "metadata": {},
   "outputs": [
    {
     "data": {
      "text/plain": [
       "'My Name is Mohan Yadav'"
      ]
     },
     "execution_count": 23,
     "metadata": {},
     "output_type": "execute_result"
    }
   ],
   "source": [
    "word"
   ]
  },
  {
   "cell_type": "code",
   "execution_count": 24,
   "id": "98494399",
   "metadata": {},
   "outputs": [
    {
     "data": {
      "text/plain": [
       "'my name is mohan yadav'"
      ]
     },
     "execution_count": 24,
     "metadata": {},
     "output_type": "execute_result"
    }
   ],
   "source": [
    "# lower() Method\n",
    "word.lower()"
   ]
  },
  {
   "cell_type": "code",
   "execution_count": 25,
   "id": "f3d07b7a",
   "metadata": {},
   "outputs": [
    {
     "data": {
      "text/plain": [
       "'MY NAME IS MOHAN YADAV'"
      ]
     },
     "execution_count": 25,
     "metadata": {},
     "output_type": "execute_result"
    }
   ],
   "source": [
    "# upper() Method\n",
    "word.upper()"
   ]
  },
  {
   "cell_type": "code",
   "execution_count": 27,
   "id": "9356d203",
   "metadata": {},
   "outputs": [
    {
     "data": {
      "text/plain": [
       "'Ma Name is Mohan Yadav'"
      ]
     },
     "execution_count": 27,
     "metadata": {},
     "output_type": "execute_result"
    }
   ],
   "source": [
    "# replace() Method\n",
    "word.replace(\"y\",\"a\")"
   ]
  },
  {
   "cell_type": "code",
   "execution_count": 29,
   "id": "5e10d946",
   "metadata": {},
   "outputs": [
    {
     "data": {
      "text/plain": [
       "'My Name is Mohan Yadav'"
      ]
     },
     "execution_count": 29,
     "metadata": {},
     "output_type": "execute_result"
    }
   ],
   "source": [
    "word"
   ]
  },
  {
   "cell_type": "code",
   "execution_count": 34,
   "id": "27ec8b61",
   "metadata": {},
   "outputs": [
    {
     "data": {
      "text/plain": [
       "'My Name is Mohan Yadav'"
      ]
     },
     "execution_count": 34,
     "metadata": {},
     "output_type": "execute_result"
    }
   ],
   "source": [
    "word.replace(\"yadav\",\"Gandhi\") # y is capital in yadav,thats why can't replace"
   ]
  },
  {
   "cell_type": "code",
   "execution_count": 35,
   "id": "7b2d060d",
   "metadata": {},
   "outputs": [
    {
     "data": {
      "text/plain": [
       "'My Name is Mohan Gandhi'"
      ]
     },
     "execution_count": 35,
     "metadata": {},
     "output_type": "execute_result"
    }
   ],
   "source": [
    "word.replace(\"Yadav\",\"Gandhi\") # give asusally either small or \n",
    "#cAPITAL IN ORIGINAL STRING THEN ONLY REPLACE"
   ]
  },
  {
   "cell_type": "code",
   "execution_count": 36,
   "id": "9f36b250",
   "metadata": {},
   "outputs": [],
   "source": [
    "# count() Method\n",
    "str1 = \"Hello Hello World\""
   ]
  },
  {
   "cell_type": "code",
   "execution_count": 37,
   "id": "f5d3f584",
   "metadata": {},
   "outputs": [
    {
     "data": {
      "text/plain": [
       "'Hello Hello World'"
      ]
     },
     "execution_count": 37,
     "metadata": {},
     "output_type": "execute_result"
    }
   ],
   "source": [
    "str1"
   ]
  },
  {
   "cell_type": "code",
   "execution_count": 38,
   "id": "1d616bd6",
   "metadata": {},
   "outputs": [
    {
     "ename": "TypeError",
     "evalue": "count() takes at least 1 argument (0 given)",
     "output_type": "error",
     "traceback": [
      "\u001b[1;31m---------------------------------------------------------------------------\u001b[0m",
      "\u001b[1;31mTypeError\u001b[0m                                 Traceback (most recent call last)",
      "Cell \u001b[1;32mIn[38], line 1\u001b[0m\n\u001b[1;32m----> 1\u001b[0m \u001b[43mstr1\u001b[49m\u001b[38;5;241;43m.\u001b[39;49m\u001b[43mcount\u001b[49m\u001b[43m(\u001b[49m\u001b[43m)\u001b[49m\n",
      "\u001b[1;31mTypeError\u001b[0m: count() takes at least 1 argument (0 given)"
     ]
    }
   ],
   "source": [
    "str1.count()"
   ]
  },
  {
   "cell_type": "code",
   "execution_count": 39,
   "id": "ef10cfd1",
   "metadata": {},
   "outputs": [
    {
     "data": {
      "text/plain": [
       "2"
      ]
     },
     "execution_count": 39,
     "metadata": {},
     "output_type": "execute_result"
    }
   ],
   "source": [
    "str1.count(\"Hello\")"
   ]
  },
  {
   "cell_type": "code",
   "execution_count": 41,
   "id": "7bff53b9",
   "metadata": {},
   "outputs": [
    {
     "data": {
      "text/plain": [
       "'My Name is Mohan Yadav'"
      ]
     },
     "execution_count": 41,
     "metadata": {},
     "output_type": "execute_result"
    }
   ],
   "source": [
    "word"
   ]
  },
  {
   "cell_type": "code",
   "execution_count": 40,
   "id": "95c5fa63",
   "metadata": {},
   "outputs": [
    {
     "data": {
      "text/plain": [
       "4"
      ]
     },
     "execution_count": 40,
     "metadata": {},
     "output_type": "execute_result"
    }
   ],
   "source": [
    "word.count(\"a\")"
   ]
  },
  {
   "cell_type": "code",
   "execution_count": 49,
   "id": "3337f869",
   "metadata": {},
   "outputs": [],
   "source": [
    "# find() Method\n",
    "# finding the index of  subString\n",
    "\n",
    "s1 = \"This is sparta!!!\""
   ]
  },
  {
   "cell_type": "code",
   "execution_count": 50,
   "id": "13f99cce",
   "metadata": {},
   "outputs": [
    {
     "ename": "TypeError",
     "evalue": "find() takes at least 1 argument (0 given)",
     "output_type": "error",
     "traceback": [
      "\u001b[1;31m---------------------------------------------------------------------------\u001b[0m",
      "\u001b[1;31mTypeError\u001b[0m                                 Traceback (most recent call last)",
      "Cell \u001b[1;32mIn[50], line 1\u001b[0m\n\u001b[1;32m----> 1\u001b[0m \u001b[43ms1\u001b[49m\u001b[38;5;241;43m.\u001b[39;49m\u001b[43mfind\u001b[49m\u001b[43m(\u001b[49m\u001b[43m)\u001b[49m\n",
      "\u001b[1;31mTypeError\u001b[0m: find() takes at least 1 argument (0 given)"
     ]
    }
   ],
   "source": [
    "s1.find()"
   ]
  },
  {
   "cell_type": "code",
   "execution_count": 51,
   "id": "9bde9a70",
   "metadata": {},
   "outputs": [
    {
     "data": {
      "text/plain": [
       "8"
      ]
     },
     "execution_count": 51,
     "metadata": {},
     "output_type": "execute_result"
    }
   ],
   "source": [
    "s1.find(\"sparta\")"
   ]
  },
  {
   "cell_type": "code",
   "execution_count": 52,
   "id": "9e89f8c2",
   "metadata": {},
   "outputs": [
    {
     "data": {
      "text/plain": [
       "2"
      ]
     },
     "execution_count": 52,
     "metadata": {},
     "output_type": "execute_result"
    }
   ],
   "source": [
    "s1.find(\"is\")"
   ]
  },
  {
   "cell_type": "code",
   "execution_count": 53,
   "id": "42a79c1d",
   "metadata": {},
   "outputs": [
    {
     "data": {
      "text/plain": [
       "4"
      ]
     },
     "execution_count": 53,
     "metadata": {},
     "output_type": "execute_result"
    }
   ],
   "source": [
    "s1.find(\" \")"
   ]
  },
  {
   "cell_type": "code",
   "execution_count": 57,
   "id": "341dfce1",
   "metadata": {},
   "outputs": [],
   "source": [
    "# split() Method\n",
    "fruit = \"I like apples,mangoes,bananas\""
   ]
  },
  {
   "cell_type": "code",
   "execution_count": 58,
   "id": "78474acf",
   "metadata": {},
   "outputs": [
    {
     "data": {
      "text/plain": [
       "['I like apples', 'mangoes', 'bananas']"
      ]
     },
     "execution_count": 58,
     "metadata": {},
     "output_type": "execute_result"
    }
   ],
   "source": [
    "fruit.split(\",\")"
   ]
  },
  {
   "cell_type": "code",
   "execution_count": 59,
   "id": "042b8c3d",
   "metadata": {},
   "outputs": [],
   "source": [
    "my_date = \"15-2-2023\""
   ]
  },
  {
   "cell_type": "code",
   "execution_count": 60,
   "id": "82d22ced",
   "metadata": {},
   "outputs": [
    {
     "data": {
      "text/plain": [
       "['15', '2', '2023']"
      ]
     },
     "execution_count": 60,
     "metadata": {},
     "output_type": "execute_result"
    }
   ],
   "source": [
    "my_date.split(\"-\")"
   ]
  },
  {
   "cell_type": "code",
   "execution_count": null,
   "id": "289ddd95",
   "metadata": {},
   "outputs": [],
   "source": []
  }
 ],
 "metadata": {
  "kernelspec": {
   "display_name": "Python 3 (ipykernel)",
   "language": "python",
   "name": "python3"
  },
  "language_info": {
   "codemirror_mode": {
    "name": "ipython",
    "version": 3
   },
   "file_extension": ".py",
   "mimetype": "text/x-python",
   "name": "python",
   "nbconvert_exporter": "python",
   "pygments_lexer": "ipython3",
   "version": "3.11.2"
  }
 },
 "nbformat": 4,
 "nbformat_minor": 5
}
