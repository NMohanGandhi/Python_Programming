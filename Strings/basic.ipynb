{
 "cells": [
  {
   "cell_type": "markdown",
   "id": "2fd7af66",
   "metadata": {},
   "source": [
    "# String"
   ]
  },
  {
   "cell_type": "raw",
   "id": "a88f7de8",
   "metadata": {},
   "source": [
    "Any sequence of characters within either single quotes or double quotes is considered as a String"
   ]
  },
  {
   "cell_type": "code",
   "execution_count": 4,
   "id": "d839dd7e",
   "metadata": {},
   "outputs": [],
   "source": [
    "bdd= 'Mohandkneke'   # single quotes"
   ]
  },
  {
   "cell_type": "code",
   "execution_count": 5,
   "id": "23f9a074",
   "metadata": {},
   "outputs": [
    {
     "name": "stdout",
     "output_type": "stream",
     "text": [
      "Mohandkneke\n",
      "<class 'str'>\n"
     ]
    }
   ],
   "source": [
    "print(bdd)\n",
    "print(type(bdd))"
   ]
  },
  {
   "cell_type": "code",
   "execution_count": 1,
   "id": "6f655c23",
   "metadata": {},
   "outputs": [],
   "source": [
    "S = \"yadav\"   # Double Quotes"
   ]
  },
  {
   "cell_type": "code",
   "execution_count": 2,
   "id": "a1276b30",
   "metadata": {},
   "outputs": [
    {
     "name": "stdout",
     "output_type": "stream",
     "text": [
      "yadav\n",
      "<class 'str'>\n"
     ]
    }
   ],
   "source": [
    "print(S)\n",
    "print(type(S))"
   ]
  },
  {
   "cell_type": "code",
   "execution_count": 3,
   "id": "4cbfdac3",
   "metadata": {},
   "outputs": [
    {
     "name": "stdout",
     "output_type": "stream",
     "text": [
      "<class 'str'>\n"
     ]
    }
   ],
   "source": [
    "s = 'Mohan'     # single quotes\n",
    "print(type(s))"
   ]
  },
  {
   "cell_type": "code",
   "execution_count": 4,
   "id": "3f41f73f",
   "metadata": {},
   "outputs": [
    {
     "name": "stdout",
     "output_type": "stream",
     "text": [
      "Mohan\n",
      "<class 'str'>\n"
     ]
    }
   ],
   "source": [
    "print(s)\n",
    "print(type(s))"
   ]
  },
  {
   "cell_type": "markdown",
   "id": "7c86a5c0",
   "metadata": {},
   "source": [
    "# multi-line String"
   ]
  },
  {
   "cell_type": "raw",
   "id": "a42d59cc",
   "metadata": {},
   "source": [
    "We can define multi-line String literals by using triple single or double quotes."
   ]
  },
  {
   "cell_type": "code",
   "execution_count": 2,
   "id": "5f9b2917",
   "metadata": {},
   "outputs": [],
   "source": [
    "name = '''My \n",
    "        Name\n",
    "        Mohan\n",
    "        Yadav'''"
   ]
  },
  {
   "cell_type": "code",
   "execution_count": 3,
   "id": "a395a27e",
   "metadata": {},
   "outputs": [
    {
     "name": "stdout",
     "output_type": "stream",
     "text": [
      "My \n",
      "        Name\n",
      "        Mohan\n",
      "        Yadav\n",
      "<class 'str'>\n"
     ]
    }
   ],
   "source": [
    "print(name)\n",
    "print(type(name))"
   ]
  },
  {
   "cell_type": "code",
   "execution_count": 6,
   "id": "245c4513",
   "metadata": {},
   "outputs": [
    {
     "name": "stdout",
     "output_type": "stream",
     "text": [
      "MOhan yadav\n",
      "<class 'str'>\n"
     ]
    }
   ],
   "source": [
    "s = \"\"\"MOhan yadav\"\"\"   # triple double quotes\n",
    "print(s)\n",
    "print(type(s))"
   ]
  },
  {
   "cell_type": "code",
   "execution_count": 7,
   "id": "9913c385",
   "metadata": {},
   "outputs": [
    {
     "name": "stdout",
     "output_type": "stream",
     "text": [
      "MOHAN GANDHI\n",
      "<class 'str'>\n"
     ]
    }
   ],
   "source": [
    "s1 = '''MOHAN GANDHI'''  # triple single quotes\n",
    "print(s1)\n",
    "print(type(s1))"
   ]
  },
  {
   "cell_type": "markdown",
   "id": "bd20ed10",
   "metadata": {},
   "source": [
    "# Using triple quotes for multiple line comments "
   ]
  },
  {
   "cell_type": "code",
   "execution_count": 8,
   "id": "3aa81815",
   "metadata": {},
   "outputs": [],
   "source": [
    "Name  = \"\"\"Hello welcome to \n",
    "           world of python.\n",
    "           working with python is very fun\"\"\""
   ]
  },
  {
   "cell_type": "code",
   "execution_count": 9,
   "id": "53e15d66",
   "metadata": {},
   "outputs": [
    {
     "name": "stdout",
     "output_type": "stream",
     "text": [
      "Hello welcome to \n",
      "           world of python.\n",
      "           working with python is very fun\n",
      "<class 'str'>\n"
     ]
    }
   ],
   "source": [
    "print(Name)\n",
    "print(type(Name))"
   ]
  },
  {
   "cell_type": "markdown",
   "id": "2142975c",
   "metadata": {},
   "source": [
    "# String Indexing "
   ]
  },
  {
   "cell_type": "code",
   "execution_count": 13,
   "id": "05dff25c",
   "metadata": {},
   "outputs": [],
   "source": [
    "x = \"MOHANYADAV\"  "
   ]
  },
  {
   "cell_type": "code",
   "execution_count": 14,
   "id": "b3fc1a75",
   "metadata": {},
   "outputs": [
    {
     "name": "stdout",
     "output_type": "stream",
     "text": [
      "MOHANYADAV\n",
      "<class 'str'>\n",
      "1986191616304\n"
     ]
    }
   ],
   "source": [
    "print(x)\n",
    "print(type(x))\n",
    "print(id(x))"
   ]
  },
  {
   "cell_type": "code",
   "execution_count": 15,
   "id": "a05acf4d",
   "metadata": {},
   "outputs": [
    {
     "name": "stdout",
     "output_type": "stream",
     "text": [
      "M\n",
      "O\n",
      "H\n",
      "A\n",
      "N\n",
      "Y\n",
      "A\n",
      "D\n"
     ]
    }
   ],
   "source": [
    "# Positive indexing or Forward index\n",
    "print (x[0]) \n",
    "print (x[1]) \n",
    "print (x[2]) \n",
    "print (x[3]) \n",
    "print (x[4]) \n",
    "print (x[5]) \n",
    "print (x[6])  \n",
    "print (x[7])\n"
   ]
  },
  {
   "cell_type": "code",
   "execution_count": 16,
   "id": "3fd33875",
   "metadata": {},
   "outputs": [
    {
     "name": "stdout",
     "output_type": "stream",
     "text": [
      "V\n",
      "A\n",
      "D\n",
      "A\n",
      "Y\n",
      "N\n",
      "A\n",
      "H\n"
     ]
    }
   ],
   "source": [
    "# negative indexing or Backward index\n",
    "\n",
    "print(x[-1])\n",
    "print(x[-2])\n",
    "print(x[-3])\n",
    "print(x[-4])\n",
    "print(x[-5])\n",
    "print(x[-6])\n",
    "print(x[-7])\n",
    "print(x[-8])\n"
   ]
  },
  {
   "cell_type": "code",
   "execution_count": 18,
   "id": "a21c760f",
   "metadata": {},
   "outputs": [
    {
     "name": "stdout",
     "output_type": "stream",
     "text": [
      " MOHAN GANDHI\n",
      "<class 'str'>\n",
      "1986220150192\n"
     ]
    }
   ],
   "source": [
    "x1 = \" MOHAN GANDHI\"\n",
    "print(x1)\n",
    "print(type(x1))\n",
    "print(id(x1))"
   ]
  },
  {
   "cell_type": "code",
   "execution_count": 23,
   "id": "e24c6efe",
   "metadata": {},
   "outputs": [
    {
     "name": "stdout",
     "output_type": "stream",
     "text": [
      " \n",
      "M\n",
      "O\n",
      "H\n",
      "A\n",
      "N\n",
      " \n",
      "G\n",
      "A\n",
      "N\n",
      "D\n",
      "H\n",
      "I\n"
     ]
    },
    {
     "ename": "IndexError",
     "evalue": "string index out of range",
     "output_type": "error",
     "traceback": [
      "\u001b[1;31m---------------------------------------------------------------------------\u001b[0m",
      "\u001b[1;31mIndexError\u001b[0m                                Traceback (most recent call last)",
      "Input \u001b[1;32mIn [23]\u001b[0m, in \u001b[0;36m<cell line: 14>\u001b[1;34m()\u001b[0m\n\u001b[0;32m     12\u001b[0m \u001b[38;5;28mprint\u001b[39m(x1[\u001b[38;5;241m11\u001b[39m])\n\u001b[0;32m     13\u001b[0m \u001b[38;5;28mprint\u001b[39m(x1[\u001b[38;5;241m12\u001b[39m])\n\u001b[1;32m---> 14\u001b[0m \u001b[38;5;28mprint\u001b[39m(\u001b[43mx1\u001b[49m\u001b[43m[\u001b[49m\u001b[38;5;241;43m13\u001b[39;49m\u001b[43m]\u001b[49m)\n\u001b[0;32m     15\u001b[0m \u001b[38;5;28mprint\u001b[39m(x1[\u001b[38;5;241m2\u001b[39m])\n\u001b[0;32m     16\u001b[0m \u001b[38;5;28mprint\u001b[39m(x1[\u001b[38;5;241m200\u001b[39m])\n",
      "\u001b[1;31mIndexError\u001b[0m: string index out of range"
     ]
    }
   ],
   "source": [
    "print(x1[0]) #space is trated as empty character\n",
    "print(x1[1])\n",
    "print(x1[2])\n",
    "print(x1[3])\n",
    "print(x1[4])\n",
    "print(x1[5])\n",
    "print(x1[6])\n",
    "print(x1[7])\n",
    "print(x1[8])\n",
    "print(x1[9])\n",
    "print(x1[10])\n",
    "print(x1[11])\n",
    "print(x1[12])\n",
    "print(x1[13])\n",
    "print(x1[2])\n",
    "print(x1[200])\n"
   ]
  },
  {
   "cell_type": "code",
   "execution_count": 24,
   "id": "62260369",
   "metadata": {},
   "outputs": [
    {
     "ename": "TypeError",
     "evalue": "string indices must be integers",
     "output_type": "error",
     "traceback": [
      "\u001b[1;31m---------------------------------------------------------------------------\u001b[0m",
      "\u001b[1;31mTypeError\u001b[0m                                 Traceback (most recent call last)",
      "Input \u001b[1;32mIn [24]\u001b[0m, in \u001b[0;36m<cell line: 3>\u001b[1;34m()\u001b[0m\n\u001b[0;32m      1\u001b[0m \u001b[38;5;66;03m# using float numbers:\u001b[39;00m\n\u001b[1;32m----> 3\u001b[0m \u001b[43mx1\u001b[49m\u001b[43m[\u001b[49m\u001b[38;5;241;43m1.5\u001b[39;49m\u001b[43m]\u001b[49m\n",
      "\u001b[1;31mTypeError\u001b[0m: string indices must be integers"
     ]
    }
   ],
   "source": [
    "# using float numbers:\n",
    "\n",
    "x1[1.5]    #TypeError: string indices must be integers"
   ]
  },
  {
   "cell_type": "code",
   "execution_count": 31,
   "id": "fabe6301",
   "metadata": {},
   "outputs": [
    {
     "data": {
      "text/plain": [
       "'M'"
      ]
     },
     "execution_count": 31,
     "metadata": {},
     "output_type": "execute_result"
    }
   ],
   "source": [
    "x1[True]"
   ]
  },
  {
   "cell_type": "code",
   "execution_count": 32,
   "id": "23001c36",
   "metadata": {},
   "outputs": [
    {
     "data": {
      "text/plain": [
       "' '"
      ]
     },
     "execution_count": 32,
     "metadata": {},
     "output_type": "execute_result"
    }
   ],
   "source": [
    "x1[False]"
   ]
  },
  {
   "cell_type": "code",
   "execution_count": null,
   "id": "fc90869b",
   "metadata": {},
   "outputs": [],
   "source": []
  },
  {
   "cell_type": "code",
   "execution_count": null,
   "id": "10fe30f3",
   "metadata": {},
   "outputs": [],
   "source": []
  }
 ],
 "metadata": {
  "kernelspec": {
   "display_name": "Python 3 (ipykernel)",
   "language": "python",
   "name": "python3"
  },
  "language_info": {
   "codemirror_mode": {
    "name": "ipython",
    "version": 3
   },
   "file_extension": ".py",
   "mimetype": "text/x-python",
   "name": "python",
   "nbconvert_exporter": "python",
   "pygments_lexer": "ipython3",
   "version": "3.10.2"
  }
 },
 "nbformat": 4,
 "nbformat_minor": 5
}
