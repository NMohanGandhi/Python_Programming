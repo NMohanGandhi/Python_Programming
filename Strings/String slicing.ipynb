{
 "cells": [
  {
   "cell_type": "markdown",
   "id": "64b04ae5",
   "metadata": {},
   "source": [
    "# String slicing"
   ]
  },
  {
   "cell_type": "raw",
   "id": "13e970a5",
   "metadata": {},
   "source": [
    "We can access a range of characters using slicing.\n",
    "The slicing operator is colon (:)"
   ]
  },
  {
   "cell_type": "code",
   "execution_count": 1,
   "id": "7914d7aa",
   "metadata": {},
   "outputs": [],
   "source": [
    "a = \"MOHAN GANDHI\""
   ]
  },
  {
   "cell_type": "code",
   "execution_count": 3,
   "id": "af9e8a55",
   "metadata": {},
   "outputs": [
    {
     "name": "stdout",
     "output_type": "stream",
     "text": [
      "M\n",
      "MO\n",
      "MOH\n",
      "MOHA\n",
      "MOHAN\n",
      "MOHAN \n",
      "MOHAN G\n",
      "MOHAN GA\n",
      "MOHAN GAN\n",
      "MOHAN GAND\n",
      "MOHAN GANDH\n",
      "MOHAN GANDHI\n"
     ]
    }
   ],
   "source": [
    "print(a[0:1])\n",
    "print(a[0:2])\n",
    "print(a[0:3])\n",
    "print(a[0:4])\n",
    "print(a[0:5])\n",
    "print(a[0:6])\n",
    "print(a[0:7])\n",
    "print(a[0:8])\n",
    "print(a[0:9])\n",
    "print(a[0:10])\n",
    "print(a[0:11])\n",
    "print(a[0:12])\n"
   ]
  },
  {
   "cell_type": "code",
   "execution_count": 4,
   "id": "0806165d",
   "metadata": {},
   "outputs": [],
   "source": [
    "a1 = 'Python Narayana'"
   ]
  },
  {
   "cell_type": "code",
   "execution_count": 5,
   "id": "d8dc9a24",
   "metadata": {},
   "outputs": [
    {
     "data": {
      "text/plain": [
       "'Python Narayana'"
      ]
     },
     "execution_count": 5,
     "metadata": {},
     "output_type": "execute_result"
    }
   ],
   "source": [
    "a1[:]"
   ]
  },
  {
   "cell_type": "code",
   "execution_count": 6,
   "id": "40448640",
   "metadata": {},
   "outputs": [
    {
     "data": {
      "text/plain": [
       "'Python Narayana'"
      ]
     },
     "execution_count": 6,
     "metadata": {},
     "output_type": "execute_result"
    }
   ],
   "source": [
    "a1[::]"
   ]
  },
  {
   "cell_type": "code",
   "execution_count": 7,
   "id": "44b5cee0",
   "metadata": {},
   "outputs": [
    {
     "data": {
      "text/plain": [
       "'on Narayana'"
      ]
     },
     "execution_count": 7,
     "metadata": {},
     "output_type": "execute_result"
    }
   ],
   "source": [
    "a1[4:]"
   ]
  },
  {
   "cell_type": "code",
   "execution_count": 14,
   "id": "3f12aecb",
   "metadata": {},
   "outputs": [
    {
     "data": {
      "text/plain": [
       "'Pytho'"
      ]
     },
     "execution_count": 14,
     "metadata": {},
     "output_type": "execute_result"
    }
   ],
   "source": [
    "a1[0:5]"
   ]
  },
  {
   "cell_type": "code",
   "execution_count": 12,
   "id": "b6e4fa1c",
   "metadata": {},
   "outputs": [
    {
     "data": {
      "text/plain": [
       "'Pyth'"
      ]
     },
     "execution_count": 12,
     "metadata": {},
     "output_type": "execute_result"
    }
   ],
   "source": [
    "a1[:4]"
   ]
  },
  {
   "cell_type": "code",
   "execution_count": 11,
   "id": "927cf81f",
   "metadata": {},
   "outputs": [
    {
     "data": {
      "text/plain": [
       "'Python Na'"
      ]
     },
     "execution_count": 11,
     "metadata": {},
     "output_type": "execute_result"
    }
   ],
   "source": [
    "a1[:-6]"
   ]
  },
  {
   "cell_type": "code",
   "execution_count": 10,
   "id": "9d3952b8",
   "metadata": {},
   "outputs": [
    {
     "data": {
      "text/plain": [
       "'Python N'"
      ]
     },
     "execution_count": 10,
     "metadata": {},
     "output_type": "execute_result"
    }
   ],
   "source": [
    "a1[:-7]"
   ]
  },
  {
   "cell_type": "code",
   "execution_count": 9,
   "id": "87fe7fb7",
   "metadata": {},
   "outputs": [
    {
     "data": {
      "text/plain": [
       "'n Narayana'"
      ]
     },
     "execution_count": 9,
     "metadata": {},
     "output_type": "execute_result"
    }
   ],
   "source": [
    "a1[-10:]"
   ]
  },
  {
   "cell_type": "code",
   "execution_count": null,
   "id": "589660f0",
   "metadata": {},
   "outputs": [],
   "source": []
  }
 ],
 "metadata": {
  "kernelspec": {
   "display_name": "Python 3 (ipykernel)",
   "language": "python",
   "name": "python3"
  },
  "language_info": {
   "codemirror_mode": {
    "name": "ipython",
    "version": 3
   },
   "file_extension": ".py",
   "mimetype": "text/x-python",
   "name": "python",
   "nbconvert_exporter": "python",
   "pygments_lexer": "ipython3",
   "version": "3.11.2"
  }
 },
 "nbformat": 4,
 "nbformat_minor": 5
}
